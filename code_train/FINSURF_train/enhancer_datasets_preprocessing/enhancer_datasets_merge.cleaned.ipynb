{
 "cells": [
  {
   "cell_type": "markdown",
   "metadata": {},
   "source": [
    "# IMPORTS"
   ]
  },
  {
   "cell_type": "code",
   "execution_count": 36,
   "metadata": {
    "ExecuteTime": {
     "end_time": "2018-12-16T19:11:54.676081Z",
     "start_time": "2018-12-16T19:11:54.671581Z"
    }
   },
   "outputs": [],
   "source": [
    "from IPython.display import display\n",
    "import time\n",
    "\n",
    "import datetime\n",
    "import importlib\n",
    "import re\n",
    "import multiprocessing\n",
    "import subprocess\n",
    "\n",
    "import scipy.stats\n",
    "import random\n",
    "import gzip\n",
    "import glob\n",
    "import io\n",
    "import os\n",
    "import sys"
   ]
  },
  {
   "cell_type": "code",
   "execution_count": 2,
   "metadata": {
    "ExecuteTime": {
     "end_time": "2018-12-16T18:57:55.396581Z",
     "start_time": "2018-12-16T18:57:54.510471Z"
    }
   },
   "outputs": [
    {
     "data": {
      "text/plain": [
       "<module 'dataframes' from '/users/ldog/moyon/Thesis//scripts/dataframes.py'>"
      ]
     },
     "execution_count": 2,
     "metadata": {},
     "output_type": "execute_result"
    }
   ],
   "source": [
    "if not '/users/ldog/moyon/Thesis//scripts/' in sys.path:\n",
    "    sys.path.insert(0,'/users/ldog/moyon/Thesis//scripts/')\n",
    "\n",
    "import dataframes\n",
    "from dataframes import * \n",
    "importlib.reload(dataframes)"
   ]
  },
  {
   "cell_type": "code",
   "execution_count": 239,
   "metadata": {
    "ExecuteTime": {
     "end_time": "2018-12-18T15:12:41.778896Z",
     "start_time": "2018-12-18T15:12:41.767044Z"
    }
   },
   "outputs": [
    {
     "name": "stdout",
     "output_type": "stream",
     "text": [
      "Temporary bedfiles are in /localtmp/moyon/tmppe7pa7bg\n"
     ]
    }
   ],
   "source": [
    "import tempfile\n",
    "import pybedtools as pbt\n",
    "tmp_dir = \"/localtmp/moyon/\"\n",
    "if not os.path.exists(tmp_dir):\n",
    "    os.makedirs(tmp_dir)\n",
    "    \n",
    "tmp_dir = tempfile.TemporaryDirectory(dir=tmp_dir).name\n",
    "os.makedirs(tmp_dir)\n",
    "print(\"Temporary bedfiles are in {}\".format(tmp_dir))\n",
    "\n",
    "pbt.set_tempdir(tmp_dir)"
   ]
  },
  {
   "cell_type": "code",
   "execution_count": 4,
   "metadata": {
    "ExecuteTime": {
     "end_time": "2018-12-16T18:57:58.961395Z",
     "start_time": "2018-12-16T18:57:57.997905Z"
    }
   },
   "outputs": [],
   "source": [
    "import matplotlib as mpl\n",
    "import matplotlib.pyplot as plt\n",
    "import seaborn as sns\n",
    "\n",
    "sns.set(style=\"whitegrid\")\n",
    "husl = sns.color_palette('husl',32)\n",
    "sns.palplot(husl)\n",
    "plt.close()\n",
    "plt.style.use('seaborn-notebook')\n",
    "\n",
    "SMALL_SIZE=16\n",
    "MEDIUM_SIZE=20\n",
    "BIGGER_SIZE=22\n",
    "\n",
    "mpl.rc('font',size=SMALL_SIZE)\n",
    "mpl.rc('axes',titlesize=SMALL_SIZE)\n",
    "mpl.rc('axes',labelsize=MEDIUM_SIZE)\n",
    "mpl.rc('xtick',labelsize=SMALL_SIZE)\n",
    "mpl.rc('ytick',labelsize=SMALL_SIZE)\n",
    "mpl.rc('legend',fontsize=SMALL_SIZE)\n",
    "mpl.rc('figure',titlesize=BIGGER_SIZE)"
   ]
  },
  {
   "cell_type": "code",
   "execution_count": 257,
   "metadata": {
    "ExecuteTime": {
     "end_time": "2018-12-18T15:17:07.511696Z",
     "start_time": "2018-12-18T15:17:07.504306Z"
    }
   },
   "outputs": [],
   "source": [
    "command_line_merge = \"\"\"bedops --partition {inputfile} | awk -F \"\\\\t\" '{{ if ($2<$3) {{print $0}} }}' | bedtools sort -i - | bedmap --echo --echo-map-id --delim \"\\\\t\" --multidelim {delim} - {inputfile} > {outputfile}\"\"\""
   ]
  },
  {
   "cell_type": "code",
   "execution_count": 256,
   "metadata": {
    "ExecuteTime": {
     "end_time": "2018-12-18T15:16:56.412050Z",
     "start_time": "2018-12-18T15:16:56.404957Z"
    }
   },
   "outputs": [
    {
     "name": "stdout",
     "output_type": "stream",
     "text": [
      "bedops --partition {inputfile} | awk -F \"\\t\" '{{ if ($2<$3) {{print $0}} }}' | bedtools sort -i - | bedmap --echo --echo-map-id --delim \"\t\" --multidelim {delim} - {inputfile} > {outputfile}\n"
     ]
    }
   ],
   "source": [
    "print(command_line_merge)"
   ]
  },
  {
   "cell_type": "code",
   "execution_count": 342,
   "metadata": {
    "ExecuteTime": {
     "end_time": "2018-12-18T16:34:39.056719Z",
     "start_time": "2018-12-18T16:34:39.039239Z"
    }
   },
   "outputs": [],
   "source": [
    "def from_list_genes_to_kv_pairs(str_list_genes):\n",
    "    \"\"\"\n",
    "    \n",
    "    Transforms:\n",
    "        'PLEKHN1|AGRN|AGRN|HES4|HES4'\n",
    "    Into:\n",
    "        'score:1,targets:PLEKHN1|score:2,targets:HES4;AGRN'\n",
    "    \"\"\"\n",
    "    return '|'.join(pd.Series(str_list_genes.split('|')).value_counts().astype(str).reset_index().set_axis(['targets','score'],axis=1,inplace=False\n",
    "                                                                                                     ).groupby('score')['targets'].apply(lambda v: ';'.join(v)\n",
    "                                                                                                                                          ).reset_index().apply(lambda row: dataframes.convert_keyvalue_pairs_to_str(list(zip(row.index, row.values))),axis=1\n",
    "                                                                                                                                          ).values)\n",
    "                                                                                                    "
   ]
  },
  {
   "cell_type": "markdown",
   "metadata": {},
   "source": [
    "# MAIN"
   ]
  },
  {
   "cell_type": "markdown",
   "metadata": {},
   "source": [
    "For all resources, we need to assess that there's no overlap between two regions in the same resource ; otherwise we need to decide of a way to merge the information into a single one.\n",
    "\n",
    "Then, the resources can be merged into a single file, where each unique region is associated to a set of target genes with format as follow :\n",
    "\n",
    "```source:<namesource>;targets:<target1,target2>;score:<score>|source:<namesource>;targets:<target1,target2>;score:<score>```\n",
    "\n",
    "\n",
    "From there I will derive a table with the information on shared genes."
   ]
  },
  {
   "cell_type": "markdown",
   "metadata": {},
   "source": [
    "## GENE NAMES"
   ]
  },
  {
   "cell_type": "markdown",
   "metadata": {},
   "source": [
    "For unification, we need to make sure that we use all the same gene names across all files."
   ]
  },
  {
   "cell_type": "code",
   "execution_count": 6,
   "metadata": {
    "ExecuteTime": {
     "end_time": "2018-12-16T18:59:29.969418Z",
     "start_time": "2018-12-16T18:59:29.471199Z"
    }
   },
   "outputs": [
    {
     "name": "stdout",
     "output_type": "stream",
     "text": [
      "GENCODE:\n",
      "\tNb of unique gene_id: 56,869\n",
      "\tNb of unique gene_name: 56,706\n",
      "HGNC:\n",
      "\tNb of unique gene_id: 35,498\n",
      "\tNb of unique approved symbol: 46,016\n"
     ]
    },
    {
     "data": {
      "text/html": [
       "<div>\n",
       "<style scoped>\n",
       "    .dataframe tbody tr th:only-of-type {\n",
       "        vertical-align: middle;\n",
       "    }\n",
       "\n",
       "    .dataframe tbody tr th {\n",
       "        vertical-align: top;\n",
       "    }\n",
       "\n",
       "    .dataframe thead th {\n",
       "        text-align: right;\n",
       "    }\n",
       "</style>\n",
       "<table border=\"1\" class=\"dataframe\">\n",
       "  <thead>\n",
       "    <tr style=\"text-align: right;\">\n",
       "      <th></th>\n",
       "      <th>gene_id</th>\n",
       "      <th>gene_name</th>\n",
       "    </tr>\n",
       "  </thead>\n",
       "  <tbody>\n",
       "    <tr>\n",
       "      <th>0</th>\n",
       "      <td>ENSG00000223972</td>\n",
       "      <td>DDX11L1</td>\n",
       "    </tr>\n",
       "    <tr>\n",
       "      <th>1</th>\n",
       "      <td>ENSG00000227232</td>\n",
       "      <td>WASH7P</td>\n",
       "    </tr>\n",
       "    <tr>\n",
       "      <th>2</th>\n",
       "      <td>ENSG00000243485</td>\n",
       "      <td>MIR1302-2HG</td>\n",
       "    </tr>\n",
       "    <tr>\n",
       "      <th>3</th>\n",
       "      <td>ENSG00000237613</td>\n",
       "      <td>FAM138A</td>\n",
       "    </tr>\n",
       "    <tr>\n",
       "      <th>4</th>\n",
       "      <td>ENSG00000268020</td>\n",
       "      <td>OR4G4P</td>\n",
       "    </tr>\n",
       "  </tbody>\n",
       "</table>\n",
       "</div>"
      ],
      "text/plain": [
       "           gene_id    gene_name\n",
       "0  ENSG00000223972      DDX11L1\n",
       "1  ENSG00000227232       WASH7P\n",
       "2  ENSG00000243485  MIR1302-2HG\n",
       "3  ENSG00000237613      FAM138A\n",
       "4  ENSG00000268020       OR4G4P"
      ]
     },
     "metadata": {},
     "output_type": "display_data"
    },
    {
     "data": {
      "text/html": [
       "<div>\n",
       "<style scoped>\n",
       "    .dataframe tbody tr th:only-of-type {\n",
       "        vertical-align: middle;\n",
       "    }\n",
       "\n",
       "    .dataframe tbody tr th {\n",
       "        vertical-align: top;\n",
       "    }\n",
       "\n",
       "    .dataframe thead th {\n",
       "        text-align: right;\n",
       "    }\n",
       "</style>\n",
       "<table border=\"1\" class=\"dataframe\">\n",
       "  <thead>\n",
       "    <tr style=\"text-align: right;\">\n",
       "      <th></th>\n",
       "      <th>HGNC ID</th>\n",
       "      <th>Approved symbol</th>\n",
       "      <th>Approved name</th>\n",
       "      <th>Status</th>\n",
       "      <th>Previous symbols</th>\n",
       "      <th>Synonyms</th>\n",
       "      <th>Chromosome</th>\n",
       "      <th>Accession numbers</th>\n",
       "      <th>RefSeq IDs</th>\n",
       "      <th>Previous name</th>\n",
       "      <th>Ensembl gene ID</th>\n",
       "    </tr>\n",
       "  </thead>\n",
       "  <tbody>\n",
       "    <tr>\n",
       "      <th>0</th>\n",
       "      <td>HGNC:5</td>\n",
       "      <td>A1BG</td>\n",
       "      <td>alpha-1-B glycoprotein</td>\n",
       "      <td>Approved</td>\n",
       "      <td>NaN</td>\n",
       "      <td>NaN</td>\n",
       "      <td>19q13.43</td>\n",
       "      <td>NaN</td>\n",
       "      <td>NM_130786</td>\n",
       "      <td>NaN</td>\n",
       "      <td>ENSG00000121410</td>\n",
       "    </tr>\n",
       "    <tr>\n",
       "      <th>1</th>\n",
       "      <td>HGNC:37133</td>\n",
       "      <td>A1BG-AS1</td>\n",
       "      <td>A1BG antisense RNA 1</td>\n",
       "      <td>Approved</td>\n",
       "      <td>NCRNA00181, A1BGAS, A1BG-AS</td>\n",
       "      <td>FLJ23569</td>\n",
       "      <td>19q13.43</td>\n",
       "      <td>BC040926</td>\n",
       "      <td>NR_015380</td>\n",
       "      <td>non-protein coding RNA 181, \"A1BG antisense RN...</td>\n",
       "      <td>ENSG00000268895</td>\n",
       "    </tr>\n",
       "    <tr>\n",
       "      <th>2</th>\n",
       "      <td>HGNC:24086</td>\n",
       "      <td>A1CF</td>\n",
       "      <td>APOBEC1 complementation factor</td>\n",
       "      <td>Approved</td>\n",
       "      <td>NaN</td>\n",
       "      <td>ACF, ASP, ACF64, ACF65, APOBEC1CF</td>\n",
       "      <td>10q11.23</td>\n",
       "      <td>AF271790</td>\n",
       "      <td>NM_014576</td>\n",
       "      <td>NaN</td>\n",
       "      <td>ENSG00000148584</td>\n",
       "    </tr>\n",
       "    <tr>\n",
       "      <th>3</th>\n",
       "      <td>HGNC:6</td>\n",
       "      <td>A1S9T~withdrawn</td>\n",
       "      <td>symbol withdrawn, see UBA1</td>\n",
       "      <td>Symbol Withdrawn</td>\n",
       "      <td>NaN</td>\n",
       "      <td>NaN</td>\n",
       "      <td>NaN</td>\n",
       "      <td>NaN</td>\n",
       "      <td>NaN</td>\n",
       "      <td>NaN</td>\n",
       "      <td>NaN</td>\n",
       "    </tr>\n",
       "    <tr>\n",
       "      <th>4</th>\n",
       "      <td>HGNC:7</td>\n",
       "      <td>A2M</td>\n",
       "      <td>alpha-2-macroglobulin</td>\n",
       "      <td>Approved</td>\n",
       "      <td>NaN</td>\n",
       "      <td>FWP007, S863-7, CPAMD5</td>\n",
       "      <td>12p13.31</td>\n",
       "      <td>BX647329, X68728, M11313</td>\n",
       "      <td>NM_000014</td>\n",
       "      <td>NaN</td>\n",
       "      <td>ENSG00000175899</td>\n",
       "    </tr>\n",
       "  </tbody>\n",
       "</table>\n",
       "</div>"
      ],
      "text/plain": [
       "      HGNC ID  Approved symbol                   Approved name  \\\n",
       "0      HGNC:5             A1BG          alpha-1-B glycoprotein   \n",
       "1  HGNC:37133         A1BG-AS1            A1BG antisense RNA 1   \n",
       "2  HGNC:24086             A1CF  APOBEC1 complementation factor   \n",
       "3      HGNC:6  A1S9T~withdrawn      symbol withdrawn, see UBA1   \n",
       "4      HGNC:7              A2M           alpha-2-macroglobulin   \n",
       "\n",
       "             Status             Previous symbols  \\\n",
       "0          Approved                          NaN   \n",
       "1          Approved  NCRNA00181, A1BGAS, A1BG-AS   \n",
       "2          Approved                          NaN   \n",
       "3  Symbol Withdrawn                          NaN   \n",
       "4          Approved                          NaN   \n",
       "\n",
       "                            Synonyms Chromosome         Accession numbers  \\\n",
       "0                                NaN   19q13.43                       NaN   \n",
       "1                           FLJ23569   19q13.43                  BC040926   \n",
       "2  ACF, ASP, ACF64, ACF65, APOBEC1CF   10q11.23                  AF271790   \n",
       "3                                NaN        NaN                       NaN   \n",
       "4             FWP007, S863-7, CPAMD5   12p13.31  BX647329, X68728, M11313   \n",
       "\n",
       "  RefSeq IDs                                      Previous name  \\\n",
       "0  NM_130786                                                NaN   \n",
       "1  NR_015380  non-protein coding RNA 181, \"A1BG antisense RN...   \n",
       "2  NM_014576                                                NaN   \n",
       "3        NaN                                                NaN   \n",
       "4  NM_000014                                                NaN   \n",
       "\n",
       "   Ensembl gene ID  \n",
       "0  ENSG00000121410  \n",
       "1  ENSG00000268895  \n",
       "2  ENSG00000148584  \n",
       "3              NaN  \n",
       "4  ENSG00000175899  "
      ]
     },
     "metadata": {},
     "output_type": "display_data"
    }
   ],
   "source": [
    "gencode_gene_table = pd.read_table(\"/users/ldog/moyon/Thesis/RegulationData/hg19/gene_tables/gencode_ensemblIDs_to_geneNames.tsv.gz\")\n",
    "# Here I add a set of mapping from the stripped names and ids.\n",
    "#NOTE: not necessary anymore since I decided to remove the suffix from the gene IDs in the GENCODE files generation.\n",
    "# stripped_ids_df = gencode_gene_table.copy()\n",
    "# stripped_ids_df.gene_id = stripped_ids_df.gene_id.str.split('.', expand=True).iloc[:,0]\n",
    "# gencode_gene_table = pd.concat([stripped_ids_df, gencode_gene_table]).reset_index(drop=True)\n",
    "\n",
    "\n",
    "hgnc_gene_table = pd.read_table(\"/users/ldog/moyon/Thesis/RegulationData/hg19/gene_tables/20181122_HUGO_genenames_table.tsv\")\n",
    "\n",
    "print(\"GENCODE:\\n\\tNb of unique gene_id: {:,}\\n\\tNb of unique gene_name: {:,}\".format(len(gencode_gene_table.gene_id.unique()),\n",
    "                                                                                  len(gencode_gene_table.gene_name.unique())))\n",
    "print(\"HGNC:\\n\\tNb of unique gene_id: {:,}\\n\\tNb of unique approved symbol: {:,}\".format(len(hgnc_gene_table['Ensembl gene ID'].unique()),\n",
    "                                                                                     len(hgnc_gene_table['Approved symbol'])))\n",
    "\n",
    "display(gencode_gene_table.head())\n",
    "display(hgnc_gene_table.head())"
   ]
  },
  {
   "cell_type": "code",
   "execution_count": 7,
   "metadata": {
    "ExecuteTime": {
     "end_time": "2018-12-16T18:59:46.633556Z",
     "start_time": "2018-12-16T18:59:46.600578Z"
    }
   },
   "outputs": [],
   "source": [
    "MAP_TO_NAMEs = gencode_gene_table.set_index('gene_id')['gene_name'].to_dict()"
   ]
  },
  {
   "cell_type": "markdown",
   "metadata": {},
   "source": [
    "## Enhancers"
   ]
  },
  {
   "cell_type": "code",
   "execution_count": 21,
   "metadata": {
    "ExecuteTime": {
     "end_time": "2018-12-16T19:05:14.855873Z",
     "start_time": "2018-12-16T19:05:14.838801Z"
    },
    "code_folding": [
     0
    ]
   },
   "outputs": [],
   "source": [
    "def get_updated_symbols(gene_list, hgnc_gene_table):\n",
    "    \"\"\" from a list of gene symbols, get updated version from the Hugo gene table.\n",
    "    \n",
    "    gene symbols in gene_list should not be in the \"Approved symbol\" section of the table.\n",
    "    Hence we look for them in the Previous symbols and Synonyms sections.\n",
    "    \"\"\"\n",
    "    \n",
    "    ignored_genes = []\n",
    "    false_positives_prev = {}\n",
    "    false_positives_syn = {}\n",
    "    genes_not_found = []\n",
    "    update_gene = {}\n",
    "    \n",
    "    for g in gene_list:\n",
    "        if len(g) < 3 :\n",
    "            ignored_genes.append(g)\n",
    "            continue\n",
    "            \n",
    "        previous_symbols_candidates = hgnc_gene_table['Previous symbols'].str.contains(g).replace(np.nan,False)\n",
    "\n",
    "        not_found=True\n",
    "\n",
    "        if not previous_symbols_candidates.sum()==0:\n",
    "            potential_candidates = hgnc_gene_table.loc[previous_symbols_candidates,:]\n",
    "            # Now check if it is an exact match:\n",
    "            all_previous_symbols = []\n",
    "            for r, values in potential_candidates.loc[:,['Approved symbol','Previous symbols']].iterrows():\n",
    "                previous_symbols = re.split(',| ',values['Previous symbols'])\n",
    "                all_previous_symbols += previous_symbols\n",
    "                if g in previous_symbols:\n",
    "                    not_found = False\n",
    "                    update_gene[g] = values['Approved symbol']\n",
    "                    break\n",
    "\n",
    "            else:\n",
    "                false_positives_prev[g] = all_previous_symbols\n",
    "\n",
    "        synonyms_candidates = hgnc_gene_table['Synonyms'].str.contains(g).replace(np.nan,False)\n",
    "\n",
    "        if not synonyms_candidates.sum()==0:\n",
    "            potential_candidates = hgnc_gene_table.loc[synonyms_candidates,:]\n",
    "            # Now check if it is an exact match:\n",
    "            all_synonyms = []\n",
    "            for r, values in potential_candidates.loc[:,['Approved symbol','Synonyms']].iterrows():\n",
    "                synonyms = re.split(',| ', values['Synonyms'])\n",
    "                all_synonyms += synonyms\n",
    "                if g in synonyms:\n",
    "                    not_found = False\n",
    "                    update_gene[g] = values['Approved symbol']\n",
    "                    break\n",
    "            else:\n",
    "                false_positives_syn[g] = all_synonyms\n",
    "        if not_found:\n",
    "            genes_not_found.append(g)\n",
    "            \n",
    "    return update_gene, ignored_genes, false_positives_prev, false_positives_syn, genes_not_found"
   ]
  },
  {
   "cell_type": "markdown",
   "metadata": {},
   "source": [
    "### DYOGEN"
   ]
  },
  {
   "cell_type": "code",
   "execution_count": 9,
   "metadata": {
    "ExecuteTime": {
     "end_time": "2018-12-16T19:00:05.129998Z",
     "start_time": "2018-12-16T18:59:58.585297Z"
    }
   },
   "outputs": [
    {
     "data": {
      "text/html": [
       "<div>\n",
       "<style scoped>\n",
       "    .dataframe tbody tr th:only-of-type {\n",
       "        vertical-align: middle;\n",
       "    }\n",
       "\n",
       "    .dataframe tbody tr th {\n",
       "        vertical-align: top;\n",
       "    }\n",
       "\n",
       "    .dataframe thead th {\n",
       "        text-align: right;\n",
       "    }\n",
       "</style>\n",
       "<table border=\"1\" class=\"dataframe\">\n",
       "  <thead>\n",
       "    <tr style=\"text-align: right;\">\n",
       "      <th></th>\n",
       "      <th>chromosome</th>\n",
       "      <th>start</th>\n",
       "      <th>end</th>\n",
       "      <th>ID</th>\n",
       "      <th>target</th>\n",
       "      <th>segregation.score</th>\n",
       "      <th>length</th>\n",
       "      <th>phyloP</th>\n",
       "      <th>danRer7.CNE.target.orthology</th>\n",
       "      <th>jumping</th>\n",
       "      <th>danRer7</th>\n",
       "    </tr>\n",
       "  </thead>\n",
       "  <tbody>\n",
       "    <tr>\n",
       "      <th>0</th>\n",
       "      <td>chr1</td>\n",
       "      <td>25639</td>\n",
       "      <td>25727</td>\n",
       "      <td>chr1_1</td>\n",
       "      <td>ENSG00000187608_ENSG00000188976_ENSG0000026817...</td>\n",
       "      <td>0.01</td>\n",
       "      <td>89</td>\n",
       "      <td>2.077020</td>\n",
       "      <td>Nothing</td>\n",
       "      <td>NaN</td>\n",
       "      <td>danRer7.No</td>\n",
       "    </tr>\n",
       "    <tr>\n",
       "      <th>1</th>\n",
       "      <td>chr1</td>\n",
       "      <td>46734</td>\n",
       "      <td>46765</td>\n",
       "      <td>chr1_6</td>\n",
       "      <td>ENSG00000185097_ENSG00000235249_ENSG00000186092</td>\n",
       "      <td>0.43</td>\n",
       "      <td>32</td>\n",
       "      <td>-0.038677</td>\n",
       "      <td>Nothing</td>\n",
       "      <td>NaN</td>\n",
       "      <td>danRer7.No</td>\n",
       "    </tr>\n",
       "    <tr>\n",
       "      <th>2</th>\n",
       "      <td>chr1</td>\n",
       "      <td>46774</td>\n",
       "      <td>46841</td>\n",
       "      <td>chr1_7</td>\n",
       "      <td>ENSG00000186092</td>\n",
       "      <td>0.48</td>\n",
       "      <td>68</td>\n",
       "      <td>0.245910</td>\n",
       "      <td>Nothing</td>\n",
       "      <td>Flanking</td>\n",
       "      <td>danRer7.No</td>\n",
       "    </tr>\n",
       "    <tr>\n",
       "      <th>3</th>\n",
       "      <td>chr1</td>\n",
       "      <td>46842</td>\n",
       "      <td>46888</td>\n",
       "      <td>chr1_8</td>\n",
       "      <td>ENSG00000186092</td>\n",
       "      <td>0.48</td>\n",
       "      <td>47</td>\n",
       "      <td>0.192826</td>\n",
       "      <td>Nothing</td>\n",
       "      <td>Flanking</td>\n",
       "      <td>danRer7.No</td>\n",
       "    </tr>\n",
       "    <tr>\n",
       "      <th>4</th>\n",
       "      <td>chr1</td>\n",
       "      <td>47234</td>\n",
       "      <td>47255</td>\n",
       "      <td>chr1_9</td>\n",
       "      <td>ENSG00000185097_ENSG00000235249</td>\n",
       "      <td>0.31</td>\n",
       "      <td>22</td>\n",
       "      <td>0.414286</td>\n",
       "      <td>Nothing</td>\n",
       "      <td>NaN</td>\n",
       "      <td>danRer7.No</td>\n",
       "    </tr>\n",
       "  </tbody>\n",
       "</table>\n",
       "</div>"
      ],
      "text/plain": [
       "  chromosome  start    end      ID  \\\n",
       "0       chr1  25639  25727  chr1_1   \n",
       "1       chr1  46734  46765  chr1_6   \n",
       "2       chr1  46774  46841  chr1_7   \n",
       "3       chr1  46842  46888  chr1_8   \n",
       "4       chr1  47234  47255  chr1_9   \n",
       "\n",
       "                                              target  segregation.score  \\\n",
       "0  ENSG00000187608_ENSG00000188976_ENSG0000026817...               0.01   \n",
       "1    ENSG00000185097_ENSG00000235249_ENSG00000186092               0.43   \n",
       "2                                    ENSG00000186092               0.48   \n",
       "3                                    ENSG00000186092               0.48   \n",
       "4                    ENSG00000185097_ENSG00000235249               0.31   \n",
       "\n",
       "   length    phyloP danRer7.CNE.target.orthology   jumping     danRer7  \n",
       "0      89  2.077020                      Nothing       NaN  danRer7.No  \n",
       "1      32 -0.038677                      Nothing       NaN  danRer7.No  \n",
       "2      68  0.245910                      Nothing  Flanking  danRer7.No  \n",
       "3      47  0.192826                      Nothing  Flanking  danRer7.No  \n",
       "4      22  0.414286                      Nothing       NaN  danRer7.No  "
      ]
     },
     "metadata": {},
     "output_type": "display_data"
    }
   ],
   "source": [
    "path_dyo = \"/users/ldog/moyon/Thesis/RegulationData/hg19/enhancers/DYOGEN/raw/hg19_CNEs_PEGASUS.data.gz\"\n",
    "df_dyo = pd.read_table(path_dyo)\n",
    "display(df_dyo.head())"
   ]
  },
  {
   "cell_type": "markdown",
   "metadata": {},
   "source": [
    "We reformat the dataset into a more readable format, unified with other resources. "
   ]
  },
  {
   "cell_type": "code",
   "execution_count": 10,
   "metadata": {
    "ExecuteTime": {
     "end_time": "2018-12-16T19:01:25.887088Z",
     "start_time": "2018-12-16T19:01:22.556484Z"
    }
   },
   "outputs": [
    {
     "data": {
      "text/html": [
       "<div>\n",
       "<style scoped>\n",
       "    .dataframe tbody tr th:only-of-type {\n",
       "        vertical-align: middle;\n",
       "    }\n",
       "\n",
       "    .dataframe tbody tr th {\n",
       "        vertical-align: top;\n",
       "    }\n",
       "\n",
       "    .dataframe thead th {\n",
       "        text-align: right;\n",
       "    }\n",
       "</style>\n",
       "<table border=\"1\" class=\"dataframe\">\n",
       "  <thead>\n",
       "    <tr style=\"text-align: right;\">\n",
       "      <th></th>\n",
       "      <th>chrom</th>\n",
       "      <th>start</th>\n",
       "      <th>end</th>\n",
       "      <th>name</th>\n",
       "      <th>score</th>\n",
       "      <th>targets</th>\n",
       "    </tr>\n",
       "  </thead>\n",
       "  <tbody>\n",
       "    <tr>\n",
       "      <th>0</th>\n",
       "      <td>chr1</td>\n",
       "      <td>25639</td>\n",
       "      <td>25727</td>\n",
       "      <td>PEGASUS_chr1_1</td>\n",
       "      <td>0.01</td>\n",
       "      <td>ENSG00000187608,ENSG00000188976,ENSG0000026817...</td>\n",
       "    </tr>\n",
       "    <tr>\n",
       "      <th>1</th>\n",
       "      <td>chr1</td>\n",
       "      <td>46734</td>\n",
       "      <td>46765</td>\n",
       "      <td>PEGASUS_chr1_6</td>\n",
       "      <td>0.43</td>\n",
       "      <td>ENSG00000185097,ENSG00000235249,ENSG00000186092</td>\n",
       "    </tr>\n",
       "    <tr>\n",
       "      <th>2</th>\n",
       "      <td>chr1</td>\n",
       "      <td>46774</td>\n",
       "      <td>46841</td>\n",
       "      <td>PEGASUS_chr1_7</td>\n",
       "      <td>0.48</td>\n",
       "      <td>ENSG00000186092</td>\n",
       "    </tr>\n",
       "    <tr>\n",
       "      <th>3</th>\n",
       "      <td>chr1</td>\n",
       "      <td>46842</td>\n",
       "      <td>46888</td>\n",
       "      <td>PEGASUS_chr1_8</td>\n",
       "      <td>0.48</td>\n",
       "      <td>ENSG00000186092</td>\n",
       "    </tr>\n",
       "    <tr>\n",
       "      <th>4</th>\n",
       "      <td>chr1</td>\n",
       "      <td>47234</td>\n",
       "      <td>47255</td>\n",
       "      <td>PEGASUS_chr1_9</td>\n",
       "      <td>0.31</td>\n",
       "      <td>ENSG00000185097,ENSG00000235249</td>\n",
       "    </tr>\n",
       "  </tbody>\n",
       "</table>\n",
       "</div>"
      ],
      "text/plain": [
       "  chrom  start    end            name  score  \\\n",
       "0  chr1  25639  25727  PEGASUS_chr1_1   0.01   \n",
       "1  chr1  46734  46765  PEGASUS_chr1_6   0.43   \n",
       "2  chr1  46774  46841  PEGASUS_chr1_7   0.48   \n",
       "3  chr1  46842  46888  PEGASUS_chr1_8   0.48   \n",
       "4  chr1  47234  47255  PEGASUS_chr1_9   0.31   \n",
       "\n",
       "                                             targets  \n",
       "0  ENSG00000187608,ENSG00000188976,ENSG0000026817...  \n",
       "1    ENSG00000185097,ENSG00000235249,ENSG00000186092  \n",
       "2                                    ENSG00000186092  \n",
       "3                                    ENSG00000186092  \n",
       "4                    ENSG00000185097,ENSG00000235249  "
      ]
     },
     "metadata": {},
     "output_type": "display_data"
    }
   ],
   "source": [
    "red_df_dyo = df_dyo.loc[:,['chromosome','start','end','segregation.score']].assign(targets=df_dyo.target.apply(lambda v: ','.join(v.split('_'))),\n",
    "                                                                                   name='PEGASUS_'+df_dyo['ID']).rename(columns={'chromosome':'chrom','segregation.score':'score'}\n",
    "                                                                                                                        ).loc[:,['chrom','start','end','name','score','targets']]\n",
    "display(red_df_dyo.head())"
   ]
  },
  {
   "cell_type": "markdown",
   "metadata": {},
   "source": [
    "##### Gene IDs to gene names"
   ]
  },
  {
   "cell_type": "markdown",
   "metadata": {},
   "source": [
    "All target gene names are represented by ENSEMBL gene IDs here."
   ]
  },
  {
   "cell_type": "code",
   "execution_count": 11,
   "metadata": {
    "ExecuteTime": {
     "end_time": "2018-12-16T19:01:32.644320Z",
     "start_time": "2018-12-16T19:01:25.894655Z"
    }
   },
   "outputs": [],
   "source": [
    "dyo_targs = pd.Series(list(set(list(itt.chain(*red_df_dyo.targets.str.split(',').values)))))"
   ]
  },
  {
   "cell_type": "code",
   "execution_count": 12,
   "metadata": {
    "ExecuteTime": {
     "end_time": "2018-12-16T19:01:32.697842Z",
     "start_time": "2018-12-16T19:01:32.647405Z"
    },
    "scrolled": false
   },
   "outputs": [
    {
     "name": "stdout",
     "output_type": "stream",
     "text": [
      "Percentage of genes in GENCODE mapping: 0.987 (18,092 / 18,339)\n"
     ]
    }
   ],
   "source": [
    "print(\"Percentage of genes in GENCODE mapping: {:.3f} ({:,} / {:,})\".format(dyo_targs.isin(gencode_gene_table.gene_id).sum()/dyo_targs.shape[0], \n",
    "                                                                    dyo_targs.isin(gencode_gene_table.gene_id).sum(),dyo_targs.shape[0]))"
   ]
  },
  {
   "cell_type": "code",
   "execution_count": 14,
   "metadata": {
    "ExecuteTime": {
     "end_time": "2018-12-16T19:02:26.954034Z",
     "start_time": "2018-12-16T19:02:26.870834Z"
    }
   },
   "outputs": [],
   "source": [
    "# Export genes that are not found.\n",
    "dyo_not_found = dyo_targs.loc[~dyo_targs.isin(gencode_gene_table.gene_id)]\n",
    "with open(\"/import/kg_dyows05/moyon/Thesis/projects/merge_enhancers/generated_files/PEGASUS_missing_gene_ids.tsv\",'w') as f:\n",
    "    for g in dyo_not_found.unique():\n",
    "        f.write(g)\n",
    "        f.write('\\n')"
   ]
  },
  {
   "cell_type": "code",
   "execution_count": 26,
   "metadata": {
    "ExecuteTime": {
     "end_time": "2018-12-16T19:08:40.266253Z",
     "start_time": "2018-12-16T19:08:39.140276Z"
    }
   },
   "outputs": [],
   "source": [
    "# Perform manually the mapping\n",
    "\n",
    "# And load the results\n",
    "with open(\"/import/kg_dyows05/moyon/Thesis/projects/merge_enhancers/generated_files/20181216_ensemblGrch37_ID_converted_PEGASUS.tsv\",'r') as f:\n",
    "    all_results = []\n",
    "    new_gene = []\n",
    "    for l in f:\n",
    "        fields = l.strip('\\n').split(', ')\n",
    "        if fields[0] == '': continue\n",
    "        if fields[0] == 'Old stable ID':\n",
    "            if len(new_gene)>0:\n",
    "                df_gene = pd.DataFrame(new_gene[1:],columns=new_gene[0])\n",
    "                all_results.append(df_gene)\n",
    "                new_gene = [fields]\n",
    "            else:\n",
    "                new_gene.append(fields)\n",
    "        else:\n",
    "            new_gene.append(fields)\n",
    "            \n",
    "    df_gene = pd.DataFrame(new_gene[1:],columns=new_gene[0])\n",
    "    all_results.append(df_gene)\n",
    "    \n",
    "dyo_not_found_biomart_table = pd.concat([table.sort_values(by=['Release','Mapping score'],\n",
    "                                                           ascending=[False,False]\n",
    "                                                          ).assign(request=request_g)\n",
    "                                         for request_g, table in zip(dyo_not_found.values, all_results)])\n",
    "\n",
    "dyo_not_found_biomart_table.Release = dyo_not_found_biomart_table.Release.astype(float)"
   ]
  },
  {
   "cell_type": "code",
   "execution_count": 27,
   "metadata": {
    "ExecuteTime": {
     "end_time": "2018-12-16T19:08:56.165900Z",
     "start_time": "2018-12-16T19:08:55.717080Z"
    }
   },
   "outputs": [
    {
     "name": "stdout",
     "output_type": "stream",
     "text": [
      "ENSG00000005955 was retired in latest Release (76)\n",
      "ENSG00000006074 was retired in latest Release (76)\n",
      "ENSG00000006075 was retired in latest Release (76)\n",
      "ENSG00000006114 was retired in latest Release (76)\n",
      "ENSG00000017373 was retired in latest Release (76)\n",
      "ENSG00000017621 was retired in latest Release (76)\n",
      "ENSG00000056661 was retired in latest Release (76)\n",
      "ENSG00000068793 was retired in latest Release (76)\n",
      "ENSG00000069712 was retired in latest Release (92)\n",
      "ENSG00000073009 was retired in latest Release (76)\n",
      "ENSG00000077809 was retired in latest Release (76)\n",
      "ENSG00000083842 was retired in latest Release (76)\n",
      "ENSG00000087916 was retired in latest Release (76)\n",
      "ENSG00000102069 was retired in latest Release (76)\n",
      "ENSG00000102080 was retired in latest Release (76)\n",
      "ENSG00000108264 was retired in latest Release (76)\n",
      "ENSG00000108270 was retired in latest Release (76)\n",
      "ENSG00000108272 was retired in latest Release (76)\n",
      "ENSG00000108278 was retired in latest Release (76)\n",
      "ENSG00000108292 was retired in latest Release (76)\n",
      "ENSG00000108294 was retired in latest Release (76)\n",
      "ENSG00000108296 was retired in latest Release (76)\n",
      "ENSG00000108753 was retired in latest Release (76)\n",
      "ENSG00000116957 was retired in latest Release (92)\n",
      "ENSG00000117289 was retired in latest Release (76)\n",
      "ENSG00000121848 was retired in latest Release (76)\n",
      "ENSG00000129277 was retired in latest Release (76)\n",
      "ENSG00000129282 was retired in latest Release (76)\n",
      "ENSG00000130201 was retired in latest Release (88)\n",
      "ENSG00000131795 was retired in latest Release (76)\n",
      "ENSG00000132130 was retired in latest Release (76)\n",
      "ENSG00000132142 was retired in latest Release (76)\n",
      "ENSG00000133149 was retired in latest Release (76)\n",
      "ENSG00000133808 was retired in latest Release (92)\n",
      "ENSG00000135213 was retired in latest Release (76)\n",
      "ENSG00000135847 was retired in latest Release (76)\n",
      "ENSG00000136653 was retired in latest Release (76)\n",
      "ENSG00000138041 was retired in latest Release (76)\n",
      "ENSG00000138297 was retired in latest Release (76)\n",
      "ENSG00000141140 was retired in latest Release (76)\n",
      "ENSG00000141141 was retired in latest Release (76)\n",
      "ENSG00000141720 was retired in latest Release (76)\n",
      "ENSG00000143140 was retired in latest Release (76)\n",
      "ENSG00000143466 was retired in latest Release (76)\n",
      "ENSG00000147382 was retired in latest Release (76)\n",
      "ENSG00000147402 was retired in latest Release (76)\n",
      "ENSG00000150076 was retired in latest Release (88)\n",
      "ENSG00000150526 was retired in latest Release (90)\n",
      "ENSG00000152022 was retired in latest Release (76)\n",
      "ENSG00000153575 was retired in latest Release (76)\n",
      "ENSG00000154035 was retired in latest Release (76)\n",
      "ENSG00000155130 was retired in latest Release (76)\n",
      "ENSG00000155640 was retired in latest Release (85)\n",
      "ENSG00000155984 was retired in latest Release (76)\n",
      "ENSG00000157950 was retired in latest Release (76)\n",
      "ENSG00000159123 was retired in latest Release (76)\n",
      "ENSG00000160844 was retired in latest Release (76)\n",
      "ENSG00000161326 was retired in latest Release (76)\n",
      "ENSG00000161572 was retired in latest Release (76)\n",
      "ENSG00000161573 was retired in latest Release (76)\n",
      "ENSG00000162290 was retired in latest Release (76)\n",
      "ENSG00000163067 was retired in latest Release (76)\n",
      "ENSG00000163113 was retired in latest Release (76)\n",
      "ENSG00000163386 was retired in latest Release (76)\n",
      "ENSG00000165659 was retired in latest Release (76)\n",
      "ENSG00000166748 was retired in latest Release (88)\n",
      "ENSG00000167230 was retired in latest Release (76)\n",
      "ENSG00000167236 was retired in latest Release (76)\n",
      "ENSG00000167383 was retired in latest Release (76)\n",
      "ENSG00000170803 was retired in latest Release (85)\n",
      "ENSG00000170866 was retired in latest Release (76)\n",
      "ENSG00000171129 was retired in latest Release (76)\n",
      "ENSG00000171282 was retired in latest Release (76)\n",
      "ENSG00000172381 was retired in latest Release (85)\n",
      "ENSG00000172774 was retired in latest Release (85)\n",
      "ENSG00000173088 was retired in latest Release (85)\n",
      "ENSG00000173566 was retired in latest Release (76)\n",
      "ENSG00000174083 was retired in latest Release (76)\n",
      "ENSG00000174093 was retired in latest Release (76)\n",
      "ENSG00000174100 was retired in latest Release (76)\n",
      "ENSG00000174111 was retired in latest Release (76)\n",
      "ENSG00000174374 was retired in latest Release (76)\n",
      "ENSG00000174942 was retired in latest Release (85)\n",
      "ENSG00000176274 was retired in latest Release (76)\n",
      "ENSG00000176879 was retired in latest Release (85)\n",
      "ENSG00000176937 was retired in latest Release (85)\n",
      "ENSG00000177764 was retired in latest Release (76)\n",
      "ENSG00000179294 was retired in latest Release (76)\n",
      "ENSG00000179837 was retired in latest Release (76)\n",
      "ENSG00000181039 was retired in latest Release (76)\n",
      "ENSG00000181464 was retired in latest Release (76)\n",
      "ENSG00000181689 was retired in latest Release (85)\n",
      "ENSG00000181935 was retired in latest Release (85)\n",
      "ENSG00000182242 was retired in latest Release (76)\n",
      "ENSG00000182319 was retired in latest Release (76)\n",
      "ENSG00000182500 was retired in latest Release (76)\n",
      "ENSG00000182646 was retired in latest Release (76)\n",
      "ENSG00000182851 was retired in latest Release (76)\n",
      "ENSG00000182909 was retired in latest Release (76)\n",
      "ENSG00000183038 was retired in latest Release (76)\n",
      "ENSG00000183086 was retired in latest Release (76)\n",
      "ENSG00000183103 was retired in latest Release (76)\n",
      "ENSG00000183130 was retired in latest Release (85)\n",
      "ENSG00000183473 was retired in latest Release (76)\n",
      "ENSG00000184040 was retired in latest Release (76)\n",
      "ENSG00000184682 was retired in latest Release (85)\n",
      "ENSG00000184750 was retired in latest Release (76)\n",
      "ENSG00000184779 was retired in latest Release (76)\n",
      "ENSG00000184881 was retired in latest Release (85)\n",
      "ENSG00000184886 was retired in latest Release (76)\n",
      "ENSG00000185254 was retired in latest Release (76)\n",
      "ENSG00000185554 was retired in latest Release (76)\n",
      "ENSG00000185945 was retired in latest Release (76)\n",
      "ENSG00000186117 was retired in latest Release (85)\n",
      "ENSG00000187145 was retired in latest Release (76)\n",
      "ENSG00000187456 was retired in latest Release (76)\n",
      "ENSG00000187695 was retired in latest Release (92)\n",
      "ENSG00000188069 was retired in latest Release (85)\n",
      "ENSG00000188279 was retired in latest Release (76)\n",
      "ENSG00000188888 was retired in latest Release (76)\n",
      "ENSG00000196326 was retired in latest Release (76)\n",
      "ENSG00000196409 was retired in latest Release (76)\n",
      "ENSG00000196533 was retired in latest Release (76)\n",
      "ENSG00000196622 was retired in latest Release (76)\n",
      "ENSG00000196648 was retired in latest Release (76)\n",
      "ENSG00000196936 was retired in latest Release (85)\n",
      "ENSG00000196963 was retired in latest Release (76)\n",
      "ENSG00000196987 was retired in latest Release (76)\n",
      "ENSG00000197263 was retired in latest Release (85)\n",
      "ENSG00000197851 was retired in latest Release (76)\n",
      "ENSG00000198250 was retired in latest Release (76)\n",
      "ENSG00000198339 was retired in latest Release (76)\n",
      "ENSG00000198477 was retired in latest Release (76)\n",
      "ENSG00000198877 was retired in latest Release (85)\n",
      "ENSG00000198946 was retired in latest Release (76)\n",
      "ENSG00000203924 was retired in latest Release (76)\n",
      "ENSG00000204365 was retired in latest Release (92)\n",
      "ENSG00000204645 was retired in latest Release (76)\n",
      "ENSG00000205081 was retired in latest Release (79)\n",
      "ENSG00000205441 was retired in latest Release (76)\n",
      "ENSG00000213494 was retired in latest Release (76)\n",
      "ENSG00000213922 was retired in latest Release (76)\n",
      "ENSG00000214215 was retired in latest Release (94)\n",
      "ENSG00000214556 was retired in latest Release (76)\n",
      "ENSG00000214597 was retired in latest Release (76)\n",
      "ENSG00000215046 was retired in latest Release (76)\n",
      "ENSG00000215405 was retired in latest Release (76)\n",
      "ENSG00000221961 was retired in latest Release (92)\n",
      "ENSG00000222040 was retired in latest Release (76)\n",
      "ENSG00000224201 was retired in latest Release (76)\n",
      "ENSG00000224226 was retired in latest Release (76)\n",
      "ENSG00000225485 was retired in latest Release (76)\n",
      "ENSG00000229729 was retired in latest Release (85)\n",
      "ENSG00000233280 was retired in latest Release (77)\n",
      "ENSG00000234298 was retired in latest Release (76)\n",
      "ENSG00000234972 was retired in latest Release (76)\n",
      "ENSG00000241043 was retired in latest Release (90)\n",
      "ENSG00000242013 was retired in latest Release (76)\n",
      "ENSG00000242180 was retired in latest Release (92)\n",
      "ENSG00000242284 was retired in latest Release (76)\n",
      "ENSG00000242384 was retired in latest Release (76)\n",
      "ENSG00000243440 was retired in latest Release (92)\n",
      "ENSG00000243452 was retired in latest Release (76)\n",
      "ENSG00000250232 was retired in latest Release (83)\n",
      "ENSG00000250588 was retired in latest Release (85)\n",
      "ENSG00000255103 was retired in latest Release (77)\n",
      "ENSG00000257482 was retired in latest Release (76)\n",
      "ENSG00000258697 was retired in latest Release (79)\n",
      "ENSG00000258941 was retired in latest Release (90)\n",
      "ENSG00000259034 was retired in latest Release (79)\n",
      "ENSG00000259063 was retired in latest Release (79)\n",
      "ENSG00000259128 was retired in latest Release (79)\n",
      "ENSG00000266949 was retired in latest Release (76)\n",
      "ENSG00000267596 was retired in latest Release (76)\n",
      "ENSG00000270024 was retired in latest Release (92)\n",
      "ENSG00000270386 was retired in latest Release (83)\n",
      "ENSG00000270466 was retired in latest Release (76)\n",
      "ENSG00000271786 was retired in latest Release (79)\n",
      "ENSG00000272658 was retired in latest Release (76)\n",
      "ENSG00000272781 was retired in latest Release (76)\n",
      "ENSG00000272790 was retired in latest Release (76)\n",
      "ENSG00000273266 was retired in latest Release (76)\n",
      "ENSG00000273303 was retired in latest Release (81)\n",
      "ENSG00000273439 was retired in latest Release (76)\n",
      "Out of 247 missing genes, 184 were retired ; 63 were re-assigned a new id ; of which 52 are found in GENCODE (and thus can be kept)\n"
     ]
    }
   ],
   "source": [
    "# Now for each requested gene, look at the best hit in the 76 version. If \"retired\", print it,\n",
    "# otherwise store the mapping.\n",
    "\n",
    "dyo_missing_map = {}\n",
    "dyo_n_retired = 0\n",
    "\n",
    "for missing_g_dyo, res_df in dyo_not_found_biomart_table.groupby('request'):\n",
    "    #print(res_df.loc[res_df.Release=='76',:,])\n",
    "    best_match = res_df.iloc[0,:]['New stable ID']\n",
    "    latest_release = res_df.iloc[0,:]['Release']\n",
    "    if best_match =='<retired>':\n",
    "        dyo_n_retired+=1\n",
    "        print(\"{} was retired in latest Release ({})\".format(missing_g_dyo, int(latest_release)))\n",
    "        \n",
    "    else:\n",
    "        dyo_missing_map[missing_g_dyo] = best_match.split('.')[0]\n",
    "        \n",
    "new_g_in_gencode = 0\n",
    "\n",
    "new_dyo_missing_map = {}\n",
    "for missing_g, new_g in dyo_missing_map.items():\n",
    "    if new_g in gencode_gene_table.gene_id.values:\n",
    "        new_g_in_gencode+=1\n",
    "        new_dyo_missing_map[missing_g] = new_g\n",
    "        \n",
    "print((\"Out of {} missing genes, {} were retired ; {} were re-assigned a new id ; of which {} are found in GENCODE (and thus can be kept)\"\n",
    "       ).format(len(dyo_not_found),dyo_n_retired, len(dyo_missing_map), new_g_in_gencode))"
   ]
  },
  {
   "cell_type": "code",
   "execution_count": 104,
   "metadata": {
    "ExecuteTime": {
     "end_time": "2018-12-17T10:05:25.774903Z",
     "start_time": "2018-12-17T10:03:09.278674Z"
    }
   },
   "outputs": [
    {
     "name": "stdout",
     "output_type": "stream",
     "text": [
      "CPU times: user 2min 15s, sys: 864 ms, total: 2min 16s\n",
      "Wall time: 2min 16s\n"
     ]
    }
   ],
   "source": [
    "%%time\n",
    "# Now apply this dictionary\n",
    "new_targs_dyo = red_df_dyo.targets.replace(np.nan,'').apply(lambda v: ';'.join([new_dyo_missing_map.get(g,'') if g in dyo_not_found.values else g for g in v.split(',')]).strip(' ; '))\n",
    "red_df_dyo['targets'] = new_targs_dyo"
   ]
  },
  {
   "cell_type": "markdown",
   "metadata": {
    "ExecuteTime": {
     "end_time": "2018-11-23T18:43:11.741721Z",
     "start_time": "2018-11-23T18:43:11.598696Z"
    }
   },
   "source": [
    "And finally remove any region not associated to a target gene."
   ]
  },
  {
   "cell_type": "code",
   "execution_count": 105,
   "metadata": {
    "ExecuteTime": {
     "end_time": "2018-12-17T10:05:25.987282Z",
     "start_time": "2018-12-17T10:05:25.783414Z"
    }
   },
   "outputs": [
    {
     "data": {
      "text/plain": [
       "0"
      ]
     },
     "execution_count": 105,
     "metadata": {},
     "output_type": "execute_result"
    }
   ],
   "source": [
    "sum(red_df_dyo.targets=='')"
   ]
  },
  {
   "cell_type": "code",
   "execution_count": 106,
   "metadata": {
    "ExecuteTime": {
     "end_time": "2018-12-17T10:05:26.814273Z",
     "start_time": "2018-12-17T10:05:25.990396Z"
    }
   },
   "outputs": [],
   "source": [
    "red_df_dyo = red_df_dyo.loc[red_df_dyo.targets!='',:]"
   ]
  },
  {
   "cell_type": "markdown",
   "metadata": {},
   "source": [
    "And now transform to gene names."
   ]
  },
  {
   "cell_type": "code",
   "execution_count": 107,
   "metadata": {
    "ExecuteTime": {
     "end_time": "2018-12-17T10:05:32.124604Z",
     "start_time": "2018-12-17T10:05:26.821887Z"
    }
   },
   "outputs": [],
   "source": [
    "red_df_dyo['targets_names'] = red_df_dyo.targets.apply(lambda v: ';'.join(tuple(set([MAP_TO_NAMEs[g] for g in v.split(';') if g!='']))).strip(' ; '))"
   ]
  },
  {
   "cell_type": "code",
   "execution_count": 108,
   "metadata": {
    "ExecuteTime": {
     "end_time": "2018-12-17T10:05:32.439903Z",
     "start_time": "2018-12-17T10:05:32.127845Z"
    }
   },
   "outputs": [
    {
     "data": {
      "text/html": [
       "<div>\n",
       "<style scoped>\n",
       "    .dataframe tbody tr th:only-of-type {\n",
       "        vertical-align: middle;\n",
       "    }\n",
       "\n",
       "    .dataframe tbody tr th {\n",
       "        vertical-align: top;\n",
       "    }\n",
       "\n",
       "    .dataframe thead th {\n",
       "        text-align: right;\n",
       "    }\n",
       "</style>\n",
       "<table border=\"1\" class=\"dataframe\">\n",
       "  <thead>\n",
       "    <tr style=\"text-align: right;\">\n",
       "      <th></th>\n",
       "      <th>chrom</th>\n",
       "      <th>start</th>\n",
       "      <th>end</th>\n",
       "      <th>name</th>\n",
       "      <th>score</th>\n",
       "      <th>targets</th>\n",
       "      <th>targets_names</th>\n",
       "    </tr>\n",
       "  </thead>\n",
       "  <tbody>\n",
       "    <tr>\n",
       "      <th>0</th>\n",
       "      <td>chr1</td>\n",
       "      <td>25639</td>\n",
       "      <td>25727</td>\n",
       "      <td>PEGASUS_chr1_1</td>\n",
       "      <td>0.01</td>\n",
       "      <td>ENSG00000187608;ENSG00000188976;ENSG0000026817...</td>\n",
       "      <td>SAMD11;HES4;ISG15;NOC2L;KLHL17;PLEKHN1;AL645608.1</td>\n",
       "    </tr>\n",
       "    <tr>\n",
       "      <th>1</th>\n",
       "      <td>chr1</td>\n",
       "      <td>46734</td>\n",
       "      <td>46765</td>\n",
       "      <td>PEGASUS_chr1_6</td>\n",
       "      <td>0.43</td>\n",
       "      <td>ENSG00000235249;ENSG00000186092</td>\n",
       "      <td>OR4F29;OR4F5</td>\n",
       "    </tr>\n",
       "    <tr>\n",
       "      <th>2</th>\n",
       "      <td>chr1</td>\n",
       "      <td>46774</td>\n",
       "      <td>46841</td>\n",
       "      <td>PEGASUS_chr1_7</td>\n",
       "      <td>0.48</td>\n",
       "      <td>ENSG00000186092</td>\n",
       "      <td>OR4F5</td>\n",
       "    </tr>\n",
       "    <tr>\n",
       "      <th>3</th>\n",
       "      <td>chr1</td>\n",
       "      <td>46842</td>\n",
       "      <td>46888</td>\n",
       "      <td>PEGASUS_chr1_8</td>\n",
       "      <td>0.48</td>\n",
       "      <td>ENSG00000186092</td>\n",
       "      <td>OR4F5</td>\n",
       "    </tr>\n",
       "    <tr>\n",
       "      <th>4</th>\n",
       "      <td>chr1</td>\n",
       "      <td>47234</td>\n",
       "      <td>47255</td>\n",
       "      <td>PEGASUS_chr1_9</td>\n",
       "      <td>0.31</td>\n",
       "      <td>ENSG00000235249</td>\n",
       "      <td>OR4F29</td>\n",
       "    </tr>\n",
       "  </tbody>\n",
       "</table>\n",
       "</div>"
      ],
      "text/plain": [
       "  chrom  start    end            name  score  \\\n",
       "0  chr1  25639  25727  PEGASUS_chr1_1   0.01   \n",
       "1  chr1  46734  46765  PEGASUS_chr1_6   0.43   \n",
       "2  chr1  46774  46841  PEGASUS_chr1_7   0.48   \n",
       "3  chr1  46842  46888  PEGASUS_chr1_8   0.48   \n",
       "4  chr1  47234  47255  PEGASUS_chr1_9   0.31   \n",
       "\n",
       "                                             targets  \\\n",
       "0  ENSG00000187608;ENSG00000188976;ENSG0000026817...   \n",
       "1                    ENSG00000235249;ENSG00000186092   \n",
       "2                                    ENSG00000186092   \n",
       "3                                    ENSG00000186092   \n",
       "4                                    ENSG00000235249   \n",
       "\n",
       "                                       targets_names  \n",
       "0  SAMD11;HES4;ISG15;NOC2L;KLHL17;PLEKHN1;AL645608.1  \n",
       "1                                       OR4F29;OR4F5  \n",
       "2                                              OR4F5  \n",
       "3                                              OR4F5  \n",
       "4                                             OR4F29  "
      ]
     },
     "execution_count": 108,
     "metadata": {},
     "output_type": "execute_result"
    }
   ],
   "source": [
    "red_df_dyo.head()"
   ]
  },
  {
   "cell_type": "markdown",
   "metadata": {},
   "source": [
    "##### Unique non-overlapping regions"
   ]
  },
  {
   "cell_type": "code",
   "execution_count": 109,
   "metadata": {
    "ExecuteTime": {
     "end_time": "2018-12-17T10:05:43.269913Z",
     "start_time": "2018-12-17T10:05:32.443080Z"
    },
    "scrolled": true
   },
   "outputs": [
    {
     "name": "stdout",
     "output_type": "stream",
     "text": [
      "Shape before merge: 1,308,095 ; shape after merge: 1,308,095\n",
      "\n",
      "\n",
      "CPU times: user 7.52 s, sys: 564 ms, total: 8.09 s\n",
      "Wall time: 10.8 s\n"
     ]
    }
   ],
   "source": [
    "%%time\n",
    "# Do not overlap book-ended regions\n",
    "merged_df_dyo = pbt.BedTool.from_dataframe(red_df_dyo.iloc[:,[0,1,2]]).merge(d=-1).to_dataframe()\n",
    "print(\"Shape before merge: {:,} ; shape after merge: {:,}\\n\\n\".format(red_df_dyo.shape[0], merged_df_dyo.shape[0]))"
   ]
  },
  {
   "cell_type": "markdown",
   "metadata": {},
   "source": [
    "If the option d is kept to 0, regions may be merged. But this should not be taken into account, as such situation might arise from the fact that two regions were identified as conserved, but they don't have the same depth of conservation / alignment."
   ]
  },
  {
   "cell_type": "markdown",
   "metadata": {},
   "source": [
    "##### Finale formatting"
   ]
  },
  {
   "cell_type": "code",
   "execution_count": 110,
   "metadata": {
    "ExecuteTime": {
     "end_time": "2018-12-17T10:05:43.301078Z",
     "start_time": "2018-12-17T10:05:43.273931Z"
    }
   },
   "outputs": [
    {
     "data": {
      "text/html": [
       "<div>\n",
       "<style scoped>\n",
       "    .dataframe tbody tr th:only-of-type {\n",
       "        vertical-align: middle;\n",
       "    }\n",
       "\n",
       "    .dataframe tbody tr th {\n",
       "        vertical-align: top;\n",
       "    }\n",
       "\n",
       "    .dataframe thead th {\n",
       "        text-align: right;\n",
       "    }\n",
       "</style>\n",
       "<table border=\"1\" class=\"dataframe\">\n",
       "  <thead>\n",
       "    <tr style=\"text-align: right;\">\n",
       "      <th></th>\n",
       "      <th>chrom</th>\n",
       "      <th>start</th>\n",
       "      <th>end</th>\n",
       "      <th>name</th>\n",
       "      <th>score</th>\n",
       "      <th>targets</th>\n",
       "      <th>targets_names</th>\n",
       "    </tr>\n",
       "  </thead>\n",
       "  <tbody>\n",
       "    <tr>\n",
       "      <th>0</th>\n",
       "      <td>chr1</td>\n",
       "      <td>25639</td>\n",
       "      <td>25727</td>\n",
       "      <td>PEGASUS_chr1_1</td>\n",
       "      <td>0.01</td>\n",
       "      <td>ENSG00000187608;ENSG00000188976;ENSG0000026817...</td>\n",
       "      <td>SAMD11;HES4;ISG15;NOC2L;KLHL17;PLEKHN1;AL645608.1</td>\n",
       "    </tr>\n",
       "    <tr>\n",
       "      <th>1</th>\n",
       "      <td>chr1</td>\n",
       "      <td>46734</td>\n",
       "      <td>46765</td>\n",
       "      <td>PEGASUS_chr1_6</td>\n",
       "      <td>0.43</td>\n",
       "      <td>ENSG00000235249;ENSG00000186092</td>\n",
       "      <td>OR4F29;OR4F5</td>\n",
       "    </tr>\n",
       "    <tr>\n",
       "      <th>2</th>\n",
       "      <td>chr1</td>\n",
       "      <td>46774</td>\n",
       "      <td>46841</td>\n",
       "      <td>PEGASUS_chr1_7</td>\n",
       "      <td>0.48</td>\n",
       "      <td>ENSG00000186092</td>\n",
       "      <td>OR4F5</td>\n",
       "    </tr>\n",
       "    <tr>\n",
       "      <th>3</th>\n",
       "      <td>chr1</td>\n",
       "      <td>46842</td>\n",
       "      <td>46888</td>\n",
       "      <td>PEGASUS_chr1_8</td>\n",
       "      <td>0.48</td>\n",
       "      <td>ENSG00000186092</td>\n",
       "      <td>OR4F5</td>\n",
       "    </tr>\n",
       "    <tr>\n",
       "      <th>4</th>\n",
       "      <td>chr1</td>\n",
       "      <td>47234</td>\n",
       "      <td>47255</td>\n",
       "      <td>PEGASUS_chr1_9</td>\n",
       "      <td>0.31</td>\n",
       "      <td>ENSG00000235249</td>\n",
       "      <td>OR4F29</td>\n",
       "    </tr>\n",
       "  </tbody>\n",
       "</table>\n",
       "</div>"
      ],
      "text/plain": [
       "  chrom  start    end            name  score  \\\n",
       "0  chr1  25639  25727  PEGASUS_chr1_1   0.01   \n",
       "1  chr1  46734  46765  PEGASUS_chr1_6   0.43   \n",
       "2  chr1  46774  46841  PEGASUS_chr1_7   0.48   \n",
       "3  chr1  46842  46888  PEGASUS_chr1_8   0.48   \n",
       "4  chr1  47234  47255  PEGASUS_chr1_9   0.31   \n",
       "\n",
       "                                             targets  \\\n",
       "0  ENSG00000187608;ENSG00000188976;ENSG0000026817...   \n",
       "1                    ENSG00000235249;ENSG00000186092   \n",
       "2                                    ENSG00000186092   \n",
       "3                                    ENSG00000186092   \n",
       "4                                    ENSG00000235249   \n",
       "\n",
       "                                       targets_names  \n",
       "0  SAMD11;HES4;ISG15;NOC2L;KLHL17;PLEKHN1;AL645608.1  \n",
       "1                                       OR4F29;OR4F5  \n",
       "2                                              OR4F5  \n",
       "3                                              OR4F5  \n",
       "4                                             OR4F29  "
      ]
     },
     "execution_count": 110,
     "metadata": {},
     "output_type": "execute_result"
    }
   ],
   "source": [
    "red_df_dyo.head()"
   ]
  },
  {
   "cell_type": "code",
   "execution_count": 111,
   "metadata": {
    "ExecuteTime": {
     "end_time": "2018-12-17T10:05:43.693703Z",
     "start_time": "2018-12-17T10:05:43.303952Z"
    }
   },
   "outputs": [
    {
     "data": {
      "text/plain": [
       "(0, 7)"
      ]
     },
     "execution_count": 111,
     "metadata": {},
     "output_type": "execute_result"
    }
   ],
   "source": [
    "red_df_dyo.loc[red_df_dyo.targets_names.replace(np.nan,'')=='',:].shape"
   ]
  },
  {
   "cell_type": "code",
   "execution_count": 118,
   "metadata": {
    "ExecuteTime": {
     "end_time": "2018-12-17T10:10:40.749409Z",
     "start_time": "2018-12-17T10:09:59.161057Z"
    }
   },
   "outputs": [
    {
     "data": {
      "text/html": [
       "<div>\n",
       "<style scoped>\n",
       "    .dataframe tbody tr th:only-of-type {\n",
       "        vertical-align: middle;\n",
       "    }\n",
       "\n",
       "    .dataframe tbody tr th {\n",
       "        vertical-align: top;\n",
       "    }\n",
       "\n",
       "    .dataframe thead th {\n",
       "        text-align: right;\n",
       "    }\n",
       "</style>\n",
       "<table border=\"1\" class=\"dataframe\">\n",
       "  <thead>\n",
       "    <tr style=\"text-align: right;\">\n",
       "      <th></th>\n",
       "      <th>chrom</th>\n",
       "      <th>start</th>\n",
       "      <th>end</th>\n",
       "      <th>name</th>\n",
       "    </tr>\n",
       "  </thead>\n",
       "  <tbody>\n",
       "    <tr>\n",
       "      <th>0</th>\n",
       "      <td>chr1</td>\n",
       "      <td>25639</td>\n",
       "      <td>25727</td>\n",
       "      <td>src:pegasus,score:0.01,targets:SAMD11;HES4;ISG...</td>\n",
       "    </tr>\n",
       "    <tr>\n",
       "      <th>1</th>\n",
       "      <td>chr1</td>\n",
       "      <td>46734</td>\n",
       "      <td>46765</td>\n",
       "      <td>src:pegasus,score:0.43,targets:OR4F29;OR4F5</td>\n",
       "    </tr>\n",
       "    <tr>\n",
       "      <th>2</th>\n",
       "      <td>chr1</td>\n",
       "      <td>46774</td>\n",
       "      <td>46841</td>\n",
       "      <td>src:pegasus,score:0.48,targets:OR4F5</td>\n",
       "    </tr>\n",
       "  </tbody>\n",
       "</table>\n",
       "</div>"
      ],
      "text/plain": [
       "  chrom  start    end                                               name\n",
       "0  chr1  25639  25727  src:pegasus,score:0.01,targets:SAMD11;HES4;ISG...\n",
       "1  chr1  46734  46765        src:pegasus,score:0.43,targets:OR4F29;OR4F5\n",
       "2  chr1  46774  46841               src:pegasus,score:0.48,targets:OR4F5"
      ]
     },
     "metadata": {},
     "output_type": "display_data"
    },
    {
     "name": "stdout",
     "output_type": "stream",
     "text": [
      "0\n",
      "0\n"
     ]
    }
   ],
   "source": [
    "output_df_dyo = red_df_dyo.assign(name = 'src:pegasus,'+'score:'+red_df_dyo.score.astype(str)+',targets:'+red_df_dyo.targets_names\n",
    "                                 ).loc[:,['chrom','start','end','name']]\n",
    "\n",
    "display(output_df_dyo.head(3))\n",
    "\n",
    "pbt.BedTool.from_dataframe(output_df_dyo\n",
    "                           ).to_dataframe().to_csv(\n",
    "    \"/users/ldog/moyon/Thesis/RegulationData/hg19/enhancers/DYOGEN/pegasus_enh.bed\",\n",
    "                     header=False,index=False,sep=\"\\t\")\n",
    "\n",
    "# Don't forget to run bgzip and tabix -0 -p bed\n",
    "if os.path.exists(\"/users/ldog/moyon/Thesis/RegulationData/hg19/enhancers/DYOGEN/pegasus_enh.bed.gz\"):\n",
    "    os.remove(\"/users/ldog/moyon/Thesis/RegulationData/hg19/enhancers/DYOGEN/pegasus_enh.bed.gz\")\n",
    "    \n",
    "if os.path.exists(\"/users/ldog/moyon/Thesis/RegulationData/hg19/enhancers/DYOGEN/pegasus_enh.bed.gz.tbi\"):\n",
    "    os.remove(\"/users/ldog/moyon/Thesis/RegulationData/hg19/enhancers/DYOGEN/pegasus_enh.bed.gz.tbi\")\n",
    "    \n",
    "res_call = subprocess.call('bgzip {}'.format(\"/users/ldog/moyon/Thesis/RegulationData/hg19/enhancers/DYOGEN/pegasus_enh.bed\"), shell=True)\n",
    "print(res_call)\n",
    "# Now call tabix\n",
    "res_call = subprocess.call('tabix -p bed -0 {}'.format(\"/users/ldog/moyon/Thesis/RegulationData/hg19/enhancers/DYOGEN/pegasus_enh.bed\"+'.gz'), shell=True)\n",
    "print(res_call)"
   ]
  },
  {
   "cell_type": "markdown",
   "metadata": {},
   "source": [
    "### FANTOM5"
   ]
  },
  {
   "cell_type": "code",
   "execution_count": 374,
   "metadata": {
    "ExecuteTime": {
     "end_time": "2018-12-18T16:59:08.597042Z",
     "start_time": "2018-12-18T16:59:07.885471Z"
    }
   },
   "outputs": [
    {
     "data": {
      "text/html": [
       "<div>\n",
       "<style scoped>\n",
       "    .dataframe tbody tr th:only-of-type {\n",
       "        vertical-align: middle;\n",
       "    }\n",
       "\n",
       "    .dataframe tbody tr th {\n",
       "        vertical-align: top;\n",
       "    }\n",
       "\n",
       "    .dataframe thead th {\n",
       "        text-align: right;\n",
       "    }\n",
       "</style>\n",
       "<table border=\"1\" class=\"dataframe\">\n",
       "  <thead>\n",
       "    <tr style=\"text-align: right;\">\n",
       "      <th></th>\n",
       "      <th>#chrom</th>\n",
       "      <th>chromStart</th>\n",
       "      <th>chromEnd</th>\n",
       "      <th>name</th>\n",
       "      <th>score</th>\n",
       "      <th>strand</th>\n",
       "      <th>thickStart</th>\n",
       "      <th>thickEnd</th>\n",
       "      <th>itemRgb</th>\n",
       "      <th>blockCount</th>\n",
       "      <th>blockSizes</th>\n",
       "      <th>chromStarts</th>\n",
       "    </tr>\n",
       "  </thead>\n",
       "  <tbody>\n",
       "    <tr>\n",
       "      <th>0</th>\n",
       "      <td>chr1</td>\n",
       "      <td>858252</td>\n",
       "      <td>861621</td>\n",
       "      <td>chr1:858256-858648;NM_152486;SAMD11;R:0.404;FDR:0</td>\n",
       "      <td>404</td>\n",
       "      <td>.</td>\n",
       "      <td>858452</td>\n",
       "      <td>858453</td>\n",
       "      <td>0,0,0</td>\n",
       "      <td>2</td>\n",
       "      <td>401,1001</td>\n",
       "      <td>0,2368</td>\n",
       "    </tr>\n",
       "    <tr>\n",
       "      <th>1</th>\n",
       "      <td>chr1</td>\n",
       "      <td>894178</td>\n",
       "      <td>956888</td>\n",
       "      <td>chr1:956563-956812;NM_015658;NOC2L;R:0.202;FDR...</td>\n",
       "      <td>202</td>\n",
       "      <td>.</td>\n",
       "      <td>956687</td>\n",
       "      <td>956688</td>\n",
       "      <td>0,0,0</td>\n",
       "      <td>2</td>\n",
       "      <td>1001,401</td>\n",
       "      <td>0,62309</td>\n",
       "    </tr>\n",
       "    <tr>\n",
       "      <th>2</th>\n",
       "      <td>chr1</td>\n",
       "      <td>901376</td>\n",
       "      <td>956888</td>\n",
       "      <td>chr1:956563-956812;NM_001160184,NM_032129;PLEK...</td>\n",
       "      <td>422</td>\n",
       "      <td>.</td>\n",
       "      <td>956687</td>\n",
       "      <td>956688</td>\n",
       "      <td>0,0,0</td>\n",
       "      <td>2</td>\n",
       "      <td>1001,401</td>\n",
       "      <td>0,55111</td>\n",
       "    </tr>\n",
       "    <tr>\n",
       "      <th>3</th>\n",
       "      <td>chr1</td>\n",
       "      <td>901376</td>\n",
       "      <td>1173762</td>\n",
       "      <td>chr1:1173386-1173736;NM_001160184,NM_032129;PL...</td>\n",
       "      <td>311</td>\n",
       "      <td>.</td>\n",
       "      <td>1173561</td>\n",
       "      <td>1173562</td>\n",
       "      <td>0,0,0</td>\n",
       "      <td>2</td>\n",
       "      <td>1001,401</td>\n",
       "      <td>0,271985</td>\n",
       "    </tr>\n",
       "    <tr>\n",
       "      <th>4</th>\n",
       "      <td>chr1</td>\n",
       "      <td>935051</td>\n",
       "      <td>942164</td>\n",
       "      <td>chr1:941791-942135;NM_001142467,NM_021170;HES4...</td>\n",
       "      <td>187</td>\n",
       "      <td>.</td>\n",
       "      <td>941963</td>\n",
       "      <td>941964</td>\n",
       "      <td>0,0,0</td>\n",
       "      <td>2</td>\n",
       "      <td>1001,401</td>\n",
       "      <td>0,6712</td>\n",
       "    </tr>\n",
       "  </tbody>\n",
       "</table>\n",
       "</div>"
      ],
      "text/plain": [
       "  #chrom  chromStart  chromEnd  \\\n",
       "0   chr1      858252    861621   \n",
       "1   chr1      894178    956888   \n",
       "2   chr1      901376    956888   \n",
       "3   chr1      901376   1173762   \n",
       "4   chr1      935051    942164   \n",
       "\n",
       "                                                name  score strand  \\\n",
       "0  chr1:858256-858648;NM_152486;SAMD11;R:0.404;FDR:0    404      .   \n",
       "1  chr1:956563-956812;NM_015658;NOC2L;R:0.202;FDR...    202      .   \n",
       "2  chr1:956563-956812;NM_001160184,NM_032129;PLEK...    422      .   \n",
       "3  chr1:1173386-1173736;NM_001160184,NM_032129;PL...    311      .   \n",
       "4  chr1:941791-942135;NM_001142467,NM_021170;HES4...    187      .   \n",
       "\n",
       "   thickStart  thickEnd itemRgb  blockCount blockSizes chromStarts  \n",
       "0      858452    858453   0,0,0           2   401,1001      0,2368  \n",
       "1      956687    956688   0,0,0           2   1001,401     0,62309  \n",
       "2      956687    956688   0,0,0           2   1001,401     0,55111  \n",
       "3     1173561   1173562   0,0,0           2   1001,401    0,271985  \n",
       "4      941963    941964   0,0,0           2   1001,401      0,6712  "
      ]
     },
     "metadata": {},
     "output_type": "display_data"
    }
   ],
   "source": [
    "path_fan = \"/users/ldog/moyon/Thesis/RegulationData/hg19/enhancers/FANTOM5//raw/enhancer_tss_associations.bed.gz\"\n",
    "df_fan = pd.read_table(path_fan)\n",
    "display(df_fan.head())"
   ]
  },
  {
   "cell_type": "markdown",
   "metadata": {},
   "source": [
    "Here we need to extract the fields in 'name', as they represent the enhancer coordinates, targets, and scores of association."
   ]
  },
  {
   "cell_type": "code",
   "execution_count": 375,
   "metadata": {
    "ExecuteTime": {
     "end_time": "2018-12-18T16:59:11.055603Z",
     "start_time": "2018-12-18T16:59:10.351546Z"
    }
   },
   "outputs": [],
   "source": [
    "tmp = df_fan.name.str.split(';',expand=True)\n",
    "tmp.columns = ['reg','targets_redseqids','targets_names','R','FDR']"
   ]
  },
  {
   "cell_type": "code",
   "execution_count": 376,
   "metadata": {
    "ExecuteTime": {
     "end_time": "2018-12-18T16:59:12.751303Z",
     "start_time": "2018-12-18T16:59:12.716981Z"
    }
   },
   "outputs": [
    {
     "data": {
      "text/html": [
       "<div>\n",
       "<style scoped>\n",
       "    .dataframe tbody tr th:only-of-type {\n",
       "        vertical-align: middle;\n",
       "    }\n",
       "\n",
       "    .dataframe tbody tr th {\n",
       "        vertical-align: top;\n",
       "    }\n",
       "\n",
       "    .dataframe thead th {\n",
       "        text-align: right;\n",
       "    }\n",
       "</style>\n",
       "<table border=\"1\" class=\"dataframe\">\n",
       "  <thead>\n",
       "    <tr style=\"text-align: right;\">\n",
       "      <th></th>\n",
       "      <th>reg</th>\n",
       "      <th>targets_redseqids</th>\n",
       "      <th>targets_names</th>\n",
       "      <th>R</th>\n",
       "      <th>FDR</th>\n",
       "    </tr>\n",
       "  </thead>\n",
       "  <tbody>\n",
       "    <tr>\n",
       "      <th>0</th>\n",
       "      <td>chr1:858256-858648</td>\n",
       "      <td>NM_152486</td>\n",
       "      <td>SAMD11</td>\n",
       "      <td>R:0.404</td>\n",
       "      <td>FDR:0</td>\n",
       "    </tr>\n",
       "    <tr>\n",
       "      <th>1</th>\n",
       "      <td>chr1:956563-956812</td>\n",
       "      <td>NM_015658</td>\n",
       "      <td>NOC2L</td>\n",
       "      <td>R:0.202</td>\n",
       "      <td>FDR:8.01154668254404e-08</td>\n",
       "    </tr>\n",
       "    <tr>\n",
       "      <th>2</th>\n",
       "      <td>chr1:956563-956812</td>\n",
       "      <td>NM_001160184,NM_032129</td>\n",
       "      <td>PLEKHN1</td>\n",
       "      <td>R:0.422</td>\n",
       "      <td>FDR:0</td>\n",
       "    </tr>\n",
       "    <tr>\n",
       "      <th>3</th>\n",
       "      <td>chr1:1173386-1173736</td>\n",
       "      <td>NM_001160184,NM_032129</td>\n",
       "      <td>PLEKHN1</td>\n",
       "      <td>R:0.311</td>\n",
       "      <td>FDR:0</td>\n",
       "    </tr>\n",
       "    <tr>\n",
       "      <th>4</th>\n",
       "      <td>chr1:941791-942135</td>\n",
       "      <td>NM_001142467,NM_021170</td>\n",
       "      <td>HES4</td>\n",
       "      <td>R:0.187</td>\n",
       "      <td>FDR:6.32949888009368e-07</td>\n",
       "    </tr>\n",
       "  </tbody>\n",
       "</table>\n",
       "</div>"
      ],
      "text/plain": [
       "                    reg       targets_redseqids targets_names        R  \\\n",
       "0    chr1:858256-858648               NM_152486        SAMD11  R:0.404   \n",
       "1    chr1:956563-956812               NM_015658         NOC2L  R:0.202   \n",
       "2    chr1:956563-956812  NM_001160184,NM_032129       PLEKHN1  R:0.422   \n",
       "3  chr1:1173386-1173736  NM_001160184,NM_032129       PLEKHN1  R:0.311   \n",
       "4    chr1:941791-942135  NM_001142467,NM_021170          HES4  R:0.187   \n",
       "\n",
       "                        FDR  \n",
       "0                     FDR:0  \n",
       "1  FDR:8.01154668254404e-08  \n",
       "2                     FDR:0  \n",
       "3                     FDR:0  \n",
       "4  FDR:6.32949888009368e-07  "
      ]
     },
     "execution_count": 376,
     "metadata": {},
     "output_type": "execute_result"
    }
   ],
   "source": [
    "tmp.head()"
   ]
  },
  {
   "cell_type": "code",
   "execution_count": 406,
   "metadata": {
    "ExecuteTime": {
     "end_time": "2018-12-18T17:13:01.725760Z",
     "start_time": "2018-12-18T17:13:00.363962Z"
    }
   },
   "outputs": [
    {
     "data": {
      "text/html": [
       "<div>\n",
       "<style scoped>\n",
       "    .dataframe tbody tr th:only-of-type {\n",
       "        vertical-align: middle;\n",
       "    }\n",
       "\n",
       "    .dataframe tbody tr th {\n",
       "        vertical-align: top;\n",
       "    }\n",
       "\n",
       "    .dataframe thead th {\n",
       "        text-align: right;\n",
       "    }\n",
       "</style>\n",
       "<table border=\"1\" class=\"dataframe\">\n",
       "  <thead>\n",
       "    <tr style=\"text-align: right;\">\n",
       "      <th></th>\n",
       "      <th>chrom</th>\n",
       "      <th>start</th>\n",
       "      <th>end</th>\n",
       "      <th>targets_names</th>\n",
       "      <th>R</th>\n",
       "      <th>FDR</th>\n",
       "    </tr>\n",
       "  </thead>\n",
       "  <tbody>\n",
       "    <tr>\n",
       "      <th>0</th>\n",
       "      <td>chr1</td>\n",
       "      <td>858256</td>\n",
       "      <td>858648</td>\n",
       "      <td>SAMD11</td>\n",
       "      <td>0.404</td>\n",
       "      <td>0.000000e+00</td>\n",
       "    </tr>\n",
       "    <tr>\n",
       "      <th>1</th>\n",
       "      <td>chr1</td>\n",
       "      <td>941791</td>\n",
       "      <td>942135</td>\n",
       "      <td>HES4</td>\n",
       "      <td>0.187</td>\n",
       "      <td>6.329499e-07</td>\n",
       "    </tr>\n",
       "    <tr>\n",
       "      <th>2</th>\n",
       "      <td>chr1</td>\n",
       "      <td>945769</td>\n",
       "      <td>946034</td>\n",
       "      <td>CCNL2</td>\n",
       "      <td>0.176</td>\n",
       "      <td>3.217870e-06</td>\n",
       "    </tr>\n",
       "    <tr>\n",
       "      <th>3</th>\n",
       "      <td>chr1</td>\n",
       "      <td>945769</td>\n",
       "      <td>946034</td>\n",
       "      <td>ATAD3B</td>\n",
       "      <td>0.178</td>\n",
       "      <td>2.396133e-06</td>\n",
       "    </tr>\n",
       "    <tr>\n",
       "      <th>4</th>\n",
       "      <td>chr1</td>\n",
       "      <td>956563</td>\n",
       "      <td>956812</td>\n",
       "      <td>NOC2L</td>\n",
       "      <td>0.202</td>\n",
       "      <td>8.011547e-08</td>\n",
       "    </tr>\n",
       "  </tbody>\n",
       "</table>\n",
       "</div>"
      ],
      "text/plain": [
       "  chrom   start     end targets_names      R           FDR\n",
       "0  chr1  858256  858648        SAMD11  0.404  0.000000e+00\n",
       "1  chr1  941791  942135          HES4  0.187  6.329499e-07\n",
       "2  chr1  945769  946034         CCNL2  0.176  3.217870e-06\n",
       "3  chr1  945769  946034        ATAD3B  0.178  2.396133e-06\n",
       "4  chr1  956563  956812         NOC2L  0.202  8.011547e-08"
      ]
     },
     "metadata": {},
     "output_type": "display_data"
    }
   ],
   "source": [
    "red_df_fan = pd.concat([tmp.reg.str.split(':|-',expand=True).rename(columns={0:'chrom',1:'start',2:'end'}),\n",
    "                        tmp.targets_names,\n",
    "                        tmp.R.str.split(':',expand=True).iloc[:,1].astype(float).rename('R'),\n",
    "                        tmp.FDR.str.split(':',expand=True).iloc[:,1].astype(float).rename('FDR'),\n",
    "                       ],axis=1)\n",
    "red_df_fan['start'] = red_df_fan['start'].astype(int)\n",
    "red_df_fan['end'] = red_df_fan['end'].astype(int)\n",
    "red_df_fan = red_df_fan.sort_values(by=['chrom','start']).reset_index(drop=True)\n",
    "\n",
    "display(red_df_fan.head())"
   ]
  },
  {
   "cell_type": "markdown",
   "metadata": {},
   "source": [
    "##### Genes"
   ]
  },
  {
   "cell_type": "code",
   "execution_count": 407,
   "metadata": {
    "ExecuteTime": {
     "end_time": "2018-12-18T17:13:02.227074Z",
     "start_time": "2018-12-18T17:13:01.871081Z"
    }
   },
   "outputs": [
    {
     "name": "stdout",
     "output_type": "stream",
     "text": [
      "Percentage of genes in GENCODE mapping: 0.920 (10,675 / 11,607)\n"
     ]
    }
   ],
   "source": [
    "fan_targs = pd.Series(list(set(list(itt.chain(*red_df_fan.targets_names.str.split(',').values)))))\n",
    "print(\"Percentage of genes in GENCODE mapping: {:.3f} ({:,} / {:,})\".format(fan_targs.isin(gencode_gene_table.gene_name).sum()/fan_targs.shape[0], \n",
    "                                                                    fan_targs.isin(gencode_gene_table.gene_name).sum(),fan_targs.shape[0]))"
   ]
  },
  {
   "cell_type": "code",
   "execution_count": 408,
   "metadata": {
    "ExecuteTime": {
     "end_time": "2018-12-18T17:13:04.366695Z",
     "start_time": "2018-12-18T17:13:04.339246Z"
    }
   },
   "outputs": [],
   "source": [
    "fan_not_found = fan_targs.loc[~fan_targs.isin(gencode_gene_table.gene_name)]"
   ]
  },
  {
   "cell_type": "code",
   "execution_count": 409,
   "metadata": {
    "ExecuteTime": {
     "end_time": "2018-12-18T17:13:40.292610Z",
     "start_time": "2018-12-18T17:13:05.233188Z"
    }
   },
   "outputs": [
    {
     "name": "stdout",
     "output_type": "stream",
     "text": [
      "CPU times: user 34.9 s, sys: 132 ms, total: 35.1 s\n",
      "Wall time: 35 s\n"
     ]
    }
   ],
   "source": [
    "%%time\n",
    "# The function below looks for each gene name in the HGNC table, in synonyms or obsolete names.\n",
    "# If found: associate the requested name to the updated one.\n",
    "\n",
    "(update_gene,\n",
    " ignored_genes,\n",
    " false_positives_prev,\n",
    " false_positives_syn,\n",
    " genes_not_found) = get_updated_symbols(fan_not_found, hgnc_gene_table)"
   ]
  },
  {
   "cell_type": "code",
   "execution_count": 410,
   "metadata": {
    "ExecuteTime": {
     "end_time": "2018-12-18T17:13:40.300932Z",
     "start_time": "2018-12-18T17:13:40.295550Z"
    }
   },
   "outputs": [
    {
     "name": "stdout",
     "output_type": "stream",
     "text": [
      "Number of gene names that can be updated: 861\n",
      "Number of gene names that cannot be updated: 70\n"
     ]
    }
   ],
   "source": [
    "print(\"Number of gene names that can be updated: {:,}\".format(len(update_gene)))\n",
    "print(\"Number of gene names that cannot be updated: {:,}\".format(len(genes_not_found)))"
   ]
  },
  {
   "cell_type": "code",
   "execution_count": 411,
   "metadata": {
    "ExecuteTime": {
     "end_time": "2018-12-18T17:13:41.117449Z",
     "start_time": "2018-12-18T17:13:40.303862Z"
    }
   },
   "outputs": [
    {
     "name": "stdout",
     "output_type": "stream",
     "text": [
      "Updated name for C14orf183 is LINC01599, but not found in GENCODE\n",
      "Finale number of genes to update: 860\n"
     ]
    }
   ],
   "source": [
    "# We still need to check that the updated version of gene names is in the GENCODE file.\n",
    "finale_update_fan_g = {}\n",
    "for k, v in update_gene.items():\n",
    "    if v not in gencode_gene_table.gene_name.values:\n",
    "        print(\"Updated name for {} is {}, but not found in GENCODE\".format(k,v))\n",
    "    else:\n",
    "        finale_update_fan_g[k] = v\n",
    "        \n",
    "print(\"Finale number of genes to update: {}\".format(len(finale_update_fan_g)))"
   ]
  },
  {
   "cell_type": "markdown",
   "metadata": {},
   "source": [
    "A vast majority can be updated ; all genes without updated symbol / with updated symbol not found are removed (along with the enhancer)."
   ]
  },
  {
   "cell_type": "code",
   "execution_count": 412,
   "metadata": {
    "ExecuteTime": {
     "end_time": "2018-12-18T17:13:41.153325Z",
     "start_time": "2018-12-18T17:13:41.120527Z"
    }
   },
   "outputs": [
    {
     "data": {
      "text/html": [
       "<div>\n",
       "<style scoped>\n",
       "    .dataframe tbody tr th:only-of-type {\n",
       "        vertical-align: middle;\n",
       "    }\n",
       "\n",
       "    .dataframe tbody tr th {\n",
       "        vertical-align: top;\n",
       "    }\n",
       "\n",
       "    .dataframe thead th {\n",
       "        text-align: right;\n",
       "    }\n",
       "</style>\n",
       "<table border=\"1\" class=\"dataframe\">\n",
       "  <thead>\n",
       "    <tr style=\"text-align: right;\">\n",
       "      <th></th>\n",
       "      <th>chrom</th>\n",
       "      <th>start</th>\n",
       "      <th>end</th>\n",
       "      <th>targets_names</th>\n",
       "      <th>R</th>\n",
       "      <th>FDR</th>\n",
       "    </tr>\n",
       "  </thead>\n",
       "  <tbody>\n",
       "    <tr>\n",
       "      <th>0</th>\n",
       "      <td>chr1</td>\n",
       "      <td>858256</td>\n",
       "      <td>858648</td>\n",
       "      <td>SAMD11</td>\n",
       "      <td>0.404</td>\n",
       "      <td>0.000000e+00</td>\n",
       "    </tr>\n",
       "    <tr>\n",
       "      <th>1</th>\n",
       "      <td>chr1</td>\n",
       "      <td>941791</td>\n",
       "      <td>942135</td>\n",
       "      <td>HES4</td>\n",
       "      <td>0.187</td>\n",
       "      <td>6.329499e-07</td>\n",
       "    </tr>\n",
       "    <tr>\n",
       "      <th>2</th>\n",
       "      <td>chr1</td>\n",
       "      <td>945769</td>\n",
       "      <td>946034</td>\n",
       "      <td>CCNL2</td>\n",
       "      <td>0.176</td>\n",
       "      <td>3.217870e-06</td>\n",
       "    </tr>\n",
       "    <tr>\n",
       "      <th>3</th>\n",
       "      <td>chr1</td>\n",
       "      <td>945769</td>\n",
       "      <td>946034</td>\n",
       "      <td>ATAD3B</td>\n",
       "      <td>0.178</td>\n",
       "      <td>2.396133e-06</td>\n",
       "    </tr>\n",
       "    <tr>\n",
       "      <th>4</th>\n",
       "      <td>chr1</td>\n",
       "      <td>956563</td>\n",
       "      <td>956812</td>\n",
       "      <td>NOC2L</td>\n",
       "      <td>0.202</td>\n",
       "      <td>8.011547e-08</td>\n",
       "    </tr>\n",
       "  </tbody>\n",
       "</table>\n",
       "</div>"
      ],
      "text/plain": [
       "  chrom   start     end targets_names      R           FDR\n",
       "0  chr1  858256  858648        SAMD11  0.404  0.000000e+00\n",
       "1  chr1  941791  942135          HES4  0.187  6.329499e-07\n",
       "2  chr1  945769  946034         CCNL2  0.176  3.217870e-06\n",
       "3  chr1  945769  946034        ATAD3B  0.178  2.396133e-06\n",
       "4  chr1  956563  956812         NOC2L  0.202  8.011547e-08"
      ]
     },
     "execution_count": 412,
     "metadata": {},
     "output_type": "execute_result"
    }
   ],
   "source": [
    "red_df_fan.head()"
   ]
  },
  {
   "cell_type": "code",
   "execution_count": 413,
   "metadata": {
    "ExecuteTime": {
     "end_time": "2018-12-18T17:13:44.650923Z",
     "start_time": "2018-12-18T17:13:41.157214Z"
    }
   },
   "outputs": [
    {
     "name": "stdout",
     "output_type": "stream",
     "text": [
      "CPU times: user 3.44 s, sys: 48 ms, total: 3.49 s\n",
      "Wall time: 3.48 s\n"
     ]
    }
   ],
   "source": [
    "%%time\n",
    "# Now apply this dictionarry\n",
    "new_targs_fan = red_df_fan.targets_names.replace(np.nan,'').apply(\n",
    "                    lambda v: ';'.join([finale_update_fan_g.get(g,'') if g in fan_not_found.values else g\n",
    "                                        for g in v.split(',')]).strip(' ; '))\n",
    "red_df_fan['new_targets'] = new_targs_fan"
   ]
  },
  {
   "cell_type": "markdown",
   "metadata": {},
   "source": [
    "##### Overlapping regions"
   ]
  },
  {
   "cell_type": "code",
   "execution_count": 414,
   "metadata": {
    "ExecuteTime": {
     "end_time": "2018-12-18T17:13:44.732173Z",
     "start_time": "2018-12-18T17:13:44.653404Z"
    }
   },
   "outputs": [],
   "source": [
    "red_df_fan = red_df_fan.loc[~(red_df_fan['new_targets'].replace(np.nan,'')==''),:]"
   ]
  },
  {
   "cell_type": "code",
   "execution_count": 415,
   "metadata": {
    "ExecuteTime": {
     "end_time": "2018-12-18T17:13:46.719208Z",
     "start_time": "2018-12-18T17:13:44.735285Z"
    }
   },
   "outputs": [
    {
     "name": "stdout",
     "output_type": "stream",
     "text": [
      "Shape before merge: 66,639 ; shape after merge: 27,400\n",
      "\n",
      "\n",
      "CPU times: user 284 ms, sys: 1.12 s, total: 1.4 s\n",
      "Wall time: 1.97 s\n"
     ]
    }
   ],
   "source": [
    "%%time\n",
    "# Do not overlap book-ended regions\n",
    "merged_df_fan = pbt.BedTool.from_dataframe(red_df_fan.iloc[:,[0,1,2]]).sort().merge(d=-1).to_dataframe()\n",
    "print(\"Shape before merge: {:,} ; shape after merge: {:,}\\n\\n\".format(red_df_fan.shape[0], merged_df_fan.shape[0]))"
   ]
  },
  {
   "cell_type": "code",
   "execution_count": 416,
   "metadata": {
    "ExecuteTime": {
     "end_time": "2018-12-18T17:13:48.280955Z",
     "start_time": "2018-12-18T17:13:46.724242Z"
    }
   },
   "outputs": [
    {
     "name": "stdout",
     "output_type": "stream",
     "text": [
      "0    score:0.404,targets:SAMD11\n",
      "1      score:0.187,targets:HES4\n",
      "2     score:0.176,targets:CCNL2\n",
      "3    score:0.178,targets:ATAD3B\n",
      "4     score:0.202,targets:NOC2L\n",
      "dtype: object\n"
     ]
    }
   ],
   "source": [
    "fan_new_names = red_df_fan.apply(lambda row: 'score:'+str(row['R'])+',targets:'+row['new_targets'],axis=1)\n",
    "print(fan_new_names[:5])"
   ]
  },
  {
   "cell_type": "code",
   "execution_count": 417,
   "metadata": {
    "ExecuteTime": {
     "end_time": "2018-12-18T17:13:48.302347Z",
     "start_time": "2018-12-18T17:13:48.284155Z"
    }
   },
   "outputs": [
    {
     "data": {
      "text/html": [
       "<div>\n",
       "<style scoped>\n",
       "    .dataframe tbody tr th:only-of-type {\n",
       "        vertical-align: middle;\n",
       "    }\n",
       "\n",
       "    .dataframe tbody tr th {\n",
       "        vertical-align: top;\n",
       "    }\n",
       "\n",
       "    .dataframe thead th {\n",
       "        text-align: right;\n",
       "    }\n",
       "</style>\n",
       "<table border=\"1\" class=\"dataframe\">\n",
       "  <thead>\n",
       "    <tr style=\"text-align: right;\">\n",
       "      <th></th>\n",
       "      <th>chrom</th>\n",
       "      <th>start</th>\n",
       "      <th>end</th>\n",
       "      <th>targets_names</th>\n",
       "      <th>R</th>\n",
       "      <th>FDR</th>\n",
       "      <th>new_targets</th>\n",
       "    </tr>\n",
       "  </thead>\n",
       "  <tbody>\n",
       "    <tr>\n",
       "      <th>0</th>\n",
       "      <td>chr1</td>\n",
       "      <td>858256</td>\n",
       "      <td>858648</td>\n",
       "      <td>SAMD11</td>\n",
       "      <td>0.404</td>\n",
       "      <td>0.000000e+00</td>\n",
       "      <td>SAMD11</td>\n",
       "    </tr>\n",
       "    <tr>\n",
       "      <th>1</th>\n",
       "      <td>chr1</td>\n",
       "      <td>941791</td>\n",
       "      <td>942135</td>\n",
       "      <td>HES4</td>\n",
       "      <td>0.187</td>\n",
       "      <td>6.329499e-07</td>\n",
       "      <td>HES4</td>\n",
       "    </tr>\n",
       "    <tr>\n",
       "      <th>2</th>\n",
       "      <td>chr1</td>\n",
       "      <td>945769</td>\n",
       "      <td>946034</td>\n",
       "      <td>CCNL2</td>\n",
       "      <td>0.176</td>\n",
       "      <td>3.217870e-06</td>\n",
       "      <td>CCNL2</td>\n",
       "    </tr>\n",
       "    <tr>\n",
       "      <th>3</th>\n",
       "      <td>chr1</td>\n",
       "      <td>945769</td>\n",
       "      <td>946034</td>\n",
       "      <td>ATAD3B</td>\n",
       "      <td>0.178</td>\n",
       "      <td>2.396133e-06</td>\n",
       "      <td>ATAD3B</td>\n",
       "    </tr>\n",
       "    <tr>\n",
       "      <th>4</th>\n",
       "      <td>chr1</td>\n",
       "      <td>956563</td>\n",
       "      <td>956812</td>\n",
       "      <td>NOC2L</td>\n",
       "      <td>0.202</td>\n",
       "      <td>8.011547e-08</td>\n",
       "      <td>NOC2L</td>\n",
       "    </tr>\n",
       "  </tbody>\n",
       "</table>\n",
       "</div>"
      ],
      "text/plain": [
       "  chrom   start     end targets_names      R           FDR new_targets\n",
       "0  chr1  858256  858648        SAMD11  0.404  0.000000e+00      SAMD11\n",
       "1  chr1  941791  942135          HES4  0.187  6.329499e-07        HES4\n",
       "2  chr1  945769  946034         CCNL2  0.176  3.217870e-06       CCNL2\n",
       "3  chr1  945769  946034        ATAD3B  0.178  2.396133e-06      ATAD3B\n",
       "4  chr1  956563  956812         NOC2L  0.202  8.011547e-08       NOC2L"
      ]
     },
     "execution_count": 417,
     "metadata": {},
     "output_type": "execute_result"
    }
   ],
   "source": [
    "red_df_fan.head()"
   ]
  },
  {
   "cell_type": "markdown",
   "metadata": {},
   "source": [
    "Below: merge the regions, and reannotate them from the original names, displayed above."
   ]
  },
  {
   "cell_type": "code",
   "execution_count": 420,
   "metadata": {
    "ExecuteTime": {
     "end_time": "2018-12-18T17:14:27.081504Z",
     "start_time": "2018-12-18T17:14:25.825229Z"
    }
   },
   "outputs": [
    {
     "name": "stdout",
     "output_type": "stream",
     "text": [
      "0\n"
     ]
    },
    {
     "data": {
      "text/html": [
       "<div>\n",
       "<style scoped>\n",
       "    .dataframe tbody tr th:only-of-type {\n",
       "        vertical-align: middle;\n",
       "    }\n",
       "\n",
       "    .dataframe tbody tr th {\n",
       "        vertical-align: top;\n",
       "    }\n",
       "\n",
       "    .dataframe thead th {\n",
       "        text-align: right;\n",
       "    }\n",
       "</style>\n",
       "<table border=\"1\" class=\"dataframe\">\n",
       "  <thead>\n",
       "    <tr style=\"text-align: right;\">\n",
       "      <th></th>\n",
       "      <th>chrom</th>\n",
       "      <th>start</th>\n",
       "      <th>end</th>\n",
       "      <th>name</th>\n",
       "    </tr>\n",
       "  </thead>\n",
       "  <tbody>\n",
       "    <tr>\n",
       "      <th>0</th>\n",
       "      <td>chr1</td>\n",
       "      <td>858256</td>\n",
       "      <td>858648</td>\n",
       "      <td>score:0.404,targets:SAMD11</td>\n",
       "    </tr>\n",
       "    <tr>\n",
       "      <th>1</th>\n",
       "      <td>chr1</td>\n",
       "      <td>941791</td>\n",
       "      <td>942135</td>\n",
       "      <td>score:0.187,targets:HES4</td>\n",
       "    </tr>\n",
       "    <tr>\n",
       "      <th>2</th>\n",
       "      <td>chr1</td>\n",
       "      <td>945769</td>\n",
       "      <td>946034</td>\n",
       "      <td>score:0.178,targets:ATAD3B|score:0.176,targets...</td>\n",
       "    </tr>\n",
       "    <tr>\n",
       "      <th>3</th>\n",
       "      <td>chr1</td>\n",
       "      <td>956563</td>\n",
       "      <td>956812</td>\n",
       "      <td>score:0.422,targets:PLEKHN1|score:0.202,target...</td>\n",
       "    </tr>\n",
       "    <tr>\n",
       "      <th>4</th>\n",
       "      <td>chr1</td>\n",
       "      <td>1005293</td>\n",
       "      <td>1005547</td>\n",
       "      <td>score:0.236,targets:HES4</td>\n",
       "    </tr>\n",
       "  </tbody>\n",
       "</table>\n",
       "</div>"
      ],
      "text/plain": [
       "  chrom    start      end                                               name\n",
       "0  chr1   858256   858648                         score:0.404,targets:SAMD11\n",
       "1  chr1   941791   942135                           score:0.187,targets:HES4\n",
       "2  chr1   945769   946034  score:0.178,targets:ATAD3B|score:0.176,targets...\n",
       "3  chr1   956563   956812  score:0.422,targets:PLEKHN1|score:0.202,target...\n",
       "4  chr1  1005293  1005547                           score:0.236,targets:HES4"
      ]
     },
     "metadata": {},
     "output_type": "display_data"
    }
   ],
   "source": [
    "output_df_fan_tmp = red_df_fan.iloc[:,[0,1,2]].assign(name = fan_new_names.values\n",
    "                                 ).loc[:,['chrom','start','end','name']]\n",
    "\n",
    "output_df_fan_tmp.to_csv(\"/localtmp/moyon/tmp_fan.tsv\",header=False,index=False,sep=\"\\t\")\n",
    "\n",
    "res_call = subprocess.call((command_line_merge\n",
    "                           ).format(inputfile=\"/localtmp/moyon/tmp_fan.tsv\",\n",
    "                                    outputfile=\"/localtmp/moyon/tmp_fan_MERGED.tsv\",\n",
    "                                    delim=\"\\|\"\n",
    "                                   ), shell=True)\n",
    "print(res_call)\n",
    "\n",
    "assert res_call==0, \"Error while generating the merged version of the file.\"\n",
    "\n",
    "finale_merged_df_fan = pd.read_table(\"/localtmp/moyon/tmp_fan_MERGED.tsv\",header=None,names=['chrom','start','end','name'])\n",
    "\n",
    "display(finale_merged_df_fan.head())"
   ]
  },
  {
   "cell_type": "markdown",
   "metadata": {},
   "source": [
    "##### Finale formatting"
   ]
  },
  {
   "cell_type": "code",
   "execution_count": 421,
   "metadata": {
    "ExecuteTime": {
     "end_time": "2018-12-18T17:15:42.477173Z",
     "start_time": "2018-12-18T17:15:39.897885Z"
    }
   },
   "outputs": [
    {
     "data": {
      "text/html": [
       "<div>\n",
       "<style scoped>\n",
       "    .dataframe tbody tr th:only-of-type {\n",
       "        vertical-align: middle;\n",
       "    }\n",
       "\n",
       "    .dataframe tbody tr th {\n",
       "        vertical-align: top;\n",
       "    }\n",
       "\n",
       "    .dataframe thead th {\n",
       "        text-align: right;\n",
       "    }\n",
       "</style>\n",
       "<table border=\"1\" class=\"dataframe\">\n",
       "  <thead>\n",
       "    <tr style=\"text-align: right;\">\n",
       "      <th></th>\n",
       "      <th>chrom</th>\n",
       "      <th>start</th>\n",
       "      <th>end</th>\n",
       "      <th>name</th>\n",
       "    </tr>\n",
       "  </thead>\n",
       "  <tbody>\n",
       "    <tr>\n",
       "      <th>0</th>\n",
       "      <td>chr1</td>\n",
       "      <td>858256</td>\n",
       "      <td>858648</td>\n",
       "      <td>score:0.404,targets:SAMD11</td>\n",
       "    </tr>\n",
       "    <tr>\n",
       "      <th>1</th>\n",
       "      <td>chr1</td>\n",
       "      <td>941791</td>\n",
       "      <td>942135</td>\n",
       "      <td>score:0.187,targets:HES4</td>\n",
       "    </tr>\n",
       "    <tr>\n",
       "      <th>2</th>\n",
       "      <td>chr1</td>\n",
       "      <td>945769</td>\n",
       "      <td>946034</td>\n",
       "      <td>score:0.178,targets:ATAD3B|score:0.176,targets...</td>\n",
       "    </tr>\n",
       "  </tbody>\n",
       "</table>\n",
       "</div>"
      ],
      "text/plain": [
       "  chrom   start     end                                               name\n",
       "0  chr1  858256  858648                         score:0.404,targets:SAMD11\n",
       "1  chr1  941791  942135                           score:0.187,targets:HES4\n",
       "2  chr1  945769  946034  score:0.178,targets:ATAD3B|score:0.176,targets..."
      ]
     },
     "metadata": {},
     "output_type": "display_data"
    },
    {
     "name": "stdout",
     "output_type": "stream",
     "text": [
      "0\n",
      "0\n"
     ]
    }
   ],
   "source": [
    "output_df_fan = finale_merged_df_fan\n",
    "\n",
    "display(output_df_fan.head(3))\n",
    "\n",
    "pbt.BedTool.from_dataframe(output_df_fan\n",
    "                           ).sort().to_dataframe().to_csv(\n",
    "    \"/users/ldog/moyon/Thesis/RegulationData/hg19/enhancers/FANTOM5/fantom5_enh.bed\",\n",
    "                     header=False,index=False,sep=\"\\t\")\n",
    "\n",
    "\n",
    "if os.path.exists(\"/users/ldog/moyon/Thesis/RegulationData/hg19/enhancers/FANTOM5/fantom5_enh.bed.gz\"):\n",
    "    os.remove(\"/users/ldog/moyon/Thesis/RegulationData/hg19/enhancers/FANTOM5/fantom5_enh.bed.gz\")\n",
    "    \n",
    "if os.path.exists(\"/users/ldog/moyon/Thesis/RegulationData/hg19/enhancers/FANTOM5/fantom5_enh.bed.gz.tbi\"):\n",
    "    os.remove(\"/users/ldog/moyon/Thesis/RegulationData/hg19/enhancers/FANTOM5/fantom5_enh.bed.gz.tbi\")\n",
    "    \n",
    "\n",
    "res_call = subprocess.call('bgzip {}'.format(\"/users/ldog/moyon/Thesis/RegulationData/hg19/enhancers/FANTOM5/fantom5_enh.bed\"), shell=True)\n",
    "print(res_call)\n",
    "# Now call tabix\n",
    "res_call = subprocess.call('tabix -p bed -0 {}'.format(\"/users/ldog/moyon/Thesis/RegulationData/hg19/enhancers/FANTOM5/fantom5_enh.bed.gz\"), shell=True)\n",
    "print(res_call)\n",
    "# Don't forget to run bgzip and tabix -0 -p bed"
   ]
  },
  {
   "cell_type": "markdown",
   "metadata": {},
   "source": [
    "### GENEHANCER"
   ]
  },
  {
   "cell_type": "code",
   "execution_count": 50,
   "metadata": {
    "ExecuteTime": {
     "end_time": "2018-12-16T19:30:45.760261Z",
     "start_time": "2018-12-16T19:30:44.219371Z"
    },
    "scrolled": true
   },
   "outputs": [
    {
     "data": {
      "text/html": [
       "<div>\n",
       "<style scoped>\n",
       "    .dataframe tbody tr th:only-of-type {\n",
       "        vertical-align: middle;\n",
       "    }\n",
       "\n",
       "    .dataframe tbody tr th {\n",
       "        vertical-align: top;\n",
       "    }\n",
       "\n",
       "    .dataframe thead th {\n",
       "        text-align: right;\n",
       "    }\n",
       "</style>\n",
       "<table border=\"1\" class=\"dataframe\">\n",
       "  <thead>\n",
       "    <tr style=\"text-align: right;\">\n",
       "      <th></th>\n",
       "      <th>chrom</th>\n",
       "      <th>start</th>\n",
       "      <th>end</th>\n",
       "      <th>source</th>\n",
       "      <th>score</th>\n",
       "      <th>strand</th>\n",
       "      <th>annot</th>\n",
       "    </tr>\n",
       "  </thead>\n",
       "  <tbody>\n",
       "    <tr>\n",
       "      <th>0</th>\n",
       "      <td>chr2</td>\n",
       "      <td>70244933</td>\n",
       "      <td>70245132</td>\n",
       "      <td>GeneHancer</td>\n",
       "      <td>0.52</td>\n",
       "      <td>.</td>\n",
       "      <td>genehancer_id=GH02F070017;connected_gene=PCBP1...</td>\n",
       "    </tr>\n",
       "    <tr>\n",
       "      <th>1</th>\n",
       "      <td>chr18</td>\n",
       "      <td>46119061</td>\n",
       "      <td>46119210</td>\n",
       "      <td>GeneHancer</td>\n",
       "      <td>0.96</td>\n",
       "      <td>.</td>\n",
       "      <td>genehancer_id=GH18F048592;connected_gene=ENSG0...</td>\n",
       "    </tr>\n",
       "    <tr>\n",
       "      <th>2</th>\n",
       "      <td>chr5</td>\n",
       "      <td>167739362</td>\n",
       "      <td>167746222</td>\n",
       "      <td>GeneHancer</td>\n",
       "      <td>1.77</td>\n",
       "      <td>.</td>\n",
       "      <td>genehancer_id=GH05F168312;connected_gene=WWC1;...</td>\n",
       "    </tr>\n",
       "    <tr>\n",
       "      <th>3</th>\n",
       "      <td>chr12</td>\n",
       "      <td>47598361</td>\n",
       "      <td>47613394</td>\n",
       "      <td>GeneHancer</td>\n",
       "      <td>1.28</td>\n",
       "      <td>.</td>\n",
       "      <td>genehancer_id=GH12F047204;connected_gene=RPAP3...</td>\n",
       "    </tr>\n",
       "    <tr>\n",
       "      <th>4</th>\n",
       "      <td>chr21</td>\n",
       "      <td>41001999</td>\n",
       "      <td>41006993</td>\n",
       "      <td>GeneHancer</td>\n",
       "      <td>1.29</td>\n",
       "      <td>.</td>\n",
       "      <td>genehancer_id=GH21F039630;connected_gene=B3GAL...</td>\n",
       "    </tr>\n",
       "  </tbody>\n",
       "</table>\n",
       "</div>"
      ],
      "text/plain": [
       "   chrom      start        end      source  score strand  \\\n",
       "0   chr2   70244933   70245132  GeneHancer   0.52      .   \n",
       "1  chr18   46119061   46119210  GeneHancer   0.96      .   \n",
       "2   chr5  167739362  167746222  GeneHancer   1.77      .   \n",
       "3  chr12   47598361   47613394  GeneHancer   1.28      .   \n",
       "4  chr21   41001999   41006993  GeneHancer   1.29      .   \n",
       "\n",
       "                                               annot  \n",
       "0  genehancer_id=GH02F070017;connected_gene=PCBP1...  \n",
       "1  genehancer_id=GH18F048592;connected_gene=ENSG0...  \n",
       "2  genehancer_id=GH05F168312;connected_gene=WWC1;...  \n",
       "3  genehancer_id=GH12F047204;connected_gene=RPAP3...  \n",
       "4  genehancer_id=GH21F039630;connected_gene=B3GAL...  "
      ]
     },
     "metadata": {},
     "output_type": "display_data"
    }
   ],
   "source": [
    "path_genehancer = \"/users/ldog/moyon/Thesis/RegulationData/hg19/enhancers/GeneHancer/raw/hg19.GeneHancer_version_4_4.bed\"\n",
    "df_genh = pd.read_table(path_genehancer, header=None, names=['chrom','start','end','source','score','strand','annot'])\n",
    "display(df_genh.head())"
   ]
  },
  {
   "cell_type": "code",
   "execution_count": 51,
   "metadata": {
    "ExecuteTime": {
     "end_time": "2018-12-16T19:30:48.252416Z",
     "start_time": "2018-12-16T19:30:48.221329Z"
    }
   },
   "outputs": [
    {
     "data": {
      "text/plain": [
       "['connected_gene=PCBP1-AS1',\n",
       " 'score=12.90',\n",
       " 'connected_gene=ASPRV1',\n",
       " 'score=11.69',\n",
       " 'connected_gene=PIR47967',\n",
       " 'score=0.29',\n",
       " 'connected_gene=RN7SL470P',\n",
       " 'score=0.20']"
      ]
     },
     "execution_count": 51,
     "metadata": {},
     "output_type": "execute_result"
    }
   ],
   "source": [
    "df_genh.annot[0].split(';')[1:]"
   ]
  },
  {
   "cell_type": "markdown",
   "metadata": {},
   "source": [
    "We need to reformat the annotations."
   ]
  },
  {
   "cell_type": "code",
   "execution_count": 52,
   "metadata": {
    "ExecuteTime": {
     "end_time": "2018-12-16T19:30:52.286307Z",
     "start_time": "2018-12-16T19:30:52.274582Z"
    }
   },
   "outputs": [],
   "source": [
    "def reformat_genhancer(annot):\n",
    "    new_cols = ('src','targets','score')\n",
    "    sp = annot.split(';')\n",
    "    src = sp[0].split('=')[1]\n",
    "    sp = [v.split('=')[1] for v in sp[1:]]\n",
    "    \n",
    "    all_groups = []\n",
    "    for i in range(0,len(sp),2):\n",
    "        group = ';'.join([':'.join(v) for v in zip(new_cols,[src]+sp[i:i+2])])\n",
    "        all_groups.append(group)\n",
    "        \n",
    "    return '|'.join(all_groups)        "
   ]
  },
  {
   "cell_type": "code",
   "execution_count": 53,
   "metadata": {
    "ExecuteTime": {
     "end_time": "2018-12-16T19:31:03.362190Z",
     "start_time": "2018-12-16T19:30:59.643053Z"
    }
   },
   "outputs": [
    {
     "name": "stdout",
     "output_type": "stream",
     "text": [
      "CPU times: user 3.65 s, sys: 52 ms, total: 3.7 s\n",
      "Wall time: 3.71 s\n"
     ]
    }
   ],
   "source": [
    "%%time\n",
    "genh_newannots = df_genh.annot.apply(reformat_genhancer)"
   ]
  },
  {
   "cell_type": "code",
   "execution_count": 54,
   "metadata": {
    "ExecuteTime": {
     "end_time": "2018-12-16T19:31:03.382720Z",
     "start_time": "2018-12-16T19:31:03.368804Z"
    },
    "scrolled": true
   },
   "outputs": [
    {
     "data": {
      "text/plain": [
       "0    src:GH02F070017;targets:PCBP1-AS1;score:12.90|...\n",
       "1    src:GH18F048592;targets:ENSG00000278983;score:...\n",
       "2    src:GH05F168312;targets:WWC1;score:12.82|src:G...\n",
       "3    src:GH12F047204;targets:RPAP3;score:17.58|src:...\n",
       "4    src:GH21F039630;targets:B3GALT5-AS1;score:46.8...\n",
       "Name: annot, dtype: object"
      ]
     },
     "execution_count": 54,
     "metadata": {},
     "output_type": "execute_result"
    }
   ],
   "source": [
    "genh_newannots.head()"
   ]
  },
  {
   "cell_type": "code",
   "execution_count": 56,
   "metadata": {
    "ExecuteTime": {
     "end_time": "2018-12-16T19:31:16.763672Z",
     "start_time": "2018-12-16T19:31:16.750556Z"
    }
   },
   "outputs": [
    {
     "data": {
      "text/plain": [
       "'src:GH02F070017;targets:PCBP1-AS1;score:12.90|src:GH02F070017;targets:ASPRV1;score:11.69|src:GH02F070017;targets:PIR47967;score:0.29|src:GH02F070017;targets:RN7SL470P;score:0.20'"
      ]
     },
     "execution_count": 56,
     "metadata": {},
     "output_type": "execute_result"
    }
   ],
   "source": [
    "genh_newannots[0]"
   ]
  },
  {
   "cell_type": "markdown",
   "metadata": {},
   "source": [
    "##### Gene names"
   ]
  },
  {
   "cell_type": "markdown",
   "metadata": {},
   "source": [
    "Again we need to update the genes so that they match GENCODE ones."
   ]
  },
  {
   "cell_type": "code",
   "execution_count": 57,
   "metadata": {
    "ExecuteTime": {
     "end_time": "2018-12-16T19:48:31.615344Z",
     "start_time": "2018-12-16T19:31:47.920174Z"
    }
   },
   "outputs": [
    {
     "name": "stdout",
     "output_type": "stream",
     "text": [
      "CPU times: user 16min 43s, sys: 296 ms, total: 16min 43s\n",
      "Wall time: 16min 43s\n"
     ]
    }
   ],
   "source": [
    "%%time\n",
    "genh_missing_ENS = []\n",
    "genh_missing_sym = []\n",
    "\n",
    "genh_all_genes = []\n",
    "\n",
    "for annot in genh_newannots:\n",
    "    groups = annot.split('|')\n",
    "    for g in groups:\n",
    "        targs = dataframes.get_field_kv_pairs_list(g,';',':','targets')\n",
    "        \n",
    "        \n",
    "        if targs=='':\n",
    "            continue\n",
    "            \n",
    "        for t in targs.split(','):\n",
    "            genh_all_genes.append(t)\n",
    "            \n",
    "            if t.startswith('ENS'):\n",
    "                if t not in gencode_gene_table.gene_id.values:\n",
    "                    genh_missing_ENS.append(t)\n",
    "                    \n",
    "            else:\n",
    "                if t not in gencode_gene_table.gene_name.values:\n",
    "                    genh_missing_sym.append(t)"
   ]
  },
  {
   "cell_type": "code",
   "execution_count": 58,
   "metadata": {
    "ExecuteTime": {
     "end_time": "2018-12-16T20:42:50.074273Z",
     "start_time": "2018-12-16T20:42:49.612041Z"
    }
   },
   "outputs": [],
   "source": [
    "set_genh_genes = list(set(genh_all_genes))"
   ]
  },
  {
   "cell_type": "code",
   "execution_count": 59,
   "metadata": {
    "ExecuteTime": {
     "end_time": "2018-12-16T20:42:51.097268Z",
     "start_time": "2018-12-16T20:42:51.088016Z"
    }
   },
   "outputs": [],
   "source": [
    "genh_missing_ENS = list(set(genh_missing_ENS))"
   ]
  },
  {
   "cell_type": "code",
   "execution_count": 60,
   "metadata": {
    "ExecuteTime": {
     "end_time": "2018-12-16T20:42:52.217553Z",
     "start_time": "2018-12-16T20:42:52.142565Z"
    }
   },
   "outputs": [],
   "source": [
    "genh_missing_sym = list(set(genh_missing_sym))"
   ]
  },
  {
   "cell_type": "code",
   "execution_count": 61,
   "metadata": {
    "ExecuteTime": {
     "end_time": "2018-12-16T20:43:59.507290Z",
     "start_time": "2018-12-16T20:43:59.493246Z"
    }
   },
   "outputs": [
    {
     "name": "stdout",
     "output_type": "stream",
     "text": [
      "Total nb of Genhancers genes: 95,408\n",
      "Nb missing on Ensembl Ids: 2,405\n",
      "Nb missing from symbols: 51,644\n"
     ]
    }
   ],
   "source": [
    "print(\"Total nb of Genhancers genes: {:,}\\nNb missing on Ensembl Ids: {:,}\\nNb missing from symbols: {:,}\".format(len(set_genh_genes), len(genh_missing_ENS), len(genh_missing_sym)))"
   ]
  },
  {
   "cell_type": "markdown",
   "metadata": {},
   "source": [
    "The total number of genes is weird ... This might explain that I loose half of them.\n",
    "\n",
    "In fact, they put some of their annotated GeneCards genes. I think I can safely ignore these genes."
   ]
  },
  {
   "cell_type": "code",
   "execution_count": 62,
   "metadata": {
    "ExecuteTime": {
     "end_time": "2018-12-16T20:45:11.443141Z",
     "start_time": "2018-12-16T20:45:11.363688Z"
    }
   },
   "outputs": [
    {
     "name": "stdout",
     "output_type": "stream",
     "text": [
      "Out of the 51644 missing genes, 29737 are annotated from GeneCard, and 21907 from other resources...\n"
     ]
    }
   ],
   "source": [
    "N_gc=0\n",
    "N_ot=0\n",
    "for mg in genh_missing_sym:\n",
    "    if mg.startswith('GC'):\n",
    "        N_gc+=1\n",
    "    else:\n",
    "        N_ot+=1\n",
    "print(\"Out of the {} missing genes, {} are annotated from GeneCard, and {} from other resources...\".format(len(genh_missing_sym), N_gc, N_ot))"
   ]
  },
  {
   "cell_type": "markdown",
   "metadata": {},
   "source": [
    "After a few test : some of these in the \"other resources\" may be found in HGNC, but fail to be found in GENCODE (even using the ensemblID). I choose to ignore them too.\n",
    "\n",
    "Also, in the other type of missing genes, most are miRNA, piRNA, or ncRNA. I can ignore them too."
   ]
  },
  {
   "cell_type": "code",
   "execution_count": 63,
   "metadata": {
    "ExecuteTime": {
     "end_time": "2018-12-16T21:04:46.691215Z",
     "start_time": "2018-12-16T20:45:30.578393Z"
    },
    "scrolled": true
   },
   "outputs": [
    {
     "name": "stdout",
     "output_type": "stream",
     "text": [
      "CPU times: user 19min 11s, sys: 2.52 s, total: 19min 13s\n",
      "Wall time: 19min 16s\n"
     ]
    }
   ],
   "source": [
    "%%time\n",
    "\n",
    "(genh_updated_sym,\n",
    " genh_ignored_genes,\n",
    " genh_false_positives_prev,\n",
    " genh_false_positives_syn,\n",
    " genh_genes_not_found) = get_updated_symbols([mg for mg in genh_missing_sym if not mg.startswith('GC')], hgnc_gene_table)"
   ]
  },
  {
   "cell_type": "code",
   "execution_count": 64,
   "metadata": {
    "ExecuteTime": {
     "end_time": "2018-12-16T21:04:46.704785Z",
     "start_time": "2018-12-16T21:04:46.696155Z"
    }
   },
   "outputs": [
    {
     "name": "stdout",
     "output_type": "stream",
     "text": [
      "Number of gene names that can be updated: 640\n",
      "Number of gene names that cannot be updated: 21,266\n"
     ]
    }
   ],
   "source": [
    "print(\"Number of gene names that can be updated: {:,}\".format(len(genh_updated_sym)))\n",
    "print(\"Number of gene names that cannot be updated: {:,}\".format(len(genh_genes_not_found)))"
   ]
  },
  {
   "cell_type": "code",
   "execution_count": 83,
   "metadata": {
    "ExecuteTime": {
     "end_time": "2018-12-17T09:00:08.186607Z",
     "start_time": "2018-12-17T09:00:08.128637Z"
    }
   },
   "outputs": [
    {
     "name": "stdout",
     "output_type": "stream",
     "text": [
      "# missing genes with name indicating an unknown locus, MIR, or PIR, or SNO: 19,499\n",
      "# missing genes with name appearing to be 'normal': 1,767\n"
     ]
    }
   ],
   "source": [
    "missing_genes_weird = []\n",
    "other_missing_genes = []\n",
    "for g in genh_genes_not_found:\n",
    "    if g.startswith('PIR') or g.startswith('LOC') or g.startswith('MIR') or g.startswith('SNO'):\n",
    "        missing_genes_weird.append(g)\n",
    "    else:\n",
    "        other_missing_genes.append(g)\n",
    "        \n",
    "        \n",
    "print(\"# missing genes with name indicating an unknown locus, MIR, or PIR, or SNO: {:,}\".format(len(missing_genes_weird)))\n",
    "print(\"# missing genes with name appearing to be 'normal': {:,}\".format(len(other_missing_genes)))"
   ]
  },
  {
   "cell_type": "code",
   "execution_count": 78,
   "metadata": {
    "ExecuteTime": {
     "end_time": "2018-12-16T21:29:03.703074Z",
     "start_time": "2018-12-16T21:29:03.633749Z"
    }
   },
   "outputs": [],
   "source": [
    "with open(\"./generated_files/genehancer_missing_IDs.tsv\",'w') as f:\n",
    "    for g in genh_missing_ENS:\n",
    "        f.write(g)\n",
    "        f.write('\\n')"
   ]
  },
  {
   "cell_type": "code",
   "execution_count": 79,
   "metadata": {
    "ExecuteTime": {
     "end_time": "2018-12-17T08:56:41.311516Z",
     "start_time": "2018-12-17T08:56:26.624383Z"
    },
    "code_folding": [
     1
    ]
   },
   "outputs": [],
   "source": [
    "# And load the results\n",
    "with open(\"./generated_files/20181217_ensemblGrch37_ID_converted_GENENHANCER.tsv\",'r') as f:\n",
    "    all_results = []\n",
    "    new_gene = []\n",
    "    for l in f:\n",
    "        fields = l.strip('\\n').split(', ')\n",
    "        if fields[0] == '': continue\n",
    "        if fields[0] == 'Old stable ID':\n",
    "            if len(new_gene)>0:\n",
    "                df_gene = pd.DataFrame(new_gene[1:],columns=new_gene[0])\n",
    "                all_results.append(df_gene)\n",
    "                new_gene = [fields]\n",
    "            else:\n",
    "                new_gene.append(fields)\n",
    "        else:\n",
    "            new_gene.append(fields)\n",
    "            \n",
    "    df_gene = pd.DataFrame(new_gene[1:],columns=new_gene[0])\n",
    "    all_results.append(df_gene)\n",
    "    \n",
    "genh_not_found_biomart_table = pd.concat([table.sort_values(by=['Release','Mapping score'],\n",
    "                                                           ascending=[False,False]\n",
    "                                                          ).assign(request=request_g)\n",
    "                                         for request_g, table in zip(genh_missing_ENS, all_results)])\n",
    "\n",
    "genh_not_found_biomart_table.Release = genh_not_found_biomart_table.Release.astype(float)"
   ]
  },
  {
   "cell_type": "code",
   "execution_count": 87,
   "metadata": {
    "ExecuteTime": {
     "end_time": "2018-12-17T09:10:44.360600Z",
     "start_time": "2018-12-17T09:10:44.342913Z"
    }
   },
   "outputs": [
    {
     "data": {
      "text/plain": [
       "(960,)"
      ]
     },
     "execution_count": 87,
     "metadata": {},
     "output_type": "execute_result"
    }
   ],
   "source": [
    "genh_not_found_biomart_table['Old stable ID'].unique().shape"
   ]
  },
  {
   "cell_type": "code",
   "execution_count": 92,
   "metadata": {
    "ExecuteTime": {
     "end_time": "2018-12-17T09:13:29.175696Z",
     "start_time": "2018-12-17T09:13:26.988632Z"
    },
    "scrolled": true
   },
   "outputs": [
    {
     "name": "stdout",
     "output_type": "stream",
     "text": [
      "ENSG00000228404\n",
      "ENSG00000258297\n",
      "ENSG00000253065\n",
      "ENSG00000253047\n",
      "ENSG00000280389\n",
      "ENSG00000278482\n",
      "ENSG00000279131\n",
      "ENSG00000273750\n",
      "ENSG00000258941\n",
      "ENSG00000200888\n",
      "ENSG00000201279\n",
      "ENSG00000248317\n",
      "ENSG00000200742\n",
      "ENSG00000207024\n",
      "ENSG00000278413\n",
      "ENSG00000206976\n",
      "ENSG00000223080\n",
      "ENSG00000206679\n",
      "ENSG00000263823\n",
      "ENSG00000202035\n",
      "ENSG00000231013\n",
      "ENSG00000281527\n",
      "ENSG00000275908\n",
      "ENSG00000227824\n",
      "ENSG00000206741\n",
      "ENSG00000200492\n",
      "ENSG00000223271\n",
      "ENSG00000283432\n",
      "ENSG00000254662\n",
      "ENSG00000260651\n",
      "ENSG00000199490\n",
      "ENSG00000206840\n",
      "ENSG00000254281\n",
      "ENSG00000200855\n",
      "ENSG00000212532\n",
      "ENSG00000201741\n",
      "ENSG00000260521\n",
      "ENSG00000207282\n",
      "ENSG00000275287\n",
      "ENSG00000206995\n",
      "ENSG00000279534\n",
      "ENSG00000252894\n",
      "ENSG00000274848\n",
      "ENSG00000271762\n",
      "ENSG00000199832\n",
      "ENSG00000254757\n",
      "ENSG00000251099\n",
      "ENSG00000281042\n",
      "ENSG00000277677\n",
      "ENSG00000257286\n",
      "ENSG00000241539\n",
      "ENSG00000281331\n",
      "ENSG00000264562\n",
      "ENSG00000261496\n",
      "ENSG00000276494\n",
      "ENSG00000266973\n",
      "ENSG00000274197\n",
      "ENSG00000269921\n",
      "ENSG00000200506\n",
      "ENSG00000207101\n",
      "ENSG00000273701\n",
      "ENSG00000202014\n",
      "ENSG00000226816\n",
      "ENSG00000279456\n",
      "ENSG00000201945\n",
      "ENSG00000264527\n",
      "ENSG00000278643\n",
      "ENSG00000279921\n",
      "ENSG00000201868\n",
      "ENSG00000251744\n",
      "ENSG00000212228\n",
      "ENSG00000207300\n",
      "ENSG00000279380\n",
      "ENSG00000212610\n",
      "ENSG00000279166\n",
      "ENSG00000212383\n",
      "ENSG00000254653\n",
      "ENSG00000267458\n",
      "ENSG00000283553\n",
      "ENSG00000224441\n",
      "ENSG00000201371\n",
      "ENSG00000202476\n",
      "ENSG00000269970\n",
      "ENSG00000252170\n",
      "ENSG00000279156\n",
      "ENSG00000276229\n",
      "ENSG00000283299\n",
      "ENSG00000199977\n",
      "ENSG00000201809\n",
      "ENSG00000199740\n",
      "ENSG00000201134\n",
      "ENSG00000252283\n",
      "ENSG00000199303\n",
      "ENSG00000232355\n",
      "ENSG00000252050\n",
      "ENSG00000239093\n",
      "ENSG00000200051\n",
      "ENSG00000260693\n",
      "ENSG00000283675\n",
      "ENSG00000253016\n",
      "ENSG00000279925\n",
      "ENSG00000273549\n",
      "ENSG00000206967\n",
      "ENSG00000281873\n",
      "ENSG00000259771\n",
      "ENSG00000251830\n",
      "ENSG00000283233\n",
      "ENSG00000278333\n",
      "ENSG00000239182\n",
      "ENSG00000242791\n",
      "ENSG00000276525\n",
      "ENSG00000279048\n",
      "ENSG00000277396\n",
      "ENSG00000201830\n",
      "ENSG00000239142\n",
      "ENSG00000252284\n",
      "ENSG00000270067\n",
      "ENSG00000273621\n",
      "ENSG00000200135\n",
      "ENSG00000242150\n",
      "ENSG00000277460\n",
      "ENSG00000280077\n",
      "ENSG00000202273\n",
      "ENSG00000200241\n",
      "ENSG00000252138\n",
      "ENSG00000279644\n",
      "ENSG00000188477\n",
      "ENSG00000206808\n",
      "ENSG00000274879\n",
      "ENSG00000281602\n",
      "ENSG00000206719\n",
      "ENSAP2\n",
      "ENSG00000279524\n",
      "ENSG00000256810\n",
      "ENSG00000207516\n",
      "ENSG00000230387\n",
      "ENSG00000279560\n",
      "ENSG00000206903\n",
      "ENSG00000225704\n",
      "ENSG00000201368\n",
      "ENSG00000252436\n",
      "ENSG00000259241\n",
      "ENSG00000271027\n",
      "ENSG00000199263\n",
      "ENSG00000257489\n",
      "ENSG00000200842\n",
      "ENSG00000275933\n",
      "ENSG00000202224\n",
      "ENSG00000206905\n",
      "ENSG00000252438\n",
      "ENSG00000200287\n",
      "ENSG00000252537\n",
      "ENSG00000206738\n",
      "ENSG00000267257\n",
      "ENSG00000199911\n",
      "ENSG00000264452\n",
      "ENSG00000239041\n",
      "ENSG00000252190\n",
      "ENSG00000200418\n",
      "ENSG00000202169\n",
      "ENSG00000212404\n",
      "ENSG00000224244\n",
      "ENSG00000277250\n",
      "ENSG00000179755\n",
      "ENSG00000199409\n",
      "ENSG00000277628\n",
      "ENSG00000212579\n",
      "ENSG00000276185\n",
      "ENSG00000258325\n",
      "ENSG00000283501\n",
      "ENSG00000258504\n",
      "ENSG00000261672\n",
      "ENSG00000272209\n",
      "ENSG00000281182\n",
      "ENSG00000225302\n",
      "ENSG00000281584\n",
      "ENSG00000200688\n",
      "ENSG00000225541\n",
      "ENSG00000202275\n",
      "ENSG00000283414\n",
      "ENSG00000260814\n",
      "ENSG00000262049\n",
      "ENSG00000238585\n",
      "ENSG00000282359\n",
      "ENSG00000206770\n",
      "ENSG00000201867\n",
      "ENSG00000199540\n",
      "ENSG00000207244\n",
      "ENSG00000250069\n",
      "ENSG00000222503\n",
      "ENSG00000276376\n",
      "ENSG00000268036\n",
      "ENSG00000206705\n",
      "ENSG00000276626\n",
      "ENSG00000220745\n",
      "ENSG00000273306\n",
      "ENSG00000259437\n",
      "ENSG00000199245\n",
      "ENSG00000201216\n",
      "ENSG00000202100\n",
      "ENSG00000207027\n",
      "ENSG00000231712\n",
      "ENSG00000275291\n",
      "ENSG00000251010\n",
      "ENSG00000238764\n",
      "ENSG00000199223\n",
      "ENSG00000229990\n",
      "ENSG00000283224\n",
      "ENSG00000201683\n",
      "ENSG00000281825\n",
      "ENSG00000201680\n",
      "ENSG00000260563\n",
      "ENSAP1\n",
      "ENSG00000221639\n",
      "ENSG00000258516\n",
      "ENSG00000248249\n",
      "ENSG00000278724\n",
      "ENSG00000206951\n",
      "ENSG00000201384\n",
      "ENSG00000261320\n",
      "ENSG00000281896\n",
      "ENSG00000238297\n",
      "ENSG00000243296\n",
      "ENSG00000277678\n",
      "ENSG00000206672\n",
      "ENSG00000253263\n",
      "ENSG00000212558\n",
      "ENSG00000273407\n",
      "ENSG00000265114\n",
      "ENSG00000238410\n",
      "ENSG00000200693\n",
      "ENSG00000247903\n",
      "ENSG00000279892\n",
      "ENSG00000277035\n",
      "ENSG00000202279\n",
      "ENSG00000274114\n",
      "ENSG00000277818\n",
      "ENSG00000274079\n",
      "ENSG00000201034\n",
      "ENSG00000257258\n",
      "ENSG00000276601\n",
      "ENSG00000280704\n",
      "ENSG00000280473\n",
      "ENSG00000200390\n",
      "ENSG00000257120\n",
      "ENSG00000252204\n",
      "ENSG00000281369\n",
      "ENSG00000207094\n",
      "ENSG00000279256\n",
      "ENSG00000199698\n",
      "ENSG00000256083\n",
      "ENSG00000281516\n",
      "ENSG00000230299\n",
      "ENSG00000272342\n",
      "ENSG00000221633\n",
      "ENSG00000212211\n",
      "ENSG00000238326\n",
      "ENSG00000271324\n",
      "ENSG00000206792\n",
      "ENSG00000273710\n",
      "ENSG00000201209\n",
      "ENSG00000207466\n",
      "ENSG00000267419\n",
      "ENSG00000212539\n",
      "ENSG00000206756\n",
      "ENSG00000278636\n",
      "ENSG00000201003\n",
      "ENSG00000280260\n",
      "ENSG00000207084\n",
      "ENSG00000220986\n",
      "ENSG00000222145\n",
      "ENSG00000238906\n",
      "ENSG00000206646\n",
      "ENSG00000201548\n",
      "ENSG00000206806\n",
      "ENSG00000238761\n",
      "ENSG00000235319\n",
      "ENSG00000272798\n",
      "ENSG00000279518\n",
      "ENSG00000266929\n",
      "ENSG00000270093\n",
      "ENSG00000240050\n",
      "ENSG00000205663\n",
      "ENSG00000224291\n",
      "ENSG00000277777\n",
      "ENSG00000202498\n",
      "ENSG00000277510\n",
      "ENSG00000201555\n",
      "ENSG00000237321\n",
      "ENSG00000201025\n",
      "ENSG00000275745\n",
      "ENSG00000273499\n",
      "ENSG00000279849\n",
      "ENSG00000252759\n",
      "ENSG00000207176\n",
      "ENSG00000283147\n",
      "ENSG00000255057\n",
      "ENSG00000249275\n",
      "ENSG00000275625\n",
      "ENSG00000277965\n",
      "ENSG00000262343\n",
      "ENSG00000206929\n",
      "ENSG00000231505\n",
      "ENSG00000250769\n",
      "ENSG00000222394\n",
      "ENSG00000262198\n",
      "ENSG00000252798\n",
      "ENSG00000207368\n",
      "ENSG00000207379\n",
      "ENSG00000277864\n",
      "ENSG00000206817\n",
      "ENSG00000207210\n",
      "ENSG00000252822\n",
      "ENSG00000206731\n",
      "ENSG00000202389\n",
      "ENSG00000273389\n",
      "ENSG00000274505\n",
      "ENSG00000226078\n",
      "ENSG00000283283\n",
      "ENSG00000281126\n",
      "ENSG00000199196\n",
      "ENSG00000283372\n",
      "ENSG00000279927\n",
      "ENSG00000276670\n",
      "ENSG00000207207\n",
      "ENSG00000200008\n",
      "ENSG00000279143\n",
      "ENSG00000230947\n",
      "ENSG00000252049\n",
      "ENSG00000212182\n",
      "ENSG00000274817\n",
      "ENSG00000221345\n",
      "ENSG00000252011\n",
      "ENSG00000200262\n",
      "ENSG00000267484\n",
      "ENSG00000283332\n",
      "ENSG00000270281\n",
      "ENSG00000274409\n",
      "ENSG00000215159\n",
      "ENSG00000272707\n",
      "ENSG00000250411\n",
      "ENSG00000272524\n",
      "ENSG00000277386\n",
      "ENSG00000212461\n",
      "ENSG00000201791\n",
      "ENSG00000267250\n",
      "ENSG00000186148\n",
      "ENSG00000199936\n",
      "ENSG00000207108\n",
      "ENSG00000278498\n",
      "ENSG00000200041\n",
      "ENSG00000221496\n",
      "ENSG00000207425\n",
      "ENSG00000228165\n",
      "ENSG00000252787\n",
      "ENSG00000275054\n",
      "ENSG00000253248\n",
      "ENSG00000207417\n",
      "ENSG00000230024\n",
      "ENSG00000254988\n",
      "ENSG00000207119\n",
      "ENSG00000201701\n",
      "ENSG00000205041\n",
      "ENSG00000252458\n",
      "ENSG00000199273\n",
      "ENSG00000200164\n",
      "ENSG00000279007\n",
      "ENSG00000277997\n",
      "ENSG00000252965\n",
      "ENSG00000275642\n",
      "ENSG00000275001\n",
      "ENSG00000206822\n",
      "ENSG00000253287\n",
      "ENSG00000275586\n",
      "ENSG00000212321\n",
      "ENSG00000225471\n",
      "ENSG00000280298\n",
      "ENSG00000200620\n",
      "ENSG00000249086\n",
      "ENSG00000201178\n",
      "ENSG00000259992\n",
      "ENSG00000278055\n",
      "ENSG00000200521\n",
      "ENSG00000207217\n",
      "ENSG00000278802\n",
      "ENSG00000238854\n",
      "ENSG00000202231\n",
      "ENSG00000279884\n",
      "ENSG00000201432\n",
      "ENSG00000200040\n",
      "ENSG00000199566\n",
      "ENSG00000251818\n",
      "ENSG00000254100\n",
      "ENSG00000212149\n",
      "ENSG00000274284\n",
      "ENSG00000212338\n",
      "ENSG00000200600\n",
      "ENSG00000251967\n",
      "ENSG00000259181\n",
      "ENSG00000225173\n",
      "ENSG00000207249\n",
      "ENSG00000200361\n",
      "ENSG00000212428\n",
      "ENSG00000268955\n",
      "ENSG00000212363\n",
      "ENSG00000277826\n",
      "ENSG00000212608\n",
      "ENSG00000272237\n",
      "ENSG00000275646\n",
      "ENSG00000202449\n",
      "ENSG00000252777\n",
      "ENSG00000283164\n",
      "ENSG00000252408\n",
      "ENSG00000272465\n",
      "ENSG00000279805\n",
      "ENSG00000228505\n",
      "ENSG00000259937\n",
      "ENSG00000255830\n",
      "ENSG00000201489\n",
      "ENSG00000281808\n",
      "ENSG00000272981\n",
      "ENSG00000260585\n",
      "ENSG00000275656\n",
      "ENSG00000237979\n",
      "ENSG00000275877\n",
      "ENSG00000277994\n",
      "ENSG00000201398\n",
      "ENSG00000202310\n",
      "ENSG00000201340\n",
      "ENSG00000277634\n",
      "ENSG00000212581\n",
      "ENSG00000278938\n",
      "ENSG00000280403\n",
      "ENSG00000267874\n",
      "ENSG00000236936\n",
      "ENSG00000237921\n",
      "ENSG00000277081\n",
      "ENSG00000270761\n",
      "ENSG00000200677\n",
      "ENSG00000206768\n",
      "ENSG00000225745\n",
      "ENSG00000207302\n",
      "ENSG00000273573\n",
      "ENSG00000199459\n",
      "ENSG00000279100\n",
      "ENSG00000206957\n",
      "ENSG00000266469\n",
      "ENSG00000258943\n",
      "ENSG00000242222\n",
      "ENSG00000283300\n",
      "ENSG00000251858\n",
      "ENSG00000252404\n",
      "ENSG00000225057\n",
      "ENSG00000253088\n",
      "ENSG00000279307\n",
      "ENSG00000274011\n",
      "ENSG00000212302\n",
      "ENSG00000207317\n",
      "ENSG00000207283\n",
      "ENSG00000253007\n",
      "ENSG00000279133\n",
      "ENSG00000275635\n",
      "ENSG00000258888\n",
      "ENSG00000201733\n",
      "ENSG00000249423\n",
      "ENSG00000253096\n",
      "ENSG00000274996\n",
      "ENSG00000212306\n",
      "ENSG00000231243\n",
      "ENSG00000278236\n",
      "ENSG00000267150\n",
      "ENSG00000278868\n",
      "ENSG00000227743\n",
      "ENSG00000276729\n",
      "ENSG00000201370\n",
      "ENSG00000233625\n",
      "ENSG00000200112\n",
      "ENSG00000279791\n",
      "ENSG00000261353\n",
      "ENSG00000252830\n",
      "ENSG00000231740\n",
      "ENSG00000267012\n",
      "ENSG00000230846\n",
      "ENSG00000239804\n",
      "ENSG00000264029\n",
      "ENSG00000277320\n",
      "ENSG00000200344\n",
      "ENSG00000232559\n",
      "ENSG00000259072\n",
      "ENSG00000206690\n",
      "ENSG00000202190\n",
      "ENSG00000202276\n",
      "ENSG00000279686\n",
      "ENSG00000264296\n",
      "ENSG00000201151\n",
      "ENSG00000176882\n",
      "ENSG00000277598\n",
      "ENSG00000202001\n",
      "ENSG00000269941\n",
      "ENSG00000280130\n",
      "ENSG00000248478\n",
      "ENSG00000252660\n",
      "ENSG00000226738\n",
      "ENSG00000278913\n",
      "ENSG00000223220\n",
      "ENSG00000252461\n",
      "ENSG00000212181\n",
      "ENSG00000212594\n",
      "ENSG00000207480\n",
      "ENSG00000201465\n",
      "ENSG00000224969\n",
      "ENSG00000280041\n",
      "ENSG00000270160\n",
      "ENSG00000224235\n",
      "ENSG00000281446\n",
      "ENSG00000200237\n",
      "ENSG00000202402\n",
      "ENSG00000244158\n",
      "ENSG00000226699\n",
      "ENSG00000282889\n",
      "ENSG00000207292\n",
      "ENSG00000212206\n",
      "ENSG00000229960\n",
      "ENSG00000252919\n",
      "ENSG00000199867\n",
      "ENSG00000201118\n",
      "ENSG00000257645\n",
      "ENSG00000199220\n",
      "ENSG00000261632\n",
      "ENSG00000276839\n",
      "ENSG00000202410\n",
      "ENSG00000206776\n",
      "ENSG00000212589\n",
      "ENSG00000278959\n",
      "ENSG00000207363\n",
      "ENSG00000267011\n",
      "ENSG00000277168\n",
      "ENSG00000277739\n",
      "ENSG00000200351\n",
      "ENSG00000200113\n",
      "ENSG00000278586\n",
      "ENSG00000251778\n",
      "ENSG00000278040\n",
      "ENSG00000273595\n",
      "ENSG00000206862\n",
      "ENSG00000199552\n",
      "ENSG00000252218\n",
      "ENSG00000212266\n",
      "ENSG00000263788\n",
      "ENSG00000283313\n",
      "ENSG00000252800\n",
      "ENSG00000263004\n",
      "ENSG00000253472\n",
      "ENSG00000279396\n",
      "ENSG00000279159\n",
      "ENSG00000206647\n",
      "ENSG00000283229\n",
      "ENSG00000249734\n",
      "ENSG00000259957\n",
      "ENSG00000269125\n",
      "ENSG00000276304\n",
      "ENSG00000235845\n",
      "ENSG00000238570\n",
      "ENSG00000221044\n",
      "ENSG00000236082\n",
      "ENSG00000278007\n",
      "ENSG00000272416\n",
      "ENSG00000259444\n",
      "ENSG00000252742\n",
      "ENSG00000262670\n",
      "ENSG00000200572\n",
      "ENSG00000280671\n",
      "ENSG00000278785\n",
      "ENSG00000207258\n",
      "ENSG00000252319\n",
      "ENSG00000277051\n",
      "ENSG00000199392\n",
      "ENSG00000235271\n",
      "ENSG00000242618\n",
      "ENSG00000202019\n",
      "ENSG00000206659\n",
      "ENSG00000199711\n",
      "ENSG00000253092\n",
      "ENSG00000281282\n",
      "ENSG00000212556\n",
      "ENSG00000206636\n",
      "ENSG00000202438\n",
      "ENSG00000280127\n",
      "ENSG00000252719\n",
      "ENSG00000231435\n",
      "ENSG00000269069\n",
      "ENSG00000275611\n",
      "ENSG00000212533\n",
      "ENSG00000276675\n",
      "ENSG00000260867\n",
      "ENSG00000261071\n",
      "ENSG00000239080\n",
      "ENSG00000272579\n",
      "ENSG00000257474\n",
      "ENSG00000255354\n",
      "ENSG00000255535\n",
      "ENSG00000226955\n",
      "ENSG00000278951\n",
      "ENSG00000201554\n",
      "ENSG00000252923\n",
      "ENSG00000275559\n",
      "ENSG00000201388\n",
      "ENSG00000224985\n",
      "ENSG00000280151\n",
      "ENSG00000200834\n",
      "ENSG00000231294\n",
      "ENSG00000199591\n",
      "ENSG00000278743\n",
      "ENSG00000200305\n",
      "ENSG00000276722\n",
      "ENSG00000222511\n",
      "ENSG00000212448\n",
      "ENSG00000238372\n",
      "ENSG00000201157\n",
      "ENSG00000274006\n",
      "ENSG00000277604\n",
      "ENSG00000252112\n",
      "ENSG00000212377\n",
      "ENSG00000258383\n",
      "ENSG00000201881\n",
      "ENSG00000256763\n",
      "EN"
     ]
    },
    {
     "data": {
      "text/html": [
       "<b>limit_output extension: Maximum message size of 10000 exceeded with 10382 characters</b>"
      ]
     },
     "metadata": {},
     "output_type": "display_data"
    }
   ],
   "source": [
    "# Those are the genes that are in GENENHANCER but not found in GENCODE, but not even remapped to an old Ensembl ID by BioMart...\n",
    "for g in genh_missing_ENS:\n",
    "    if g not in genh_not_found_biomart_table['Old stable ID'].unique():\n",
    "        print(g)"
   ]
  },
  {
   "cell_type": "code",
   "execution_count": 80,
   "metadata": {
    "ExecuteTime": {
     "end_time": "2018-12-17T08:57:01.957366Z",
     "start_time": "2018-12-17T08:57:00.372474Z"
    },
    "collapsed": true
   },
   "outputs": [
    {
     "name": "stdout",
     "output_type": "stream",
     "text": [
      "ENSG00000150076 was retired in latest Release (88)\n",
      "ENSG00000182109 was retired in latest Release (92)\n",
      "ENSG00000187695 was retired in latest Release (92)\n",
      "ENSG00000188477 was retired in latest Release (88)\n",
      "ENSG00000205662 was retired in latest Release (94)\n",
      "ENSG00000205663 was retired in latest Release (94)\n",
      "ENSG00000215447 was retired in latest Release (92)\n",
      "ENSG00000223401 was retired in latest Release (92)\n",
      "ENSG00000223473 was retired in latest Release (88)\n",
      "ENSG00000223562 was retired in latest Release (88)\n",
      "ENSG00000224235 was retired in latest Release (92)\n",
      "ENSG00000224441 was retired in latest Release (92)\n",
      "ENSG00000224460 was retired in latest Release (88)\n",
      "ENSG00000224850 was retired in latest Release (88)\n",
      "ENSG00000224911 was retired in latest Release (88)\n",
      "ENSG00000225302 was retired in latest Release (92)\n",
      "ENSG00000225541 was retired in latest Release (94)\n",
      "ENSG00000225704 was retired in latest Release (94)\n",
      "ENSG00000225745 was retired in latest Release (92)\n",
      "ENSG00000226434 was retired in latest Release (94)\n",
      "ENSG00000226738 was retired in latest Release (94)\n",
      "ENSG00000226785 was retired in latest Release (94)\n",
      "ENSG00000227363 was retired in latest Release (88)\n",
      "ENSG00000227603 was retired in latest Release (94)\n",
      "ENSG00000228614 was retired in latest Release (94)\n",
      "ENSG00000228616 was retired in latest Release (92)\n",
      "ENSG00000228704 was retired in latest Release (88)\n",
      "ENSG00000228798 was retired in latest Release (92)\n",
      "ENSG00000230024 was retired in latest Release (88)\n",
      "ENSG00000230372 was retired in latest Release (92)\n",
      "ENSG00000230439 was retired in latest Release (94)\n",
      "ENSG00000231294 was retired in latest Release (88)\n",
      "ENSG00000231335 was retired in latest Release (92)\n",
      "ENSG00000231429 was retired in latest Release (94)\n",
      "ENSG00000231435 was retired in latest Release (94)\n",
      "ENSG00000232532 was retired in latest Release (88)\n",
      "ENSG00000232559 was retired in latest Release (88)\n",
      "ENSG00000233438 was retired in latest Release (88)\n",
      "ENSG00000234165 was retired in latest Release (94)\n",
      "ENSG00000236082 was retired in latest Release (94)\n",
      "ENSG00000236392 was retired in latest Release (94)\n",
      "ENSG00000237021 was retired in latest Release (92)\n",
      "ENSG00000238268 was retired in latest Release (88)\n",
      "ENSG00000240050 was retired in latest Release (92)\n",
      "ENSG00000240524 was retired in latest Release (90)\n",
      "ENSG00000242150 was retired in latest Release (90)\n",
      "ENSG00000243012 was retired in latest Release (94)\n",
      "ENSG00000243583 was retired in latest Release (90)\n",
      "ENSG00000243993 was retired in latest Release (88)\n",
      "ENSG00000244382 was retired in latest Release (88)\n",
      "ENSG00000247732 was retired in latest Release (94)\n",
      "ENSG00000248478 was retired in latest Release (94)\n",
      "ENSG00000248986 was retired in latest Release (92)\n",
      "ENSG00000248999 was retired in latest Release (88)\n",
      "ENSG00000249365 was retired in latest Release (92)\n",
      "ENSG00000249423 was retired in latest Release (92)\n",
      "ENSG00000249734 was retired in latest Release (94)\n",
      "ENSG00000250411 was retired in latest Release (92)\n",
      "ENSG00000251628 was retired in latest Release (94)\n",
      "ENSG00000253248 was retired in latest Release (94)\n",
      "ENSG00000253426 was retired in latest Release (94)\n",
      "ENSG00000253839 was retired in latest Release (94)\n",
      "ENSG00000254010 was retired in latest Release (92)\n",
      "ENSG00000254018 was retired in latest Release (94)\n",
      "ENSG00000254100 was retired in latest Release (92)\n",
      "ENSG00000254199 was retired in latest Release (90)\n",
      "ENSG00000254223 was retired in latest Release (92)\n",
      "ENSG00000254267 was retired in latest Release (94)\n",
      "ENSG00000254281 was retired in latest Release (94)\n",
      "ENSG00000254869 was retired in latest Release (94)\n",
      "ENSG00000255125 was retired in latest Release (92)\n",
      "ENSG00000255318 was retired in latest Release (88)\n",
      "ENSG00000255354 was retired in latest Release (92)\n",
      "ENSG00000255518 was retired in latest Release (92)\n",
      "ENSG00000255546 was retired in latest Release (92)\n",
      "ENSG00000255864 was retired in latest Release (92)\n",
      "ENSG00000256248 was retired in latest Release (92)\n",
      "ENSG00000256276 was retired in latest Release (92)\n",
      "ENSG00000256725 was retired in latest Release (92)\n",
      "ENSG00000256763 was retired in latest Release (92)\n",
      "ENSG00000256790 was retired in latest Release (88)\n",
      "ENSG00000256953 was retired in latest Release (92)\n",
      "ENSG00000258297 was retired in latest Release (94)\n",
      "ENSG00000258582 was retired in latest Release (90)\n",
      "ENSG00000258809 was retired in latest Release (90)\n",
      "ENSG00000258825 was retired in latest Release (88)\n",
      "ENSG00000258941 was retired in latest Release (90)\n",
      "ENSG00000259279 was retired in latest Release (92)\n",
      "ENSG00000259348 was retired in latest Release (90)\n",
      "ENSG00000259372 was retired in latest Release (90)\n",
      "ENSG00000259450 was retired in latest Release (92)\n",
      "ENSG00000259799 was retired in latest Release (88)\n",
      "ENSG00000259859 was retired in latest Release (90)\n",
      "ENSG00000259957 was retired in latest Release (92)\n",
      "ENSG00000260114 was retired in latest Release (94)\n",
      "ENSG00000260521 was retired in latest Release (90)\n",
      "ENSG00000260687 was retired in latest Release (90)\n",
      "ENSG00000260837 was retired in latest Release (88)\n",
      "ENSG00000260940 was retired in latest Release (94)\n",
      "ENSG00000261013 was retired in latest Release (94)\n",
      "ENSG00000261317 was retired in latest Release (92)\n",
      "ENSG00000261353 was retired in latest Release (90)\n",
      "ENSG00000261496 was retired in latest Release (88)\n",
      "ENSG00000261574 was retired in latest Release (92)\n",
      "ENSG00000261672 was retired in latest Release (92)\n",
      "ENSG00000262222 was retired in latest Release (92)\n",
      "ENSG00000262251 was retired in latest Release (94)\n",
      "ENSG00000262670 was retired in latest Release (90)\n",
      "ENSG00000262888 was retired in latest Release (94)\n",
      "ENSG00000263013 was retired in latest Release (92)\n",
      "ENSG00000264263 was retired in latest Release (94)\n",
      "ENSG00000264527 was retired in latest Release (88)\n",
      "ENSG00000265114 was retired in latest Release (94)\n",
      "ENSG00000266411 was retired in latest Release (94)\n",
      "ENSG00000267194 was retired in latest Release (92)\n",
      "ENSG00000267268 was retired in latest Release (90)\n",
      "ENSG00000267747 was retired in latest Release (94)\n",
      "ENSG00000267874 was retired in latest Release (88)\n",
      "ENSG00000268036 was retired in latest Release (94)\n",
      "ENSG00000268714 was retired in latest Release (92)\n",
      "ENSG00000269916 was retired in latest Release (94)\n",
      "ENSG00000269941 was retired in latest Release (88)\n",
      "ENSG00000269998 was retired in latest Release (92)\n",
      "ENSG00000270058 was retired in latest Release (94)\n",
      "ENSG00000270067 was retired in latest Release (92)\n",
      "ENSG00000270093 was retired in latest Release (92)\n",
      "ENSG00000270160 was retired in latest Release (92)\n",
      "ENSG00000270189 was retired in latest Release (88)\n",
      "ENSG00000270223 was retired in latest Release (88)\n",
      "ENSG00000270750 was retired in latest Release (92)\n",
      "ENSG00000271020 was retired in latest Release (94)\n",
      "ENSG00000271324 was retired in latest Release (94)\n",
      "ENSG00000271430 was retired in latest Release (88)\n",
      "ENSG00000271762 was retired in latest Release (94)\n",
      "ENSG00000271941 was retired in latest Release (94)\n",
      "ENSG00000271970 was retired in latest Release (92)\n",
      "ENSG00000272053 was retired in latest Release (92)\n",
      "ENSG00000272135 was retired in latest Release (92)\n",
      "ENSG00000272250 was retired in latest Release (90)\n",
      "ENSG00000272367 was retired in latest Release (92)\n",
      "ENSG00000272389 was retired in latest Release (92)\n",
      "ENSG00000272524 was retired in latest Release (90)\n",
      "ENSG00000272579 was retired in latest Release (92)\n",
      "ENSG00000272724 was retired in latest Release (92)\n",
      "ENSG00000272827 was retired in latest Release (92)\n",
      "ENSG00000272869 was retired in latest Release (92)\n",
      "ENSG00000272981 was retired in latest Release (92)\n",
      "ENSG00000272993 was retired in latest Release (94)\n",
      "ENSG00000273009 was retired in latest Release (90)\n",
      "ENSG00000273030 was retired in latest Release (90)\n",
      "ENSG00000273352 was retired in latest Release (88)\n",
      "ENSG00000273389 was retired in latest Release (90)\n",
      "ENSG00000273478 was retired in latest Release (94)\n",
      "ENSG00000274245 was retired in latest Release (92)\n",
      "ENSG00000274457 was retired in latest Release (94)\n",
      "ENSG00000274627 was retired in latest Release (92)\n",
      "ENSG00000275142 was retired in latest Release (94)\n",
      "ENSG00000275611 was retired in latest Release (94)\n",
      "ENSG00000276073 was retired in latest Release (92)\n",
      "ENSG00000277192 was retired in latest Release (88)\n",
      "ENSG00000277427 was retired in latest Release (92)\n",
      "ENSG00000278448 was retired in latest Release (90)\n",
      "ENSG00000278451 was retired in latest Release (88)\n",
      "ENSG00000278868 was retired in latest Release (88)\n",
      "ENSG00000278883 was retired in latest Release (88)\n",
      "ENSG00000278888 was retired in latest Release (88)\n",
      "ENSG00000278937 was retired in latest Release (94)\n",
      "ENSG00000278938 was retired in latest Release (88)\n",
      "ENSG00000278939 was retired in latest Release (88)\n",
      "ENSG00000278951 was retired in latest Release (88)\n",
      "ENSG00000279007 was retired in latest Release (88)\n",
      "ENSG00000279018 was retired in latest Release (88)\n",
      "ENSG00000279054 was retired in latest Release (88)\n",
      "ENSG00000279084 was retired in latest Release (88)\n",
      "ENSG00000279126 was retired in latest Release (88)\n",
      "ENSG00000279131 was retired in latest Release (88)\n",
      "ENSG00000279183 was retired in latest Release (88)\n",
      "ENSG00000279184 was retired in latest Release (90)\n",
      "ENSG00000279229 was retired in latest Release (88)\n",
      "ENSG00000279230 was retired in latest Release (88)\n",
      "ENSG00000279238 was retired in latest Release (88)\n",
      "ENSG00000279244 was retired in latest Release (88)\n",
      "ENSG00000279282 was retired in latest Release (88)\n",
      "ENSG00000279335 was retired in latest Release (92)\n",
      "ENSG00000279346 was retired in latest Release (88)\n",
      "ENSG00000279362 was retired in latest Release (88)\n",
      "ENSG00000279363 was retired in latest Release (88)\n",
      "ENSG00000279380 was retired in latest Release (88)\n",
      "ENSG00000279396 was retired in latest Release (92)\n",
      "ENSG00000279448 was retired in latest Release (88)\n",
      "ENSG00000279471 was retired in latest Release (88)\n",
      "ENSG00000279473 was retired in latest Release (88)\n",
      "ENSG00000279510 was retired in latest Release (88)\n",
      "ENSG00000279524 was retired in latest Release (88)\n",
      "ENSG00000279533 was retired in latest Release (88)\n",
      "ENSG00000279535 was retired in latest Release (94)\n",
      "ENSG"
     ]
    },
    {
     "data": {
      "text/html": [
       "<b>limit_output extension: Maximum message size of 10000 exceeded with 13463 characters</b>"
      ]
     },
     "metadata": {},
     "output_type": "display_data"
    }
   ],
   "source": [
    "# Now for each requested gene, look at the best hit in the 76 version. If \"retired\", print it,\n",
    "# otherwise store the mapping.\n",
    "\n",
    "genh_ENS_missing_map = {}\n",
    "genh_ENS_n_retired = 0\n",
    "\n",
    "for missing_g, res_df in genh_not_found_biomart_table.groupby('request'):\n",
    "    #print(res_df.loc[res_df.Release=='76',:,])\n",
    "    best_match = res_df.iloc[0,:]['New stable ID']\n",
    "    latest_release = res_df.iloc[0,:]['Release']\n",
    "    if best_match =='<retired>':\n",
    "        genh_ENS_n_retired+=1\n",
    "        print(\"{} was retired in latest Release ({})\".format(missing_g, int(latest_release)))\n",
    "        \n",
    "    else:\n",
    "        genh_ENS_missing_map[missing_g] = best_match.split('.')[0]\n",
    "        \n",
    "genh_new_g_in_gencode = 0\n",
    "\n",
    "new_genh_ENS_missing_map = {}\n",
    "for missing_g, new_g in genh_ENS_missing_map.items():\n",
    "    if new_g in gencode_gene_table.gene_id.values:\n",
    "        genh_new_g_in_gencode+=1\n",
    "        new_genh_ENS_missing_map[missing_g] = new_g\n",
    "     "
   ]
  },
  {
   "cell_type": "code",
   "execution_count": 81,
   "metadata": {
    "ExecuteTime": {
     "end_time": "2018-12-17T08:57:04.360295Z",
     "start_time": "2018-12-17T08:57:04.348386Z"
    }
   },
   "outputs": [
    {
     "name": "stdout",
     "output_type": "stream",
     "text": [
      "Out of 2405 missing genes, 313 were retired ; 373 were re-assigned a new id ; of which 0 are found in GENCODE (and thus can be kept)\n"
     ]
    }
   ],
   "source": [
    "print((\"Out of {} missing genes, {} were retired ; {} were re-assigned a new id ; of which {} are found in GENCODE (and thus can be kept)\"\n",
    "       ).format(len(genh_missing_ENS),genh_ENS_n_retired, len(genh_ENS_missing_map), genh_new_g_in_gencode))"
   ]
  },
  {
   "cell_type": "markdown",
   "metadata": {},
   "source": [
    "So we only update the genes from the genh_updated_sym table. All other are replaced by empty strings, and the associated enhancers will be removed."
   ]
  },
  {
   "cell_type": "code",
   "execution_count": 96,
   "metadata": {
    "ExecuteTime": {
     "end_time": "2018-12-17T09:31:09.908902Z",
     "start_time": "2018-12-17T09:31:09.890591Z"
    },
    "code_folding": []
   },
   "outputs": [],
   "source": [
    "def genhancer_update_annots(annot):\n",
    "    N_removed_interactions = 0\n",
    "    N_total_interactions =0\n",
    "\n",
    "    newgroups = []\n",
    "    groups = annot.split('|')\n",
    "\n",
    "    for g in groups:\n",
    "        N_total_interactions +=1\n",
    "\n",
    "        fields = dataframes.transform_to_dict(g,';',':')\n",
    "\n",
    "        targs = fields['targets']     \n",
    "        newtargs = []\n",
    "        if targs!='':\n",
    "            for t in targs.split(','):\n",
    "                if t.startswith('ENS'):\n",
    "                    if t in genh_missing_ENS:\n",
    "                        newt = ''\n",
    "                    else:\n",
    "                        newt= MAP_TO_NAMEs.get(t,'')\n",
    "                        \n",
    "                else:\n",
    "                    newt = genh_updated_sym.get(t, '') if t in genh_missing_sym else t\n",
    "                    \n",
    "                if newt!='':\n",
    "                    newtargs.append(newt)\n",
    "\n",
    "        else:\n",
    "            N_removed_interactions+=1\n",
    "            continue\n",
    "\n",
    "        # Now update the group.\n",
    "        if len(newtargs)==0:\n",
    "            N_removed_interactions+=1\n",
    "            continue\n",
    "        else:\n",
    "            newtargs = ';'.join(newtargs)\n",
    "            fields['targets'] = newtargs\n",
    "            newgroups.append(dataframes.convert_keyvalue_pairs_to_str(fields.items(),',',':'))\n",
    "\n",
    "    # And now rejoin the newgroups.\n",
    "    if len(newgroups)==0:\n",
    "        # This enhancer has no interactions anymore and will be removed.\n",
    "        newgroups = ''\n",
    "\n",
    "    else:\n",
    "        newgroups = '|'.join(newgroups)\n",
    "        \n",
    "    return (newgroups, N_removed_interactions, N_total_interactions)"
   ]
  },
  {
   "cell_type": "code",
   "execution_count": 97,
   "metadata": {
    "ExecuteTime": {
     "end_time": "2018-12-17T09:39:09.341285Z",
     "start_time": "2018-12-17T09:31:14.436261Z"
    }
   },
   "outputs": [
    {
     "name": "stdout",
     "output_type": "stream",
     "text": [
      "CPU times: user 2.28 s, sys: 6.22 s, total: 8.5 s\n",
      "Wall time: 7min 54s\n"
     ]
    }
   ],
   "source": [
    "%%time\n",
    "N_removed_interactions = 0\n",
    "N_total_interactions =0\n",
    "\n",
    "pool = multiprocessing.Pool(6)\n",
    "updated_genh_newannots_wcounts = pool.map(genhancer_update_annots, genh_newannots)\n",
    "pool.close()\n",
    "pool.join()\n",
    "\n",
    "N_removed_interactions = np.array([v[1] for v in updated_genh_newannots_wcounts]).sum()\n",
    "N_total_interactions = np.array([v[2] for v in updated_genh_newannots_wcounts]).sum()\n",
    "\n",
    "updated_genh_newannots = np.array([v[0] for v in updated_genh_newannots_wcounts])"
   ]
  },
  {
   "cell_type": "code",
   "execution_count": 98,
   "metadata": {
    "ExecuteTime": {
     "end_time": "2018-12-17T09:39:09.375673Z",
     "start_time": "2018-12-17T09:39:09.346770Z"
    }
   },
   "outputs": [
    {
     "name": "stdout",
     "output_type": "stream",
     "text": [
      "Out of 817,390 interactions, 289,570 were removed because of lack of target gene\n"
     ]
    }
   ],
   "source": [
    "print(\"Out of {:,} interactions, {:,} were removed because of lack of target gene\".format(N_total_interactions,N_removed_interactions))"
   ]
  },
  {
   "cell_type": "code",
   "execution_count": 567,
   "metadata": {
    "ExecuteTime": {
     "end_time": "2018-11-27T10:31:01.562470Z",
     "start_time": "2018-11-27T10:31:01.558703Z"
    }
   },
   "outputs": [
    {
     "name": "stdout",
     "output_type": "stream",
     "text": [
      "Out of 817,390 interactions, 275,675 were removed because of lack of target gene\n"
     ]
    }
   ],
   "source": [
    "print(\"Out of {:,} interactions, {:,} were removed because of lack of target gene\".format(N_total_interactions,N_removed_interactions))"
   ]
  },
  {
   "cell_type": "code",
   "execution_count": 99,
   "metadata": {
    "ExecuteTime": {
     "end_time": "2018-12-17T09:39:12.076061Z",
     "start_time": "2018-12-17T09:39:09.379482Z"
    }
   },
   "outputs": [
    {
     "name": "stdout",
     "output_type": "stream",
     "text": [
      "Number of enhancers initially: 217,695\n",
      "Number that are removed because of no annot: 32,885\n"
     ]
    }
   ],
   "source": [
    "df_genh['new_annot']=updated_genh_newannots\n",
    "genh_filtered = df_genh.new_annot==''\n",
    "print(\"Number of enhancers initially: {:,}\\nNumber that are removed because of no annot: {:,}\".format(df_genh.shape[0], genh_filtered.sum()))"
   ]
  },
  {
   "cell_type": "code",
   "execution_count": 100,
   "metadata": {
    "ExecuteTime": {
     "end_time": "2018-12-17T09:39:12.491924Z",
     "start_time": "2018-12-17T09:39:12.079814Z"
    }
   },
   "outputs": [],
   "source": [
    "df_genh = df_genh.loc[~genh_filtered,:]"
   ]
  },
  {
   "cell_type": "code",
   "execution_count": null,
   "metadata": {
    "ExecuteTime": {
     "start_time": "2018-11-28T17:48:03.294Z"
    }
   },
   "outputs": [],
   "source": [
    "#genomeCov_genh = pbt.BedTool.from_dataframe(df_genh.iloc[:,[0,1,2]]).genome_coverage(g='/users/ldog/moyon/Thesis/RegulationData/hg19/hg19.chrom.sizes')"
   ]
  },
  {
   "cell_type": "markdown",
   "metadata": {},
   "source": [
    "##### Merging"
   ]
  },
  {
   "cell_type": "code",
   "execution_count": 101,
   "metadata": {
    "ExecuteTime": {
     "end_time": "2018-12-17T09:39:17.304819Z",
     "start_time": "2018-12-17T09:39:12.495396Z"
    }
   },
   "outputs": [
    {
     "name": "stdout",
     "output_type": "stream",
     "text": [
      "Shape before merge: 184,810 ; shape after merge: 184,643\n",
      "CPU times: user 1.18 s, sys: 268 ms, total: 1.45 s\n",
      "Wall time: 4.8 s\n"
     ]
    }
   ],
   "source": [
    "%%time\n",
    "# Do not overlap book-ended regions\n",
    "merged_df_genh = pbt.BedTool.from_dataframe(df_genh.iloc[:,[0,1,2]]).sort().merge(d=-1).to_dataframe()\n",
    "print(\"Shape before merge: {:,} ; shape after merge: {:,}\".format(df_genh.shape[0], merged_df_genh.shape[0]))"
   ]
  },
  {
   "cell_type": "markdown",
   "metadata": {},
   "source": [
    "I will keep these as is, and let a variant intersect multiple regions.\n",
    "\n",
    "Then the best scoring enhancer is kept, with associated targets... (not ideal...)"
   ]
  },
  {
   "cell_type": "markdown",
   "metadata": {},
   "source": [
    "##### Exporting"
   ]
  },
  {
   "cell_type": "code",
   "execution_count": 102,
   "metadata": {
    "ExecuteTime": {
     "end_time": "2018-12-17T09:39:17.345860Z",
     "start_time": "2018-12-17T09:39:17.310855Z"
    }
   },
   "outputs": [
    {
     "data": {
      "text/html": [
       "<div>\n",
       "<style scoped>\n",
       "    .dataframe tbody tr th:only-of-type {\n",
       "        vertical-align: middle;\n",
       "    }\n",
       "\n",
       "    .dataframe tbody tr th {\n",
       "        vertical-align: top;\n",
       "    }\n",
       "\n",
       "    .dataframe thead th {\n",
       "        text-align: right;\n",
       "    }\n",
       "</style>\n",
       "<table border=\"1\" class=\"dataframe\">\n",
       "  <thead>\n",
       "    <tr style=\"text-align: right;\">\n",
       "      <th></th>\n",
       "      <th>chrom</th>\n",
       "      <th>start</th>\n",
       "      <th>end</th>\n",
       "      <th>source</th>\n",
       "      <th>score</th>\n",
       "      <th>strand</th>\n",
       "      <th>annot</th>\n",
       "      <th>new_annot</th>\n",
       "    </tr>\n",
       "  </thead>\n",
       "  <tbody>\n",
       "    <tr>\n",
       "      <th>0</th>\n",
       "      <td>chr2</td>\n",
       "      <td>70244933</td>\n",
       "      <td>70245132</td>\n",
       "      <td>GeneHancer</td>\n",
       "      <td>0.52</td>\n",
       "      <td>.</td>\n",
       "      <td>genehancer_id=GH02F070017;connected_gene=PCBP1...</td>\n",
       "      <td>src:GH02F070017,targets:PCBP1-AS1,score:12.90|...</td>\n",
       "    </tr>\n",
       "    <tr>\n",
       "      <th>1</th>\n",
       "      <td>chr18</td>\n",
       "      <td>46119061</td>\n",
       "      <td>46119210</td>\n",
       "      <td>GeneHancer</td>\n",
       "      <td>0.96</td>\n",
       "      <td>.</td>\n",
       "      <td>genehancer_id=GH18F048592;connected_gene=ENSG0...</td>\n",
       "      <td>src:GH18F048592,targets:AC048380.2,score:0.29|...</td>\n",
       "    </tr>\n",
       "    <tr>\n",
       "      <th>2</th>\n",
       "      <td>chr5</td>\n",
       "      <td>167739362</td>\n",
       "      <td>167746222</td>\n",
       "      <td>GeneHancer</td>\n",
       "      <td>1.77</td>\n",
       "      <td>.</td>\n",
       "      <td>genehancer_id=GH05F168312;connected_gene=WWC1;...</td>\n",
       "      <td>src:GH05F168312,targets:WWC1,score:12.82</td>\n",
       "    </tr>\n",
       "    <tr>\n",
       "      <th>3</th>\n",
       "      <td>chr12</td>\n",
       "      <td>47598361</td>\n",
       "      <td>47613394</td>\n",
       "      <td>GeneHancer</td>\n",
       "      <td>1.28</td>\n",
       "      <td>.</td>\n",
       "      <td>genehancer_id=GH12F047204;connected_gene=RPAP3...</td>\n",
       "      <td>src:GH12F047204,targets:RPAP3,score:17.58|src:...</td>\n",
       "    </tr>\n",
       "    <tr>\n",
       "      <th>4</th>\n",
       "      <td>chr21</td>\n",
       "      <td>41001999</td>\n",
       "      <td>41006993</td>\n",
       "      <td>GeneHancer</td>\n",
       "      <td>1.29</td>\n",
       "      <td>.</td>\n",
       "      <td>genehancer_id=GH21F039630;connected_gene=B3GAL...</td>\n",
       "      <td>src:GH21F039630,targets:B3GALT5-AS1,score:46.8...</td>\n",
       "    </tr>\n",
       "  </tbody>\n",
       "</table>\n",
       "</div>"
      ],
      "text/plain": [
       "   chrom      start        end      source  score strand  \\\n",
       "0   chr2   70244933   70245132  GeneHancer   0.52      .   \n",
       "1  chr18   46119061   46119210  GeneHancer   0.96      .   \n",
       "2   chr5  167739362  167746222  GeneHancer   1.77      .   \n",
       "3  chr12   47598361   47613394  GeneHancer   1.28      .   \n",
       "4  chr21   41001999   41006993  GeneHancer   1.29      .   \n",
       "\n",
       "                                               annot  \\\n",
       "0  genehancer_id=GH02F070017;connected_gene=PCBP1...   \n",
       "1  genehancer_id=GH18F048592;connected_gene=ENSG0...   \n",
       "2  genehancer_id=GH05F168312;connected_gene=WWC1;...   \n",
       "3  genehancer_id=GH12F047204;connected_gene=RPAP3...   \n",
       "4  genehancer_id=GH21F039630;connected_gene=B3GAL...   \n",
       "\n",
       "                                           new_annot  \n",
       "0  src:GH02F070017,targets:PCBP1-AS1,score:12.90|...  \n",
       "1  src:GH18F048592,targets:AC048380.2,score:0.29|...  \n",
       "2           src:GH05F168312,targets:WWC1,score:12.82  \n",
       "3  src:GH12F047204,targets:RPAP3,score:17.58|src:...  \n",
       "4  src:GH21F039630,targets:B3GALT5-AS1,score:46.8...  "
      ]
     },
     "execution_count": 102,
     "metadata": {},
     "output_type": "execute_result"
    }
   ],
   "source": [
    "df_genh.head()"
   ]
  },
  {
   "cell_type": "code",
   "execution_count": 103,
   "metadata": {
    "ExecuteTime": {
     "end_time": "2018-12-17T09:39:41.862981Z",
     "start_time": "2018-12-17T09:39:17.349065Z"
    }
   },
   "outputs": [
    {
     "data": {
      "text/html": [
       "<div>\n",
       "<style scoped>\n",
       "    .dataframe tbody tr th:only-of-type {\n",
       "        vertical-align: middle;\n",
       "    }\n",
       "\n",
       "    .dataframe tbody tr th {\n",
       "        vertical-align: top;\n",
       "    }\n",
       "\n",
       "    .dataframe thead th {\n",
       "        text-align: right;\n",
       "    }\n",
       "</style>\n",
       "<table border=\"1\" class=\"dataframe\">\n",
       "  <thead>\n",
       "    <tr style=\"text-align: right;\">\n",
       "      <th></th>\n",
       "      <th>chrom</th>\n",
       "      <th>start</th>\n",
       "      <th>end</th>\n",
       "      <th>source</th>\n",
       "      <th>score</th>\n",
       "      <th>strand</th>\n",
       "      <th>name</th>\n",
       "    </tr>\n",
       "  </thead>\n",
       "  <tbody>\n",
       "    <tr>\n",
       "      <th>0</th>\n",
       "      <td>chr2</td>\n",
       "      <td>70244933</td>\n",
       "      <td>70245132</td>\n",
       "      <td>GeneHancer</td>\n",
       "      <td>0.52</td>\n",
       "      <td>.</td>\n",
       "      <td>src:GH02F070017,targets:PCBP1-AS1,score:12.90|...</td>\n",
       "    </tr>\n",
       "    <tr>\n",
       "      <th>1</th>\n",
       "      <td>chr18</td>\n",
       "      <td>46119061</td>\n",
       "      <td>46119210</td>\n",
       "      <td>GeneHancer</td>\n",
       "      <td>0.96</td>\n",
       "      <td>.</td>\n",
       "      <td>src:GH18F048592,targets:AC048380.2,score:0.29|...</td>\n",
       "    </tr>\n",
       "    <tr>\n",
       "      <th>2</th>\n",
       "      <td>chr5</td>\n",
       "      <td>167739362</td>\n",
       "      <td>167746222</td>\n",
       "      <td>GeneHancer</td>\n",
       "      <td>1.77</td>\n",
       "      <td>.</td>\n",
       "      <td>src:GH05F168312,targets:WWC1,score:12.82</td>\n",
       "    </tr>\n",
       "  </tbody>\n",
       "</table>\n",
       "</div>"
      ],
      "text/plain": [
       "   chrom      start        end      source  score strand  \\\n",
       "0   chr2   70244933   70245132  GeneHancer   0.52      .   \n",
       "1  chr18   46119061   46119210  GeneHancer   0.96      .   \n",
       "2   chr5  167739362  167746222  GeneHancer   1.77      .   \n",
       "\n",
       "                                                name  \n",
       "0  src:GH02F070017,targets:PCBP1-AS1,score:12.90|...  \n",
       "1  src:GH18F048592,targets:AC048380.2,score:0.29|...  \n",
       "2           src:GH05F168312,targets:WWC1,score:12.82  "
      ]
     },
     "metadata": {},
     "output_type": "display_data"
    },
    {
     "name": "stdout",
     "output_type": "stream",
     "text": [
      "0\n",
      "0\n"
     ]
    }
   ],
   "source": [
    "output_df_genh = df_genh.assign(name = df_genh.new_annot\n",
    "                                 ).loc[:,['chrom','start','end','source', 'score', 'strand', 'name']]\n",
    "\n",
    "display(output_df_genh.head(3))\n",
    "\n",
    "pbt.BedTool.from_dataframe(output_df_genh).sort(\n",
    "                           ).to_dataframe().to_csv(\n",
    "    \"/users/ldog/moyon/Thesis/RegulationData/hg19/enhancers/GeneHancer/genehancer.bed\",\n",
    "                     header=False,index=False,sep=\"\\t\")\n",
    "\n",
    "if os.path.exists(\"/users/ldog/moyon/Thesis/RegulationData/hg19/enhancers/GeneHancer/genehancer.bed.gz\"):\n",
    "    os.remove(\"/users/ldog/moyon/Thesis/RegulationData/hg19/enhancers/GeneHancer/genehancer.bed.gz\")\n",
    "    \n",
    "if os.path.exists(\"/users/ldog/moyon/Thesis/RegulationData/hg19/enhancers/GeneHancer/genehancer.bed.gz.tbi\"):\n",
    "    os.remove(\"/users/ldog/moyon/Thesis/RegulationData/hg19/enhancers/GeneHancer/genehancer.bed.gz.tbi\")\n",
    "    \n",
    "\n",
    "res_call = subprocess.call('bgzip {}'.format(\"/users/ldog/moyon/Thesis/RegulationData/hg19/enhancers/GeneHancer/genehancer.bed\"), shell=True)\n",
    "print(res_call)\n",
    "# Now call tabix\n",
    "res_call = subprocess.call('tabix -p bed -0 {}'.format(\"/users/ldog/moyon/Thesis/RegulationData/hg19/enhancers/GeneHancer/genehancer.bed.gz\"), shell=True)\n",
    "print(res_call)"
   ]
  },
  {
   "cell_type": "markdown",
   "metadata": {},
   "source": [
    "### FOCS"
   ]
  },
  {
   "cell_type": "markdown",
   "metadata": {},
   "source": [
    "#### FOCS FANTOM"
   ]
  },
  {
   "cell_type": "code",
   "execution_count": 348,
   "metadata": {
    "ExecuteTime": {
     "end_time": "2018-12-18T16:46:02.394603Z",
     "start_time": "2018-12-18T16:46:01.673609Z"
    }
   },
   "outputs": [
    {
     "data": {
      "text/plain": [
       "Index(['p_chr', 'p_start', 'p_end', 'p_strand', 'e_chr', 'e_start', 'e_end',\n",
       "       'e_strand', 'prom_id', 'enh_id', 'ep_dist', 'sym_id', 'ent_id',\n",
       "       'ens_id', 'ref_id'],\n",
       "      dtype='object')"
      ]
     },
     "metadata": {},
     "output_type": "display_data"
    },
    {
     "name": "stdout",
     "output_type": "stream",
     "text": [
      "\n",
      "\n"
     ]
    },
    {
     "data": {
      "text/html": [
       "<div>\n",
       "<style scoped>\n",
       "    .dataframe tbody tr th:only-of-type {\n",
       "        vertical-align: middle;\n",
       "    }\n",
       "\n",
       "    .dataframe tbody tr th {\n",
       "        vertical-align: top;\n",
       "    }\n",
       "\n",
       "    .dataframe thead th {\n",
       "        text-align: right;\n",
       "    }\n",
       "</style>\n",
       "<table border=\"1\" class=\"dataframe\">\n",
       "  <thead>\n",
       "    <tr style=\"text-align: right;\">\n",
       "      <th></th>\n",
       "      <th>e_chr</th>\n",
       "      <th>e_start</th>\n",
       "      <th>e_end</th>\n",
       "      <th>e_strand</th>\n",
       "      <th>enh_id</th>\n",
       "      <th>sym_id</th>\n",
       "      <th>ens_id</th>\n",
       "    </tr>\n",
       "  </thead>\n",
       "  <tbody>\n",
       "    <tr>\n",
       "      <th>0</th>\n",
       "      <td>chr1</td>\n",
       "      <td>858256</td>\n",
       "      <td>858648</td>\n",
       "      <td>*</td>\n",
       "      <td>e_chr1:858257_858648</td>\n",
       "      <td>PERM1</td>\n",
       "      <td>ENSG00000187642</td>\n",
       "    </tr>\n",
       "    <tr>\n",
       "      <th>1</th>\n",
       "      <td>chr1</td>\n",
       "      <td>868565</td>\n",
       "      <td>868684</td>\n",
       "      <td>*</td>\n",
       "      <td>e_chr1:868566_868684</td>\n",
       "      <td>HES4</td>\n",
       "      <td>ENSG00000188290</td>\n",
       "    </tr>\n",
       "    <tr>\n",
       "      <th>2</th>\n",
       "      <td>chr1</td>\n",
       "      <td>918449</td>\n",
       "      <td>918555</td>\n",
       "      <td>*</td>\n",
       "      <td>e_chr1:918450_918555</td>\n",
       "      <td>PERM1</td>\n",
       "      <td>ENSG00000187642</td>\n",
       "    </tr>\n",
       "    <tr>\n",
       "      <th>3</th>\n",
       "      <td>chr1</td>\n",
       "      <td>936652</td>\n",
       "      <td>937138</td>\n",
       "      <td>*</td>\n",
       "      <td>e_chr1:936653_937138</td>\n",
       "      <td>HES4</td>\n",
       "      <td>ENSG00000188290</td>\n",
       "    </tr>\n",
       "    <tr>\n",
       "      <th>4</th>\n",
       "      <td>chr1</td>\n",
       "      <td>936652</td>\n",
       "      <td>937138</td>\n",
       "      <td>*</td>\n",
       "      <td>e_chr1:936653_937138</td>\n",
       "      <td>HES4</td>\n",
       "      <td>ENSG00000188290</td>\n",
       "    </tr>\n",
       "  </tbody>\n",
       "</table>\n",
       "</div>"
      ],
      "text/plain": [
       "  e_chr  e_start   e_end e_strand                enh_id sym_id  \\\n",
       "0  chr1   858256  858648        *  e_chr1:858257_858648  PERM1   \n",
       "1  chr1   868565  868684        *  e_chr1:868566_868684   HES4   \n",
       "2  chr1   918449  918555        *  e_chr1:918450_918555  PERM1   \n",
       "3  chr1   936652  937138        *  e_chr1:936653_937138   HES4   \n",
       "4  chr1   936652  937138        *  e_chr1:936653_937138   HES4   \n",
       "\n",
       "            ens_id  \n",
       "0  ENSG00000187642  \n",
       "1  ENSG00000188290  \n",
       "2  ENSG00000187642  \n",
       "3  ENSG00000188290  \n",
       "4  ENSG00000188290  "
      ]
     },
     "metadata": {},
     "output_type": "display_data"
    }
   ],
   "source": [
    "focs = pd.read_table(\"/users/ldog/moyon/Thesis/RegulationData/hg19/enhancers/FOCS/raw/fantom_interactions.txt\")\n",
    "display(focs.columns)\n",
    "print(\"\\n\")\n",
    "red_df_focs = focs.loc[:,['e_chr','e_start','e_end','e_strand','enh_id','sym_id','ens_id']].sort_values(by=['e_chr','e_start']).reset_index(drop=True)\n",
    "display(red_df_focs.head())"
   ]
  },
  {
   "cell_type": "code",
   "execution_count": 247,
   "metadata": {
    "ExecuteTime": {
     "end_time": "2018-12-18T15:15:21.903316Z",
     "start_time": "2018-12-18T15:15:12.180409Z"
    }
   },
   "outputs": [
    {
     "name": "stdout",
     "output_type": "stream",
     "text": [
      "Percentage of genes in GENCODE mapping: 0.986 (7,120 / 7,223)\n",
      "Number of gene names that can be updated: 100\n",
      "Number of gene names that cannot be updated: 2\n",
      "Finale number of genes to update: 100 (0 could have an update, but it's not found in GENCODE.)\n",
      "\n",
      "\n",
      "CPU times: user 9.66 s, sys: 40 ms, total: 9.7 s\n",
      "Wall time: 9.7 s\n"
     ]
    }
   ],
   "source": [
    "%%time\n",
    "\n",
    "total_genes_focs = pd.Series(list(itt.chain(*focs.sym_id.replace(np.nan,'').str.split(';').values))).unique()\n",
    "\n",
    "focs_missing = []\n",
    "\n",
    "for g in total_genes_focs:\n",
    "    if g not in gencode_gene_table.gene_name.values:\n",
    "        focs_missing.append(g)\n",
    "        \n",
    "focs_missing = pd.Series(focs_missing)\n",
    "        \n",
    "print(\"Percentage of genes in GENCODE mapping: {:.3f} ({:,} / {:,})\".format((len(total_genes_focs)-len(focs_missing))/len(total_genes_focs), \n",
    "                                                                    (len(total_genes_focs)-len(focs_missing)),len(total_genes_focs)))\n",
    "\n",
    "\n",
    "(focs_update_symbols,\n",
    " focs_ignored_genes,\n",
    " focs_false_positives_prev,\n",
    " focs_false_positives_syn,\n",
    " focs_genes_not_found) = get_updated_symbols(focs_missing, hgnc_gene_table)\n",
    "\n",
    "print(\"Number of gene names that can be updated: {:,}\".format(len(focs_update_symbols)))\n",
    "print(\"Number of gene names that cannot be updated: {:,}\".format(len(focs_genes_not_found)))\n",
    "\n",
    "# We still need to check that the updated version of gene names is in the GENCODE file.\n",
    "finale_update_focs_g = {}\n",
    "for k, v in focs_update_symbols.items():\n",
    "    if v not in gencode_gene_table.gene_name.values:\n",
    "        continue\n",
    "    else:\n",
    "        finale_update_focs_g[k] = v\n",
    "        \n",
    "print(\"Finale number of genes to update: {:,} ({:,} could have an update, but it's not found in GENCODE.)\\n\\n\".format(len(finale_update_focs_g),(len(focs_update_symbols)-len(finale_update_focs_g))))"
   ]
  },
  {
   "cell_type": "code",
   "execution_count": 248,
   "metadata": {
    "ExecuteTime": {
     "end_time": "2018-12-18T15:15:22.579679Z",
     "start_time": "2018-12-18T15:15:21.908658Z"
    }
   },
   "outputs": [
    {
     "name": "stdout",
     "output_type": "stream",
     "text": [
      "CPU times: user 628 ms, sys: 36 ms, total: 664 ms\n",
      "Wall time: 660 ms\n"
     ]
    }
   ],
   "source": [
    "%%time\n",
    "# Now apply this dictionarry\n",
    "new_targs_focs = red_df_focs.sym_id.replace(np.nan,'').apply(\n",
    "                    lambda v: ';'.join([finale_update_focs_g.get(g,'') if g in focs_missing.values else g\n",
    "                                        for g in v.split(',')]).strip(' ; '))\n",
    "red_df_focs['new_targets'] = new_targs_focs\n",
    "\n",
    "red_df_focs = red_df_focs.loc[~(red_df_focs['new_targets'].replace(np.nan,'')==''),:]"
   ]
  },
  {
   "cell_type": "markdown",
   "metadata": {},
   "source": [
    "Below is the part where I check if there's regions that overlap in the bed file. I merge them if so."
   ]
  },
  {
   "cell_type": "code",
   "execution_count": 249,
   "metadata": {
    "ExecuteTime": {
     "end_time": "2018-12-18T15:15:23.473614Z",
     "start_time": "2018-12-18T15:15:22.583843Z"
    }
   },
   "outputs": [
    {
     "name": "stdout",
     "output_type": "stream",
     "text": [
      "Shape before merge: 35,385 ; shape after merge: 16,477\n",
      "\n",
      "\n",
      "CPU times: user 176 ms, sys: 284 ms, total: 460 ms\n",
      "Wall time: 878 ms\n"
     ]
    }
   ],
   "source": [
    "%%time\n",
    "# Do not overlap book-ended regions\n",
    "merged_df_focs = pbt.BedTool.from_dataframe(red_df_focs.iloc[:,[0,1,2]]).sort().merge(d=-1).to_dataframe()\n",
    "print(\"Shape before merge: {:,} ; shape after merge: {:,}\\n\\n\".format(red_df_focs.shape[0], merged_df_focs.shape[0]))"
   ]
  },
  {
   "cell_type": "markdown",
   "metadata": {},
   "source": [
    "This means that I need to perform a merging of regions...\n",
    "\n",
    "Since there's no particular score associated to the enhancer/target predictions, I can simply assign the \"new targets\" names as the \"name\" of each regions ; then I perform the merging with bedops, and new regions will be named as the accumulation of the target names."
   ]
  },
  {
   "cell_type": "code",
   "execution_count": 261,
   "metadata": {
    "ExecuteTime": {
     "end_time": "2018-12-18T15:19:33.001631Z",
     "start_time": "2018-12-18T15:19:32.206778Z"
    },
    "scrolled": true
   },
   "outputs": [
    {
     "name": "stdout",
     "output_type": "stream",
     "text": [
      "0\n"
     ]
    },
    {
     "data": {
      "text/html": [
       "<div>\n",
       "<style scoped>\n",
       "    .dataframe tbody tr th:only-of-type {\n",
       "        vertical-align: middle;\n",
       "    }\n",
       "\n",
       "    .dataframe tbody tr th {\n",
       "        vertical-align: top;\n",
       "    }\n",
       "\n",
       "    .dataframe thead th {\n",
       "        text-align: right;\n",
       "    }\n",
       "</style>\n",
       "<table border=\"1\" class=\"dataframe\">\n",
       "  <thead>\n",
       "    <tr style=\"text-align: right;\">\n",
       "      <th></th>\n",
       "      <th>chrom</th>\n",
       "      <th>start</th>\n",
       "      <th>end</th>\n",
       "      <th>name</th>\n",
       "    </tr>\n",
       "  </thead>\n",
       "  <tbody>\n",
       "    <tr>\n",
       "      <th>0</th>\n",
       "      <td>chr1</td>\n",
       "      <td>858256</td>\n",
       "      <td>858648</td>\n",
       "      <td>PERM1</td>\n",
       "    </tr>\n",
       "    <tr>\n",
       "      <th>1</th>\n",
       "      <td>chr1</td>\n",
       "      <td>868565</td>\n",
       "      <td>868684</td>\n",
       "      <td>HES4</td>\n",
       "    </tr>\n",
       "    <tr>\n",
       "      <th>2</th>\n",
       "      <td>chr1</td>\n",
       "      <td>918449</td>\n",
       "      <td>918555</td>\n",
       "      <td>PERM1</td>\n",
       "    </tr>\n",
       "    <tr>\n",
       "      <th>3</th>\n",
       "      <td>chr1</td>\n",
       "      <td>936652</td>\n",
       "      <td>937138</td>\n",
       "      <td>ISG15|HES4|HES4</td>\n",
       "    </tr>\n",
       "    <tr>\n",
       "      <th>4</th>\n",
       "      <td>chr1</td>\n",
       "      <td>956563</td>\n",
       "      <td>956812</td>\n",
       "      <td>PLEKHN1|AGRN|AGRN|HES4|HES4</td>\n",
       "    </tr>\n",
       "  </tbody>\n",
       "</table>\n",
       "</div>"
      ],
      "text/plain": [
       "  chrom   start     end                         name\n",
       "0  chr1  858256  858648                        PERM1\n",
       "1  chr1  868565  868684                         HES4\n",
       "2  chr1  918449  918555                        PERM1\n",
       "3  chr1  936652  937138              ISG15|HES4|HES4\n",
       "4  chr1  956563  956812  PLEKHN1|AGRN|AGRN|HES4|HES4"
      ]
     },
     "metadata": {},
     "output_type": "display_data"
    }
   ],
   "source": [
    "output_df_focs_tmp = red_df_focs.assign(name = red_df_focs.new_targets\n",
    "                                 ).loc[:,['e_chr','e_start','e_end','name']]\n",
    "\n",
    "output_df_focs_tmp.to_csv(\"/localtmp/moyon/tmp_focs_fantom.tsv\",header=False,index=False,sep=\"\\t\")\n",
    "\n",
    "res_call = subprocess.call((command_line_merge\n",
    "                           ).format(inputfile=\"/localtmp/moyon/tmp_focs_fantom.tsv\",\n",
    "                                    outputfile=\"/localtmp/moyon/tmp_MERGED_focs_fantom.tsv\",\n",
    "                                    delim=\"\\|\"\n",
    "                                   ), shell=True)\n",
    "print(res_call)\n",
    "\n",
    "assert res_call==0, \"Error while generating the merged version of the file.\"\n",
    "\n",
    "finale_merged_df_focs = pd.read_table(\"/localtmp/moyon/tmp_MERGED_focs_fantom.tsv\",header=None,names=['chrom','start','end','name'])\n",
    "\n",
    "display(finale_merged_df_focs.head())"
   ]
  },
  {
   "cell_type": "markdown",
   "metadata": {},
   "source": [
    "Here we sort-of have the possibility to compute a score : the number of times a gene appears in the list corresponds to the number of overlapping enhancers that were seen as associated to that gene."
   ]
  },
  {
   "cell_type": "code",
   "execution_count": 351,
   "metadata": {
    "ExecuteTime": {
     "end_time": "2018-12-18T16:49:05.942956Z",
     "start_time": "2018-12-18T16:47:35.790626Z"
    },
    "scrolled": true
   },
   "outputs": [
    {
     "name": "stdout",
     "output_type": "stream",
     "text": [
      "0                                score:1,targets:PERM1\n",
      "1                                 score:1,targets:HES4\n",
      "2                                score:1,targets:PERM1\n",
      "3           score:1,targets:ISG15|score:2,targets:HES4\n",
      "4    score:1,targets:PLEKHN1|score:2,targets:HES4;AGRN\n",
      "Name: name, dtype: object\n"
     ]
    },
    {
     "data": {
      "text/plain": [
       "None"
      ]
     },
     "metadata": {},
     "output_type": "display_data"
    },
    {
     "name": "stdout",
     "output_type": "stream",
     "text": [
      "\n",
      "\n",
      "CPU times: user 1min 29s, sys: 376 ms, total: 1min 30s\n",
      "Wall time: 1min 30s\n"
     ]
    }
   ],
   "source": [
    "%%time\n",
    "merged_df_focs_names = finale_merged_df_focs['name'].apply(lambda v: from_list_genes_to_kv_pairs(v))\n",
    "display(print(merged_df_focs_names.iloc[:5]))\n",
    "print(\"\\n\")"
   ]
  },
  {
   "cell_type": "code",
   "execution_count": 347,
   "metadata": {
    "ExecuteTime": {
     "end_time": "2018-12-18T16:42:28.603057Z",
     "start_time": "2018-12-18T16:42:25.104710Z"
    }
   },
   "outputs": [
    {
     "data": {
      "text/html": [
       "<div>\n",
       "<style scoped>\n",
       "    .dataframe tbody tr th:only-of-type {\n",
       "        vertical-align: middle;\n",
       "    }\n",
       "\n",
       "    .dataframe tbody tr th {\n",
       "        vertical-align: top;\n",
       "    }\n",
       "\n",
       "    .dataframe thead th {\n",
       "        text-align: right;\n",
       "    }\n",
       "</style>\n",
       "<table border=\"1\" class=\"dataframe\">\n",
       "  <thead>\n",
       "    <tr style=\"text-align: right;\">\n",
       "      <th></th>\n",
       "      <th>chrom</th>\n",
       "      <th>start</th>\n",
       "      <th>end</th>\n",
       "      <th>name</th>\n",
       "    </tr>\n",
       "  </thead>\n",
       "  <tbody>\n",
       "    <tr>\n",
       "      <th>0</th>\n",
       "      <td>chr1</td>\n",
       "      <td>858256</td>\n",
       "      <td>858648</td>\n",
       "      <td>score:1,targets:PERM1</td>\n",
       "    </tr>\n",
       "    <tr>\n",
       "      <th>1</th>\n",
       "      <td>chr1</td>\n",
       "      <td>868565</td>\n",
       "      <td>868684</td>\n",
       "      <td>score:1,targets:HES4</td>\n",
       "    </tr>\n",
       "    <tr>\n",
       "      <th>2</th>\n",
       "      <td>chr1</td>\n",
       "      <td>918449</td>\n",
       "      <td>918555</td>\n",
       "      <td>score:1,targets:PERM1</td>\n",
       "    </tr>\n",
       "  </tbody>\n",
       "</table>\n",
       "</div>"
      ],
      "text/plain": [
       "  chrom   start     end                   name\n",
       "0  chr1  858256  858648  score:1,targets:PERM1\n",
       "1  chr1  868565  868684   score:1,targets:HES4\n",
       "2  chr1  918449  918555  score:1,targets:PERM1"
      ]
     },
     "metadata": {},
     "output_type": "display_data"
    },
    {
     "name": "stdout",
     "output_type": "stream",
     "text": [
      "0\n",
      "0\n"
     ]
    }
   ],
   "source": [
    "output_df_focs = finale_merged_df_focs.assign(name=merged_df_focs_names.values\n",
    "                                 ).loc[:,['chrom','start','end','name']]\n",
    "\n",
    "display(output_df_focs.head(3))\n",
    "\n",
    "pbt.BedTool.from_dataframe(output_df_focs\n",
    "                           ).sort().to_dataframe().to_csv(\n",
    "    \"/users/ldog/moyon/Thesis/RegulationData/hg19/enhancers/FOCS/fantom5_enh.bed\",\n",
    "                     header=False,index=False,sep=\"\\t\")\n",
    "\n",
    "\n",
    "if os.path.exists(\"/users/ldog/moyon/Thesis/RegulationData/hg19/enhancers/FOCS/fantom5_enh.bed.gz\"):\n",
    "    os.remove(\"/users/ldog/moyon/Thesis/RegulationData/hg19/enhancers/FOCS/fantom5_enh.bed.gz\")\n",
    "    \n",
    "if os.path.exists(\"/users/ldog/moyon/Thesis/RegulationData/hg19/enhancers/FOCS/fantom5_enh.bed.gz.tbi\"):\n",
    "    os.remove(\"/users/ldog/moyon/Thesis/RegulationData/hg19/enhancers/FOCS/fantom5_enh.bed.gz.tbi\")\n",
    "    \n",
    "\n",
    "res_call = subprocess.call('bgzip {}'.format(\"/users/ldog/moyon/Thesis/RegulationData/hg19/enhancers/FOCS/fantom5_enh.bed\"), shell=True)\n",
    "print(res_call)\n",
    "# Now call tabix\n",
    "res_call = subprocess.call('tabix -p bed -0 {}'.format(\"/users/ldog/moyon/Thesis/RegulationData/hg19/enhancers/FOCS/fantom5_enh.bed.gz\"), shell=True)\n",
    "print(res_call)\n",
    "# Don't forget to run bgzip and tabix -0 -p bed"
   ]
  },
  {
   "cell_type": "markdown",
   "metadata": {},
   "source": [
    "#### FOCS GROSEQ"
   ]
  },
  {
   "cell_type": "code",
   "execution_count": 360,
   "metadata": {
    "ExecuteTime": {
     "end_time": "2018-12-18T16:55:06.621814Z",
     "start_time": "2018-12-18T16:55:04.898654Z"
    }
   },
   "outputs": [
    {
     "data": {
      "text/plain": [
       "Index(['p_chr', 'p_start', 'p_end', 'p_strand', 'e_chr', 'e_start', 'e_end',\n",
       "       'e_strand', 'prom_id', 'enh_id', 'ep_dist', 'sym_id', 'ent_id',\n",
       "       'ens_id', 'ref_id'],\n",
       "      dtype='object')"
      ]
     },
     "metadata": {},
     "output_type": "display_data"
    },
    {
     "name": "stdout",
     "output_type": "stream",
     "text": [
      "\n",
      "\n"
     ]
    },
    {
     "data": {
      "text/html": [
       "<div>\n",
       "<style scoped>\n",
       "    .dataframe tbody tr th:only-of-type {\n",
       "        vertical-align: middle;\n",
       "    }\n",
       "\n",
       "    .dataframe tbody tr th {\n",
       "        vertical-align: top;\n",
       "    }\n",
       "\n",
       "    .dataframe thead th {\n",
       "        text-align: right;\n",
       "    }\n",
       "</style>\n",
       "<table border=\"1\" class=\"dataframe\">\n",
       "  <thead>\n",
       "    <tr style=\"text-align: right;\">\n",
       "      <th></th>\n",
       "      <th>e_chr</th>\n",
       "      <th>e_start</th>\n",
       "      <th>e_end</th>\n",
       "      <th>e_strand</th>\n",
       "      <th>enh_id</th>\n",
       "      <th>sym_id</th>\n",
       "      <th>ens_id</th>\n",
       "    </tr>\n",
       "  </thead>\n",
       "  <tbody>\n",
       "    <tr>\n",
       "      <th>0</th>\n",
       "      <td>chr1</td>\n",
       "      <td>836500</td>\n",
       "      <td>837502</td>\n",
       "      <td>*</td>\n",
       "      <td>e_chr1:836501_837502</td>\n",
       "      <td>LOC100130417</td>\n",
       "      <td>ENSG00000223764</td>\n",
       "    </tr>\n",
       "    <tr>\n",
       "      <th>1</th>\n",
       "      <td>chr1</td>\n",
       "      <td>872650</td>\n",
       "      <td>873252</td>\n",
       "      <td>*</td>\n",
       "      <td>e_chr1:872651_873252</td>\n",
       "      <td>SAMD11</td>\n",
       "      <td>ENSG00000187634</td>\n",
       "    </tr>\n",
       "    <tr>\n",
       "      <th>2</th>\n",
       "      <td>chr1</td>\n",
       "      <td>873350</td>\n",
       "      <td>873602</td>\n",
       "      <td>*</td>\n",
       "      <td>e_chr1:873351_873602</td>\n",
       "      <td>PLEKHN1</td>\n",
       "      <td>NaN</td>\n",
       "    </tr>\n",
       "    <tr>\n",
       "      <th>3</th>\n",
       "      <td>chr1</td>\n",
       "      <td>873350</td>\n",
       "      <td>873602</td>\n",
       "      <td>*</td>\n",
       "      <td>e_chr1:873351_873602</td>\n",
       "      <td>SAMD11</td>\n",
       "      <td>ENSG00000187634</td>\n",
       "    </tr>\n",
       "    <tr>\n",
       "      <th>4</th>\n",
       "      <td>chr1</td>\n",
       "      <td>875050</td>\n",
       "      <td>875252</td>\n",
       "      <td>*</td>\n",
       "      <td>e_chr1:875051_875252</td>\n",
       "      <td>SAMD11</td>\n",
       "      <td>ENSG00000187634</td>\n",
       "    </tr>\n",
       "  </tbody>\n",
       "</table>\n",
       "</div>"
      ],
      "text/plain": [
       "  e_chr  e_start   e_end e_strand                enh_id        sym_id  \\\n",
       "0  chr1   836500  837502        *  e_chr1:836501_837502  LOC100130417   \n",
       "1  chr1   872650  873252        *  e_chr1:872651_873252        SAMD11   \n",
       "2  chr1   873350  873602        *  e_chr1:873351_873602       PLEKHN1   \n",
       "3  chr1   873350  873602        *  e_chr1:873351_873602        SAMD11   \n",
       "4  chr1   875050  875252        *  e_chr1:875051_875252        SAMD11   \n",
       "\n",
       "            ens_id  \n",
       "0  ENSG00000223764  \n",
       "1  ENSG00000187634  \n",
       "2              NaN  \n",
       "3  ENSG00000187634  \n",
       "4  ENSG00000187634  "
      ]
     },
     "metadata": {},
     "output_type": "display_data"
    }
   ],
   "source": [
    "focs = pd.read_table(\"/users/ldog/moyon/Thesis/RegulationData/hg19/enhancers/FOCS/raw/groseq_interactions.txt\")\n",
    "display(focs.columns)\n",
    "print(\"\\n\")\n",
    "red_df_focs = focs.loc[:,['e_chr','e_start','e_end','e_strand','enh_id','sym_id','ens_id']].sort_values(by=['e_chr','e_start']).reset_index(drop=True)\n",
    "red_df_focs['e_start'] = red_df_focs.e_start.astype(int)\n",
    "red_df_focs['e_end'] = red_df_focs.e_end.astype(int)\n",
    "display(red_df_focs.head())"
   ]
  },
  {
   "cell_type": "code",
   "execution_count": 361,
   "metadata": {
    "ExecuteTime": {
     "end_time": "2018-12-18T16:55:36.887837Z",
     "start_time": "2018-12-18T16:55:10.553987Z"
    }
   },
   "outputs": [
    {
     "name": "stdout",
     "output_type": "stream",
     "text": [
      "Percentage of genes in GENCODE mapping: 0.915 (5,745 / 6,276)\n",
      "Number of gene names that can be updated: 245\n",
      "Number of gene names that cannot be updated: 285\n",
      "Finale number of genes to update: 244 (1 could have an update, but it's not found in GENCODE.)\n",
      "\n",
      "\n",
      "CPU times: user 25.3 s, sys: 72 ms, total: 25.3 s\n",
      "Wall time: 25.4 s\n"
     ]
    }
   ],
   "source": [
    "%%time\n",
    "\n",
    "total_genes_focs = pd.Series(list(itt.chain(*focs.sym_id.replace(np.nan,'').str.split(';').values))).unique()\n",
    "\n",
    "focs_missing = []\n",
    "\n",
    "for g in total_genes_focs:\n",
    "    if g not in gencode_gene_table.gene_name.values:\n",
    "        focs_missing.append(g)\n",
    "        \n",
    "focs_missing = pd.Series(focs_missing)\n",
    "        \n",
    "print(\"Percentage of genes in GENCODE mapping: {:.3f} ({:,} / {:,})\".format((len(total_genes_focs)-len(focs_missing))/len(total_genes_focs), \n",
    "                                                                    (len(total_genes_focs)-len(focs_missing)),len(total_genes_focs)))\n",
    "\n",
    "\n",
    "(focs_update_symbols,\n",
    " focs_ignored_genes,\n",
    " focs_false_positives_prev,\n",
    " focs_false_positives_syn,\n",
    " focs_genes_not_found) = get_updated_symbols(focs_missing, hgnc_gene_table)\n",
    "\n",
    "print(\"Number of gene names that can be updated: {:,}\".format(len(focs_update_symbols)))\n",
    "print(\"Number of gene names that cannot be updated: {:,}\".format(len(focs_genes_not_found)))\n",
    "\n",
    "# We still need to check that the updated version of gene names is in the GENCODE file.\n",
    "finale_update_focs_g = {}\n",
    "for k, v in focs_update_symbols.items():\n",
    "    if v not in gencode_gene_table.gene_name.values:\n",
    "        continue\n",
    "    else:\n",
    "        finale_update_focs_g[k] = v\n",
    "        \n",
    "print(\"Finale number of genes to update: {:,} ({:,} could have an update, but it's not found in GENCODE.)\\n\\n\".format(len(finale_update_focs_g),(len(focs_update_symbols)-len(finale_update_focs_g))))"
   ]
  },
  {
   "cell_type": "code",
   "execution_count": 362,
   "metadata": {
    "ExecuteTime": {
     "end_time": "2018-12-18T16:55:38.398469Z",
     "start_time": "2018-12-18T16:55:36.890592Z"
    }
   },
   "outputs": [
    {
     "name": "stdout",
     "output_type": "stream",
     "text": [
      "CPU times: user 1.16 s, sys: 136 ms, total: 1.29 s\n",
      "Wall time: 1.19 s\n"
     ]
    }
   ],
   "source": [
    "%%time\n",
    "# Now apply this dictionarry\n",
    "new_targs_focs = red_df_focs.sym_id.replace(np.nan,'').apply(\n",
    "                    lambda v: ';'.join([finale_update_focs_g.get(g,'') if g in focs_missing.values else g\n",
    "                                        for g in v.split(',')]).strip(' ; '))\n",
    "red_df_focs['new_targets'] = new_targs_focs\n",
    "\n",
    "red_df_focs = red_df_focs.loc[~(red_df_focs['new_targets'].replace(np.nan,'')==''),:]"
   ]
  },
  {
   "cell_type": "markdown",
   "metadata": {},
   "source": [
    "Below is the part where I check if there's regions that overlap in the bed file. I merge them if so."
   ]
  },
  {
   "cell_type": "code",
   "execution_count": 363,
   "metadata": {
    "ExecuteTime": {
     "end_time": "2018-12-18T16:55:39.297559Z",
     "start_time": "2018-12-18T16:55:38.401160Z"
    }
   },
   "outputs": [
    {
     "name": "stdout",
     "output_type": "stream",
     "text": [
      "Shape before merge: 21,430 ; shape after merge: 19,771\n",
      "\n",
      "\n",
      "CPU times: user 120 ms, sys: 316 ms, total: 436 ms\n",
      "Wall time: 876 ms\n"
     ]
    }
   ],
   "source": [
    "%%time\n",
    "# Do not overlap book-ended regions\n",
    "merged_df_focs = pbt.BedTool.from_dataframe(red_df_focs.iloc[:,[0,1,2]]).sort().merge(d=-1).to_dataframe()\n",
    "print(\"Shape before merge: {:,} ; shape after merge: {:,}\\n\\n\".format(red_df_focs.shape[0], merged_df_focs.shape[0]))"
   ]
  },
  {
   "cell_type": "markdown",
   "metadata": {},
   "source": [
    "This means that I need to perform a merging of regions...\n",
    "\n",
    "Since there's no particular score associated to the enhancer/target predictions, I can simply assign the \"new targets\" names as the \"name\" of each regions ; then I perform the merging with bedops, and new regions will be named as the accumulation of the target names."
   ]
  },
  {
   "cell_type": "code",
   "execution_count": 364,
   "metadata": {
    "ExecuteTime": {
     "end_time": "2018-12-18T16:55:40.283217Z",
     "start_time": "2018-12-18T16:55:39.301173Z"
    },
    "scrolled": true
   },
   "outputs": [
    {
     "name": "stdout",
     "output_type": "stream",
     "text": [
      "0\n"
     ]
    },
    {
     "data": {
      "text/html": [
       "<div>\n",
       "<style scoped>\n",
       "    .dataframe tbody tr th:only-of-type {\n",
       "        vertical-align: middle;\n",
       "    }\n",
       "\n",
       "    .dataframe tbody tr th {\n",
       "        vertical-align: top;\n",
       "    }\n",
       "\n",
       "    .dataframe thead th {\n",
       "        text-align: right;\n",
       "    }\n",
       "</style>\n",
       "<table border=\"1\" class=\"dataframe\">\n",
       "  <thead>\n",
       "    <tr style=\"text-align: right;\">\n",
       "      <th></th>\n",
       "      <th>chrom</th>\n",
       "      <th>start</th>\n",
       "      <th>end</th>\n",
       "      <th>name</th>\n",
       "    </tr>\n",
       "  </thead>\n",
       "  <tbody>\n",
       "    <tr>\n",
       "      <th>0</th>\n",
       "      <td>chr1</td>\n",
       "      <td>872650</td>\n",
       "      <td>873252</td>\n",
       "      <td>SAMD11</td>\n",
       "    </tr>\n",
       "    <tr>\n",
       "      <th>1</th>\n",
       "      <td>chr1</td>\n",
       "      <td>873350</td>\n",
       "      <td>873602</td>\n",
       "      <td>PLEKHN1|SAMD11</td>\n",
       "    </tr>\n",
       "    <tr>\n",
       "      <th>2</th>\n",
       "      <td>chr1</td>\n",
       "      <td>875050</td>\n",
       "      <td>875252</td>\n",
       "      <td>SAMD11</td>\n",
       "    </tr>\n",
       "    <tr>\n",
       "      <th>3</th>\n",
       "      <td>chr1</td>\n",
       "      <td>881400</td>\n",
       "      <td>881502</td>\n",
       "      <td>PLEKHN1</td>\n",
       "    </tr>\n",
       "    <tr>\n",
       "      <th>4</th>\n",
       "      <td>chr1</td>\n",
       "      <td>891050</td>\n",
       "      <td>891252</td>\n",
       "      <td>PLEKHN1</td>\n",
       "    </tr>\n",
       "  </tbody>\n",
       "</table>\n",
       "</div>"
      ],
      "text/plain": [
       "  chrom   start     end            name\n",
       "0  chr1  872650  873252          SAMD11\n",
       "1  chr1  873350  873602  PLEKHN1|SAMD11\n",
       "2  chr1  875050  875252          SAMD11\n",
       "3  chr1  881400  881502         PLEKHN1\n",
       "4  chr1  891050  891252         PLEKHN1"
      ]
     },
     "metadata": {},
     "output_type": "display_data"
    }
   ],
   "source": [
    "output_df_focs_tmp = red_df_focs.assign(name = red_df_focs.new_targets\n",
    "                                 ).loc[:,['e_chr','e_start','e_end','name']]\n",
    "\n",
    "output_df_focs_tmp.to_csv(\"/localtmp/moyon/tmp_focs_groseq.tsv\",header=False,index=False,sep=\"\\t\")\n",
    "\n",
    "res_call = subprocess.call((command_line_merge\n",
    "                           ).format(inputfile=\"/localtmp/moyon/tmp_focs_groseq.tsv\",\n",
    "                                    outputfile=\"/localtmp/moyon/tmp_MERGED_focs_groseq.tsv\",\n",
    "                                    delim=\"\\|\"\n",
    "                                   ), shell=True)\n",
    "print(res_call)\n",
    "\n",
    "assert res_call==0, \"Error while generating the merged version of the file.\"\n",
    "\n",
    "finale_merged_df_focs = pd.read_table(\"/localtmp/moyon/tmp_MERGED_focs_groseq.tsv\",header=None,names=['chrom','start','end','name'])\n",
    "\n",
    "display(finale_merged_df_focs.head())"
   ]
  },
  {
   "cell_type": "markdown",
   "metadata": {},
   "source": [
    "Here we sort-of have the possibility to compute a score : the number of times a gene appears in the list corresponds to the number of overlapping enhancers that were seen as associated to that gene."
   ]
  },
  {
   "cell_type": "code",
   "execution_count": 365,
   "metadata": {
    "ExecuteTime": {
     "end_time": "2018-12-18T16:58:46.762112Z",
     "start_time": "2018-12-18T16:55:40.289739Z"
    },
    "scrolled": true
   },
   "outputs": [
    {
     "name": "stdout",
     "output_type": "stream",
     "text": [
      "0            score:1,targets:SAMD11\n",
      "1    score:1,targets:SAMD11;PLEKHN1\n",
      "2            score:1,targets:SAMD11\n",
      "3           score:1,targets:PLEKHN1\n",
      "4           score:1,targets:PLEKHN1\n",
      "Name: name, dtype: object\n"
     ]
    },
    {
     "data": {
      "text/plain": [
       "None"
      ]
     },
     "metadata": {},
     "output_type": "display_data"
    },
    {
     "name": "stdout",
     "output_type": "stream",
     "text": [
      "\n",
      "\n",
      "CPU times: user 1min 47s, sys: 396 ms, total: 1min 48s\n",
      "Wall time: 1min 48s\n"
     ]
    }
   ],
   "source": [
    "%%time\n",
    "merged_df_focs_names = finale_merged_df_focs['name'].apply(lambda v: from_list_genes_to_kv_pairs(v))\n",
    "display(merged_df_focs_names.iloc[:5])\n",
    "print(\"\\n\")"
   ]
  },
  {
   "cell_type": "code",
   "execution_count": 366,
   "metadata": {
    "ExecuteTime": {
     "end_time": "2018-12-18T16:58:48.840733Z",
     "start_time": "2018-12-18T16:58:46.773610Z"
    }
   },
   "outputs": [
    {
     "data": {
      "text/html": [
       "<div>\n",
       "<style scoped>\n",
       "    .dataframe tbody tr th:only-of-type {\n",
       "        vertical-align: middle;\n",
       "    }\n",
       "\n",
       "    .dataframe tbody tr th {\n",
       "        vertical-align: top;\n",
       "    }\n",
       "\n",
       "    .dataframe thead th {\n",
       "        text-align: right;\n",
       "    }\n",
       "</style>\n",
       "<table border=\"1\" class=\"dataframe\">\n",
       "  <thead>\n",
       "    <tr style=\"text-align: right;\">\n",
       "      <th></th>\n",
       "      <th>chrom</th>\n",
       "      <th>start</th>\n",
       "      <th>end</th>\n",
       "      <th>name</th>\n",
       "    </tr>\n",
       "  </thead>\n",
       "  <tbody>\n",
       "    <tr>\n",
       "      <th>0</th>\n",
       "      <td>chr1</td>\n",
       "      <td>872650</td>\n",
       "      <td>873252</td>\n",
       "      <td>score:1,targets:SAMD11</td>\n",
       "    </tr>\n",
       "    <tr>\n",
       "      <th>1</th>\n",
       "      <td>chr1</td>\n",
       "      <td>873350</td>\n",
       "      <td>873602</td>\n",
       "      <td>score:1,targets:SAMD11;PLEKHN1</td>\n",
       "    </tr>\n",
       "    <tr>\n",
       "      <th>2</th>\n",
       "      <td>chr1</td>\n",
       "      <td>875050</td>\n",
       "      <td>875252</td>\n",
       "      <td>score:1,targets:SAMD11</td>\n",
       "    </tr>\n",
       "  </tbody>\n",
       "</table>\n",
       "</div>"
      ],
      "text/plain": [
       "  chrom   start     end                            name\n",
       "0  chr1  872650  873252          score:1,targets:SAMD11\n",
       "1  chr1  873350  873602  score:1,targets:SAMD11;PLEKHN1\n",
       "2  chr1  875050  875252          score:1,targets:SAMD11"
      ]
     },
     "metadata": {},
     "output_type": "display_data"
    },
    {
     "name": "stdout",
     "output_type": "stream",
     "text": [
      "0\n",
      "0\n"
     ]
    }
   ],
   "source": [
    "output_df_focs = finale_merged_df_focs.assign(name=merged_df_focs_names.values\n",
    "                                 ).loc[:,['chrom','start','end','name']]\n",
    "\n",
    "display(output_df_focs.head(3))\n",
    "\n",
    "pbt.BedTool.from_dataframe(output_df_focs\n",
    "                           ).sort().to_dataframe().to_csv(\n",
    "    \"/users/ldog/moyon/Thesis/RegulationData/hg19/enhancers/FOCS/groseq_enh.bed\",\n",
    "                     header=False,index=False,sep=\"\\t\")\n",
    "\n",
    "\n",
    "if os.path.exists(\"/users/ldog/moyon/Thesis/RegulationData/hg19/enhancers/FOCS/groseq_enh.bed.gz\"):\n",
    "    os.remove(\"/users/ldog/moyon/Thesis/RegulationData/hg19/enhancers/FOCS/groseq_enh.bed.gz\")\n",
    "    \n",
    "if os.path.exists(\"/users/ldog/moyon/Thesis/RegulationData/hg19/enhancers/FOCS/groseq_enh.bed.gz.tbi\"):\n",
    "    os.remove(\"/users/ldog/moyon/Thesis/RegulationData/hg19/enhancers/FOCS/groseq_enh.bed.gz.tbi\")\n",
    "    \n",
    "\n",
    "res_call = subprocess.call('bgzip {}'.format(\"/users/ldog/moyon/Thesis/RegulationData/hg19/enhancers/FOCS/groseq_enh.bed\"), shell=True)\n",
    "print(res_call)\n",
    "# Now call tabix\n",
    "res_call = subprocess.call('tabix -p bed -0 {}'.format(\"/users/ldog/moyon/Thesis/RegulationData/hg19/enhancers/FOCS/groseq_enh.bed.gz\"), shell=True)\n",
    "print(res_call)\n",
    "# Don't forget to run bgzip and tabix -0 -p bed"
   ]
  },
  {
   "cell_type": "markdown",
   "metadata": {},
   "source": [
    "#### FOCS ROADMAP"
   ]
  },
  {
   "cell_type": "code",
   "execution_count": 367,
   "metadata": {
    "ExecuteTime": {
     "end_time": "2018-12-18T16:55:06.621814Z",
     "start_time": "2018-12-18T16:55:04.898654Z"
    }
   },
   "outputs": [
    {
     "data": {
      "text/plain": [
       "Index(['p_chr', 'p_start', 'p_end', 'p_strand', 'e_chr', 'e_start', 'e_end',\n",
       "       'e_strand', 'prom_id', 'enh_id', 'ep_dist', 'sym_id', 'ent_id',\n",
       "       'ens_id', 'ref_id'],\n",
       "      dtype='object')"
      ]
     },
     "metadata": {},
     "output_type": "display_data"
    },
    {
     "name": "stdout",
     "output_type": "stream",
     "text": [
      "\n",
      "\n"
     ]
    },
    {
     "data": {
      "text/html": [
       "<div>\n",
       "<style scoped>\n",
       "    .dataframe tbody tr th:only-of-type {\n",
       "        vertical-align: middle;\n",
       "    }\n",
       "\n",
       "    .dataframe tbody tr th {\n",
       "        vertical-align: top;\n",
       "    }\n",
       "\n",
       "    .dataframe thead th {\n",
       "        text-align: right;\n",
       "    }\n",
       "</style>\n",
       "<table border=\"1\" class=\"dataframe\">\n",
       "  <thead>\n",
       "    <tr style=\"text-align: right;\">\n",
       "      <th></th>\n",
       "      <th>e_chr</th>\n",
       "      <th>e_start</th>\n",
       "      <th>e_end</th>\n",
       "      <th>e_strand</th>\n",
       "      <th>enh_id</th>\n",
       "      <th>sym_id</th>\n",
       "      <th>ens_id</th>\n",
       "    </tr>\n",
       "  </thead>\n",
       "  <tbody>\n",
       "    <tr>\n",
       "      <th>0</th>\n",
       "      <td>chr1</td>\n",
       "      <td>752447</td>\n",
       "      <td>752795</td>\n",
       "      <td>*</td>\n",
       "      <td>e_chr1:752448_752795</td>\n",
       "      <td>AL669831.1;AL669831.5</td>\n",
       "      <td>ENSG00000228327;ENSG00000237491</td>\n",
       "    </tr>\n",
       "    <tr>\n",
       "      <th>1</th>\n",
       "      <td>chr1</td>\n",
       "      <td>753344</td>\n",
       "      <td>753691</td>\n",
       "      <td>*</td>\n",
       "      <td>e_chr1:753345_753691</td>\n",
       "      <td>AL669831.1;AL669831.5</td>\n",
       "      <td>ENSG00000228327;ENSG00000237491</td>\n",
       "    </tr>\n",
       "    <tr>\n",
       "      <th>2</th>\n",
       "      <td>chr1</td>\n",
       "      <td>773729</td>\n",
       "      <td>773958</td>\n",
       "      <td>*</td>\n",
       "      <td>e_chr1:773730_773958</td>\n",
       "      <td>AL669831.1;AL669831.5</td>\n",
       "      <td>ENSG00000228327;ENSG00000237491</td>\n",
       "    </tr>\n",
       "    <tr>\n",
       "      <th>3</th>\n",
       "      <td>chr1</td>\n",
       "      <td>778091</td>\n",
       "      <td>778515</td>\n",
       "      <td>*</td>\n",
       "      <td>e_chr1:778092_778515</td>\n",
       "      <td>LINC00115;LINC01128</td>\n",
       "      <td>ENSG00000225880;ENSG00000228794</td>\n",
       "    </tr>\n",
       "    <tr>\n",
       "      <th>4</th>\n",
       "      <td>chr1</td>\n",
       "      <td>779960</td>\n",
       "      <td>780218</td>\n",
       "      <td>*</td>\n",
       "      <td>e_chr1:779961_780218</td>\n",
       "      <td>AL669831.1;AL669831.5</td>\n",
       "      <td>ENSG00000228327;ENSG00000237491</td>\n",
       "    </tr>\n",
       "  </tbody>\n",
       "</table>\n",
       "</div>"
      ],
      "text/plain": [
       "  e_chr  e_start   e_end e_strand                enh_id  \\\n",
       "0  chr1   752447  752795        *  e_chr1:752448_752795   \n",
       "1  chr1   753344  753691        *  e_chr1:753345_753691   \n",
       "2  chr1   773729  773958        *  e_chr1:773730_773958   \n",
       "3  chr1   778091  778515        *  e_chr1:778092_778515   \n",
       "4  chr1   779960  780218        *  e_chr1:779961_780218   \n",
       "\n",
       "                  sym_id                           ens_id  \n",
       "0  AL669831.1;AL669831.5  ENSG00000228327;ENSG00000237491  \n",
       "1  AL669831.1;AL669831.5  ENSG00000228327;ENSG00000237491  \n",
       "2  AL669831.1;AL669831.5  ENSG00000228327;ENSG00000237491  \n",
       "3    LINC00115;LINC01128  ENSG00000225880;ENSG00000228794  \n",
       "4  AL669831.1;AL669831.5  ENSG00000228327;ENSG00000237491  "
      ]
     },
     "metadata": {},
     "output_type": "display_data"
    }
   ],
   "source": [
    "focs = pd.read_table(\"/users/ldog/moyon/Thesis/RegulationData/hg19/enhancers/FOCS/raw/roadmap_interactions.txt\")\n",
    "display(focs.columns)\n",
    "print(\"\\n\")\n",
    "red_df_focs = focs.loc[:,['e_chr','e_start','e_end','e_strand','enh_id','sym_id','ens_id']].sort_values(by=['e_chr','e_start']).reset_index(drop=True)\n",
    "red_df_focs['e_start'] = red_df_focs.e_start.astype(int)\n",
    "red_df_focs['e_end'] = red_df_focs.e_end.astype(int)\n",
    "display(red_df_focs.head())"
   ]
  },
  {
   "cell_type": "code",
   "execution_count": 368,
   "metadata": {
    "ExecuteTime": {
     "end_time": "2018-12-18T16:55:36.887837Z",
     "start_time": "2018-12-18T16:55:10.553987Z"
    }
   },
   "outputs": [
    {
     "name": "stdout",
     "output_type": "stream",
     "text": [
      "Percentage of genes in GENCODE mapping: 0.973 (13,476 / 13,852)\n",
      "Number of gene names that can be updated: 209\n",
      "Number of gene names that cannot be updated: 164\n",
      "Finale number of genes to update: 209 (0 could have an update, but it's not found in GENCODE.)\n",
      "\n",
      "\n",
      "CPU times: user 26.2 s, sys: 104 ms, total: 26.3 s\n",
      "Wall time: 26.3 s\n"
     ]
    }
   ],
   "source": [
    "%%time\n",
    "\n",
    "total_genes_focs = pd.Series(list(itt.chain(*focs.sym_id.replace(np.nan,'').str.split(';').values))).unique()\n",
    "\n",
    "focs_missing = []\n",
    "\n",
    "for g in total_genes_focs:\n",
    "    if g not in gencode_gene_table.gene_name.values:\n",
    "        focs_missing.append(g)\n",
    "        \n",
    "focs_missing = pd.Series(focs_missing)\n",
    "        \n",
    "print(\"Percentage of genes in GENCODE mapping: {:.3f} ({:,} / {:,})\".format((len(total_genes_focs)-len(focs_missing))/len(total_genes_focs), \n",
    "                                                                    (len(total_genes_focs)-len(focs_missing)),len(total_genes_focs)))\n",
    "\n",
    "\n",
    "(focs_update_symbols,\n",
    " focs_ignored_genes,\n",
    " focs_false_positives_prev,\n",
    " focs_false_positives_syn,\n",
    " focs_genes_not_found) = get_updated_symbols(focs_missing, hgnc_gene_table)\n",
    "\n",
    "print(\"Number of gene names that can be updated: {:,}\".format(len(focs_update_symbols)))\n",
    "print(\"Number of gene names that cannot be updated: {:,}\".format(len(focs_genes_not_found)))\n",
    "\n",
    "# We still need to check that the updated version of gene names is in the GENCODE file.\n",
    "finale_update_focs_g = {}\n",
    "for k, v in focs_update_symbols.items():\n",
    "    if v not in gencode_gene_table.gene_name.values:\n",
    "        continue\n",
    "    else:\n",
    "        finale_update_focs_g[k] = v\n",
    "        \n",
    "print(\"Finale number of genes to update: {:,} ({:,} could have an update, but it's not found in GENCODE.)\\n\\n\".format(len(finale_update_focs_g),(len(focs_update_symbols)-len(finale_update_focs_g))))"
   ]
  },
  {
   "cell_type": "code",
   "execution_count": 369,
   "metadata": {
    "ExecuteTime": {
     "end_time": "2018-12-18T16:55:38.398469Z",
     "start_time": "2018-12-18T16:55:36.890592Z"
    }
   },
   "outputs": [
    {
     "name": "stdout",
     "output_type": "stream",
     "text": [
      "CPU times: user 1.46 s, sys: 36 ms, total: 1.5 s\n",
      "Wall time: 1.5 s\n"
     ]
    }
   ],
   "source": [
    "%%time\n",
    "# Now apply this dictionarry\n",
    "new_targs_focs = red_df_focs.sym_id.replace(np.nan,'').apply(\n",
    "                    lambda v: ';'.join([finale_update_focs_g.get(g,'') if g in focs_missing.values else g\n",
    "                                        for g in v.split(',')]).strip(' ; '))\n",
    "red_df_focs['new_targets'] = new_targs_focs\n",
    "\n",
    "red_df_focs = red_df_focs.loc[~(red_df_focs['new_targets'].replace(np.nan,'')==''),:]"
   ]
  },
  {
   "cell_type": "markdown",
   "metadata": {},
   "source": [
    "Below is the part where I check if there's regions that overlap in the bed file. I merge them if so."
   ]
  },
  {
   "cell_type": "code",
   "execution_count": 370,
   "metadata": {
    "ExecuteTime": {
     "end_time": "2018-12-18T16:55:39.297559Z",
     "start_time": "2018-12-18T16:55:38.401160Z"
    }
   },
   "outputs": [
    {
     "name": "stdout",
     "output_type": "stream",
     "text": [
      "Shape before merge: 41,708 ; shape after merge: 34,333\n",
      "\n",
      "\n",
      "CPU times: user 160 ms, sys: 268 ms, total: 428 ms\n",
      "Wall time: 889 ms\n"
     ]
    }
   ],
   "source": [
    "%%time\n",
    "# Do not overlap book-ended regions\n",
    "merged_df_focs = pbt.BedTool.from_dataframe(red_df_focs.iloc[:,[0,1,2]]).sort().merge(d=-1).to_dataframe()\n",
    "print(\"Shape before merge: {:,} ; shape after merge: {:,}\\n\\n\".format(red_df_focs.shape[0], merged_df_focs.shape[0]))"
   ]
  },
  {
   "cell_type": "markdown",
   "metadata": {},
   "source": [
    "This means that I need to perform a merging of regions...\n",
    "\n",
    "Since there's no particular score associated to the enhancer/target predictions, I can simply assign the \"new targets\" names as the \"name\" of each regions ; then I perform the merging with bedops, and new regions will be named as the accumulation of the target names."
   ]
  },
  {
   "cell_type": "code",
   "execution_count": 371,
   "metadata": {
    "ExecuteTime": {
     "end_time": "2018-12-18T16:55:40.283217Z",
     "start_time": "2018-12-18T16:55:39.301173Z"
    },
    "scrolled": true
   },
   "outputs": [
    {
     "name": "stdout",
     "output_type": "stream",
     "text": [
      "0\n"
     ]
    },
    {
     "data": {
      "text/html": [
       "<div>\n",
       "<style scoped>\n",
       "    .dataframe tbody tr th:only-of-type {\n",
       "        vertical-align: middle;\n",
       "    }\n",
       "\n",
       "    .dataframe tbody tr th {\n",
       "        vertical-align: top;\n",
       "    }\n",
       "\n",
       "    .dataframe thead th {\n",
       "        text-align: right;\n",
       "    }\n",
       "</style>\n",
       "<table border=\"1\" class=\"dataframe\">\n",
       "  <thead>\n",
       "    <tr style=\"text-align: right;\">\n",
       "      <th></th>\n",
       "      <th>chrom</th>\n",
       "      <th>start</th>\n",
       "      <th>end</th>\n",
       "      <th>name</th>\n",
       "    </tr>\n",
       "  </thead>\n",
       "  <tbody>\n",
       "    <tr>\n",
       "      <th>0</th>\n",
       "      <td>chr1</td>\n",
       "      <td>752447</td>\n",
       "      <td>752795</td>\n",
       "      <td>AL669831.1;AL669831.5</td>\n",
       "    </tr>\n",
       "    <tr>\n",
       "      <th>1</th>\n",
       "      <td>chr1</td>\n",
       "      <td>753344</td>\n",
       "      <td>753691</td>\n",
       "      <td>AL669831.1;AL669831.5</td>\n",
       "    </tr>\n",
       "    <tr>\n",
       "      <th>2</th>\n",
       "      <td>chr1</td>\n",
       "      <td>773729</td>\n",
       "      <td>773958</td>\n",
       "      <td>AL669831.1;AL669831.5</td>\n",
       "    </tr>\n",
       "    <tr>\n",
       "      <th>3</th>\n",
       "      <td>chr1</td>\n",
       "      <td>778091</td>\n",
       "      <td>778515</td>\n",
       "      <td>LINC00115;LINC01128</td>\n",
       "    </tr>\n",
       "    <tr>\n",
       "      <th>4</th>\n",
       "      <td>chr1</td>\n",
       "      <td>779960</td>\n",
       "      <td>780218</td>\n",
       "      <td>SAMD11|AL669831.1;AL669831.5</td>\n",
       "    </tr>\n",
       "  </tbody>\n",
       "</table>\n",
       "</div>"
      ],
      "text/plain": [
       "  chrom   start     end                          name\n",
       "0  chr1  752447  752795         AL669831.1;AL669831.5\n",
       "1  chr1  753344  753691         AL669831.1;AL669831.5\n",
       "2  chr1  773729  773958         AL669831.1;AL669831.5\n",
       "3  chr1  778091  778515           LINC00115;LINC01128\n",
       "4  chr1  779960  780218  SAMD11|AL669831.1;AL669831.5"
      ]
     },
     "metadata": {},
     "output_type": "display_data"
    }
   ],
   "source": [
    "output_df_focs_tmp = red_df_focs.assign(name = red_df_focs.new_targets\n",
    "                                 ).loc[:,['e_chr','e_start','e_end','name']]\n",
    "\n",
    "output_df_focs_tmp.to_csv(\"/localtmp/moyon/tmp_focs_roadmap.tsv\",header=False,index=False,sep=\"\\t\")\n",
    "\n",
    "res_call = subprocess.call((command_line_merge\n",
    "                           ).format(inputfile=\"/localtmp/moyon/tmp_focs_roadmap.tsv\",\n",
    "                                    outputfile=\"/localtmp/moyon/tmp_MERGED_focs_roadmap.tsv\",\n",
    "                                    delim=\"\\|\"\n",
    "                                   ), shell=True)\n",
    "print(res_call)\n",
    "\n",
    "assert res_call==0, \"Error while generating the merged version of the file.\"\n",
    "\n",
    "finale_merged_df_focs = pd.read_table(\"/localtmp/moyon/tmp_MERGED_focs_roadmap.tsv\",header=None,names=['chrom','start','end','name'])\n",
    "\n",
    "display(finale_merged_df_focs.head())"
   ]
  },
  {
   "cell_type": "markdown",
   "metadata": {},
   "source": [
    "Here we sort-of have the possibility to compute a score : the number of times a gene appears in the list corresponds to the number of overlapping enhancers that were seen as associated to that gene."
   ]
  },
  {
   "cell_type": "code",
   "execution_count": 372,
   "metadata": {
    "ExecuteTime": {
     "end_time": "2018-12-18T16:58:46.762112Z",
     "start_time": "2018-12-18T16:55:40.289739Z"
    },
    "scrolled": true
   },
   "outputs": [
    {
     "name": "stdout",
     "output_type": "stream",
     "text": [
      "0           score:1,targets:AL669831.1;AL669831.5\n",
      "1           score:1,targets:AL669831.1;AL669831.5\n",
      "2           score:1,targets:AL669831.1;AL669831.5\n",
      "3             score:1,targets:LINC00115;LINC01128\n",
      "4    score:1,targets:SAMD11;AL669831.1;AL669831.5\n",
      "Name: name, dtype: object\n"
     ]
    },
    {
     "data": {
      "text/plain": [
       "None"
      ]
     },
     "metadata": {},
     "output_type": "display_data"
    },
    {
     "name": "stdout",
     "output_type": "stream",
     "text": [
      "\n",
      "\n",
      "CPU times: user 3min 5s, sys: 936 ms, total: 3min 6s\n",
      "Wall time: 3min 6s\n"
     ]
    }
   ],
   "source": [
    "%%time\n",
    "merged_df_focs_names = finale_merged_df_focs['name'].apply(lambda v: from_list_genes_to_kv_pairs(v))\n",
    "display(print(merged_df_focs_names.iloc[:5]))\n",
    "print(\"\\n\")"
   ]
  },
  {
   "cell_type": "code",
   "execution_count": 373,
   "metadata": {
    "ExecuteTime": {
     "end_time": "2018-12-18T16:58:48.840733Z",
     "start_time": "2018-12-18T16:58:46.773610Z"
    }
   },
   "outputs": [
    {
     "data": {
      "text/html": [
       "<div>\n",
       "<style scoped>\n",
       "    .dataframe tbody tr th:only-of-type {\n",
       "        vertical-align: middle;\n",
       "    }\n",
       "\n",
       "    .dataframe tbody tr th {\n",
       "        vertical-align: top;\n",
       "    }\n",
       "\n",
       "    .dataframe thead th {\n",
       "        text-align: right;\n",
       "    }\n",
       "</style>\n",
       "<table border=\"1\" class=\"dataframe\">\n",
       "  <thead>\n",
       "    <tr style=\"text-align: right;\">\n",
       "      <th></th>\n",
       "      <th>chrom</th>\n",
       "      <th>start</th>\n",
       "      <th>end</th>\n",
       "      <th>name</th>\n",
       "    </tr>\n",
       "  </thead>\n",
       "  <tbody>\n",
       "    <tr>\n",
       "      <th>0</th>\n",
       "      <td>chr1</td>\n",
       "      <td>752447</td>\n",
       "      <td>752795</td>\n",
       "      <td>score:1,targets:AL669831.1;AL669831.5</td>\n",
       "    </tr>\n",
       "    <tr>\n",
       "      <th>1</th>\n",
       "      <td>chr1</td>\n",
       "      <td>753344</td>\n",
       "      <td>753691</td>\n",
       "      <td>score:1,targets:AL669831.1;AL669831.5</td>\n",
       "    </tr>\n",
       "    <tr>\n",
       "      <th>2</th>\n",
       "      <td>chr1</td>\n",
       "      <td>773729</td>\n",
       "      <td>773958</td>\n",
       "      <td>score:1,targets:AL669831.1;AL669831.5</td>\n",
       "    </tr>\n",
       "  </tbody>\n",
       "</table>\n",
       "</div>"
      ],
      "text/plain": [
       "  chrom   start     end                                   name\n",
       "0  chr1  752447  752795  score:1,targets:AL669831.1;AL669831.5\n",
       "1  chr1  753344  753691  score:1,targets:AL669831.1;AL669831.5\n",
       "2  chr1  773729  773958  score:1,targets:AL669831.1;AL669831.5"
      ]
     },
     "metadata": {},
     "output_type": "display_data"
    },
    {
     "name": "stdout",
     "output_type": "stream",
     "text": [
      "0\n",
      "0\n"
     ]
    }
   ],
   "source": [
    "output_df_focs = finale_merged_df_focs.assign(name=merged_df_focs_names.values\n",
    "                                 ).loc[:,['chrom','start','end','name']]\n",
    "\n",
    "display(output_df_focs.head(3))\n",
    "\n",
    "pbt.BedTool.from_dataframe(output_df_focs\n",
    "                           ).sort().to_dataframe().to_csv(\n",
    "    \"/users/ldog/moyon/Thesis/RegulationData/hg19/enhancers/FOCS/roadmap_enh.bed\",\n",
    "                     header=False,index=False,sep=\"\\t\")\n",
    "\n",
    "\n",
    "if os.path.exists(\"/users/ldog/moyon/Thesis/RegulationData/hg19/enhancers/FOCS/roadmap_enh.bed.gz\"):\n",
    "    os.remove(\"/users/ldog/moyon/Thesis/RegulationData/hg19/enhancers/FOCS/roadmap_enh.bed.gz\")\n",
    "    \n",
    "if os.path.exists(\"/users/ldog/moyon/Thesis/RegulationData/hg19/enhancers/FOCS/roadmap_enh.bed.gz.tbi\"):\n",
    "    os.remove(\"/users/ldog/moyon/Thesis/RegulationData/hg19/enhancers/FOCS/roadmap_enh.bed.gz.tbi\")\n",
    "    \n",
    "\n",
    "res_call = subprocess.call('bgzip {}'.format(\"/users/ldog/moyon/Thesis/RegulationData/hg19/enhancers/FOCS/roadmap_enh.bed\"), shell=True)\n",
    "print(res_call)\n",
    "# Now call tabix\n",
    "res_call = subprocess.call('tabix -p bed -0 {}'.format(\"/users/ldog/moyon/Thesis/RegulationData/hg19/enhancers/FOCS/roadmap_enh.bed.gz\"), shell=True)\n",
    "print(res_call)\n",
    "# Don't forget to run bgzip and tabix -0 -p bed"
   ]
  }
 ],
 "metadata": {
  "kernelspec": {
   "display_name": "Python 3",
   "language": "python",
   "name": "python3"
  },
  "language_info": {
   "codemirror_mode": {
    "name": "ipython",
    "version": 3
   },
   "file_extension": ".py",
   "mimetype": "text/x-python",
   "name": "python",
   "nbconvert_exporter": "python",
   "pygments_lexer": "ipython3",
   "version": "3.6.8"
  },
  "toc": {
   "colors": {
    "hover_highlight": "#DAA520",
    "running_highlight": "#FF0000",
    "selected_highlight": "#FFD700"
   },
   "moveMenuLeft": true,
   "nav_menu": {
    "height": "156px",
    "width": "252px"
   },
   "navigate_menu": true,
   "number_sections": true,
   "sideBar": true,
   "threshold": 4,
   "toc_cell": false,
   "toc_position": {
    "height": "1212px",
    "left": "0px",
    "right": "2314px",
    "top": "110px",
    "width": "212px"
   },
   "toc_section_display": "block",
   "toc_window_display": true,
   "widenNotebook": false
  }
 },
 "nbformat": 4,
 "nbformat_minor": 2
}
